{
 "cells": [
  {
   "cell_type": "markdown",
   "metadata": {},
   "source": [
    "## Goals:\n",
    "\n",
    "**1. Determine the primary drivers of sentiment in the flavor text of Magic: The Gathering cards.**\n",
    "\n",
    "**2. Develop a model to predict the sentiment of flavor text in Magic: The Gathering cards.**"
   ]
  },
  {
   "cell_type": "code",
   "execution_count": 1,
   "metadata": {},
   "outputs": [],
   "source": [
    "# imports and display options\n",
    "\n",
    "import pandas as pd\n",
    "import numpy as np\n",
    "import math\n",
    "\n",
    "from vaderSentiment.vaderSentiment import SentimentIntensityAnalyzer\n",
    "\n",
    "from sklearn.preprocessing import LabelEncoder, OneHotEncoder\n",
    "from sklearn.linear_model import LinearRegression\n",
    "\n",
    "\n",
    "import seaborn as sns\n",
    "import matplotlib.pyplot as plt\n",
    "%matplotlib inline\n",
    "\n",
    "import warnings\n",
    "warnings.filterwarnings(\"ignore\")\n",
    "\n",
    "import prepare as p\n",
    "\n",
    "pd.set_option('display.max_colwidth', -1)"
   ]
  },
  {
   "cell_type": "markdown",
   "metadata": {},
   "source": [
    "# Acquire\n",
    "\n",
    "* A CSV, containing an up to date breakdown of each Magic card that has been printed so far, was obtained from MTGJSON.com. \n",
    "* Each row represented a card or a version of a card.The dataframe contained 50,412 rows and 71 columns.\n",
    "* The CSV was read into a pandas dataframe"
   ]
  },
  {
   "cell_type": "markdown",
   "metadata": {},
   "source": [
    "# Prepare\n",
    "\n",
    "The following steps were taken to prepare the data:\n",
    "\n",
    "1. Data frame was restricted to relevant columns\n",
    " \n",
    "2. Restricted dataframe to only rows containing cards that exist in physical form\n",
    "\n",
    "3. Restricted dataframe to only row containing a flavor text\n",
    "\n",
    "4. Restricted dataframe to only rows with a single color-identity\n",
    "\n",
    "5. Merged rows with similar or overlapping types into one of the seven major game types\n",
    "\n",
    "6. Restricted dataframe to include only rows with a single type belonging to one of the major game types\n",
    "\n",
    "7. Cleaned up flavor text then aggregated on flavorText in an attempt to eliminate duplicates. This gave some success. However, it is likely that a few duplicates remain.\n",
    "\n",
    "8. Reordered columns\n",
    "\n",
    "9. Dropped rows where the flavor text was not in english \n",
    "\n",
    "10. Dropped rows with duplicates I happened to spot\n",
    "\n",
    "11. Added sentiment column showing compound sentiment score using VADER\n",
    "\n",
    "12. Added intensity column showing the absolute value of the compound sentiment score \n",
    "\n",
    "13. Renamed columns\n",
    "\n",
    "14. Rounded number values in the data frame to two decimals\t\n",
    "\n",
    "Prepared data was then written to ‘mtgprep.csv’\n"
   ]
  },
  {
   "cell_type": "markdown",
   "metadata": {},
   "source": [
    "### Worth Noting:\n",
    "Typically, at the end of the preparation step, data would be divided into a test and train group to avoid overfitting the resulting model. In this study, our sample includes every applicable card that has been printed until now. This puts us in the unique position of having a sample size that is identical to its population size. It is therefore not be possible for the model to be overfit. For this reason, I have elected not to split the data.\n",
    "\n"
   ]
  },
  {
   "cell_type": "code",
   "execution_count": 2,
   "metadata": {},
   "outputs": [
    {
     "data": {
      "text/html": [
       "<div>\n",
       "<style scoped>\n",
       "    .dataframe tbody tr th:only-of-type {\n",
       "        vertical-align: middle;\n",
       "    }\n",
       "\n",
       "    .dataframe tbody tr th {\n",
       "        vertical-align: top;\n",
       "    }\n",
       "\n",
       "    .dataframe thead th {\n",
       "        text-align: right;\n",
       "    }\n",
       "</style>\n",
       "<table border=\"1\" class=\"dataframe\">\n",
       "  <thead>\n",
       "    <tr style=\"text-align: right;\">\n",
       "      <th></th>\n",
       "      <th>color</th>\n",
       "      <th>type</th>\n",
       "      <th>cost</th>\n",
       "      <th>rarity</th>\n",
       "      <th>flavor</th>\n",
       "      <th>sentiment</th>\n",
       "      <th>intensity</th>\n",
       "    </tr>\n",
       "  </thead>\n",
       "  <tbody>\n",
       "    <tr>\n",
       "      <td>0</td>\n",
       "      <td>Green</td>\n",
       "      <td>Creature</td>\n",
       "      <td>5.0</td>\n",
       "      <td>common</td>\n",
       "      <td>\" . . . And the third little boar built his house out of rootwalla plates . . . .\"</td>\n",
       "      <td>0.0</td>\n",
       "      <td>0.0</td>\n",
       "    </tr>\n",
       "    <tr>\n",
       "      <td>1</td>\n",
       "      <td>Black</td>\n",
       "      <td>Creature</td>\n",
       "      <td>1.0</td>\n",
       "      <td>common</td>\n",
       "      <td>\" . . . Cao Pi, Cao Rui, Fang, Mao, and briefly, Huan—  The Sima took the empire in their turn. . . .\"</td>\n",
       "      <td>0.0</td>\n",
       "      <td>0.0</td>\n",
       "    </tr>\n",
       "    <tr>\n",
       "      <td>2</td>\n",
       "      <td>Blue</td>\n",
       "      <td>Creature</td>\n",
       "      <td>5.0</td>\n",
       "      <td>uncommon</td>\n",
       "      <td>\" . . . When the trees bow down their heads, The wind is passing by.\"</td>\n",
       "      <td>0.0</td>\n",
       "      <td>0.0</td>\n",
       "    </tr>\n",
       "    <tr>\n",
       "      <td>3</td>\n",
       "      <td>White</td>\n",
       "      <td>Creature</td>\n",
       "      <td>4.0</td>\n",
       "      <td>uncommon</td>\n",
       "      <td>\" . . . and you must also apply for an application license, file documents 136(iv) and 22-C and -D in triplicate, pay all requisite fees, request a . . .\"</td>\n",
       "      <td>-0.1</td>\n",
       "      <td>0.1</td>\n",
       "    </tr>\n",
       "    <tr>\n",
       "      <td>4</td>\n",
       "      <td>Green</td>\n",
       "      <td>Creature</td>\n",
       "      <td>4.0</td>\n",
       "      <td>common</td>\n",
       "      <td>\"'Air superiority?' Not while our archers scan the skies.\"</td>\n",
       "      <td>0.0</td>\n",
       "      <td>0.0</td>\n",
       "    </tr>\n",
       "  </tbody>\n",
       "</table>\n",
       "</div>"
      ],
      "text/plain": [
       "   color      type  cost    rarity  \\\n",
       "0  Green  Creature  5.0   common     \n",
       "1  Black  Creature  1.0   common     \n",
       "2  Blue   Creature  5.0   uncommon   \n",
       "3  White  Creature  4.0   uncommon   \n",
       "4  Green  Creature  4.0   common     \n",
       "\n",
       "                                                                                                                                                       flavor  \\\n",
       "0  \" . . . And the third little boar built his house out of rootwalla plates . . . .\"                                                                           \n",
       "1  \" . . . Cao Pi, Cao Rui, Fang, Mao, and briefly, Huan—  The Sima took the empire in their turn. . . .\"                                                       \n",
       "2  \" . . . When the trees bow down their heads, The wind is passing by.\"                                                                                        \n",
       "3  \" . . . and you must also apply for an application license, file documents 136(iv) and 22-C and -D in triplicate, pay all requisite fees, request a . . .\"   \n",
       "4  \"'Air superiority?' Not while our archers scan the skies.\"                                                                                                   \n",
       "\n",
       "   sentiment  intensity  \n",
       "0  0.0        0.0        \n",
       "1  0.0        0.0        \n",
       "2  0.0        0.0        \n",
       "3 -0.1        0.1        \n",
       "4  0.0        0.0        "
      ]
     },
     "execution_count": 2,
     "metadata": {},
     "output_type": "execute_result"
    }
   ],
   "source": [
    "# load and prepare data\n",
    "df = p.get_mtg_data()\n",
    "\n",
    "df.head()"
   ]
  },
  {
   "cell_type": "markdown",
   "metadata": {},
   "source": [
    "## Data Dictionary:\n",
    "\n",
    "1. Magic: The Gatherin\n",
    "    * a collectable card game developed by Wizards of the Coast Inc. In a typical game, each player combines a selection of cards from their collection into his or her own deck, which they use to compete against other players. Thematically, players assume the roles of powerful mages fighting for supremacy. Cards in each players deck represent spells and other resources each player’s disposal. A game typically ends when all but one of the participating players is reduced to zero “life” or is otherwise eliminated from the game.\n",
    "\n",
    "### Columns\n",
    "\n",
    "2. Color\n",
    "    * Spells players can cast are divided into five different colors. Each color is thematically distinct. \n",
    "    * White represents order and morality. \n",
    "    * Blue represents cunning and technology.\n",
    "    * Black represents pragmatism, and amorality. \n",
    "    * Red represents impulse and chaos. \n",
    "    * Green represents nature and instinct.\n",
    "    <br /> \n",
    "    \n",
    "\n",
    "3. Type\n",
    "    * Spells player can cast are also divided by type: a spells type is the kind of effect that the spell has. \n",
    "    * Creatures represent ‘living’ beings that players summon to fight on their behalf. \n",
    "    * Artifacts represent powerful items that players can use to various effects. \n",
    "    * Enchantments represent players ability to augment the battlefield as well as things on the battlefield.\n",
    "    * Instants and sorceries represent immediate and short-lived effects, such as throwing a fire ball. Instants are considered ‘faster’ than sorceries because they can be played on another player’s turn.\n",
    "    * Planeswalkers represent other powerful mages the player has called to aid him or her.\n",
    "    * Lands are not considered spells. they are where a player gathers ‘mana,’ the games resource used for casting spells. Different lands produce mana of different color, colors, or no color. \n",
    "    <br />  \n",
    "    \n",
    "\n",
    "4. Cost\n",
    "    * The cost of the spell represents the amount of ‘mana,’ the games spell casting resource a player has to spend in order to cast that spell.\n",
    "     <br />  \n",
    "     \n",
    "\n",
    "5. Rarity\n",
    "    * When opening a standard booster pack of Magic: the Gathering cards players receive ten common cards, three uncommon cards, and one rare card\n",
    "    * 1 in 8 packs will contain a mythic rare instead of a rare\n",
    "     <br />   \n",
    "     \n",
    "\n",
    "6. Flavor\n",
    "    * shows the flavor text of the card \n",
    "    * this text has no mechanical effect on games, but serve to reinforce the games themes and thus add “flavor” to the card\n",
    "     <br />   \n",
    "     \n",
    "\n",
    "7. Sentiment \n",
    "    * shows the compound sentiment score for the corresponding flavor text \n",
    "    * using the vader sentiment analyser\n",
    "     <br />   \n",
    "     \n",
    "\n",
    "8. Intensity\n",
    "    * shows the intensity of the corresponding flavor text, disregarding if it is positive or negative\n",
    "    * calculated by taking the absolute value of the sentiment score for the corresponding flavor text\n",
    "     <br />   \n",
    "     "
   ]
  },
  {
   "cell_type": "markdown",
   "metadata": {},
   "source": [
    "# Explore"
   ]
  },
  {
   "cell_type": "markdown",
   "metadata": {},
   "source": [
    "### Hypothesis/Initial Thoughts\n",
    "\n",
    "I believe that color will be the most significant driver of sentiment, as it is the aspect of a card that seems most tied to the game’s them. The themes white is associated with seem to have a greater propensity for positive sentiment than do the themes black is associated with, which seem to have a greater propensity for negative sentiment. Another possibility is that cards with higher cost (and thus more dramatic effects on the game) will have a higher intensity. Although I do not know if it will be positive or negative. Aside from that, I am unsure what effect the other features might have. I do expect to see some difference, but I do not yet know what that will be."
   ]
  },
  {
   "cell_type": "markdown",
   "metadata": {},
   "source": [
    "### What does the data look like?"
   ]
  },
  {
   "cell_type": "markdown",
   "metadata": {},
   "source": [
    "The fully prepared data frame contains:\n",
    "\n",
    "1. 12,448 rows and 7 columns\n",
    "    * There are about 20,000 cards in circulation, so 12,488 that remain after preparation represent a good sample of the available cards\n",
    "2. four features representing how the card is categorized (datatype object)\n",
    "3. one feature representing Mana cost of the card (datatype float64)\n"
   ]
  },
  {
   "cell_type": "code",
   "execution_count": 3,
   "metadata": {},
   "outputs": [
    {
     "data": {
      "text/plain": [
       "(12448, 7)"
      ]
     },
     "execution_count": 3,
     "metadata": {},
     "output_type": "execute_result"
    }
   ],
   "source": [
    "df.shape"
   ]
  },
  {
   "cell_type": "code",
   "execution_count": 4,
   "metadata": {},
   "outputs": [
    {
     "name": "stdout",
     "output_type": "stream",
     "text": [
      "<class 'pandas.core.frame.DataFrame'>\n",
      "RangeIndex: 12448 entries, 0 to 12447\n",
      "Data columns (total 7 columns):\n",
      "color        12448 non-null object\n",
      "type         12448 non-null object\n",
      "cost         12448 non-null float64\n",
      "rarity       12448 non-null object\n",
      "flavor       12448 non-null object\n",
      "sentiment    12448 non-null float64\n",
      "intensity    12448 non-null float64\n",
      "dtypes: float64(3), object(4)\n",
      "memory usage: 680.9+ KB\n"
     ]
    }
   ],
   "source": [
    "df.info()"
   ]
  },
  {
   "cell_type": "markdown",
   "metadata": {},
   "source": [
    "### Observations:\n",
    "\n",
    "1. mean sentiment in slightly negative at -.02, however it is very close to zero\n",
    "2. median sentiment is 0 \n",
    "\n",
    "3. mean intensity is .32 \n",
    "4. median intensity is .32 \n",
    "\n",
    "This suggests that both sentiment and intensity are normally distributed.\n",
    "\n",
    "### Additional Hypothesis: \n",
    "It is possible that there are a large amount of cards that have a sentiment score of 0 . If this is true, and if the cards that had a positive score were normally distributed around .32 and the negative ones around -.32 that would explain these numbers. it would also explain the large standard deviation .42 in sentiment.\n",
    "\n",
    "### observations:\n",
    "\n",
    "1. sentiment scores ranged from -.98 to .95\n",
    "2. intensity scores ranged from 0 to .98\n",
    "\n",
    "This suggests the flavor text covers a wide range of sentimint values. "
   ]
  },
  {
   "cell_type": "code",
   "execution_count": 5,
   "metadata": {},
   "outputs": [
    {
     "data": {
      "text/html": [
       "<div>\n",
       "<style scoped>\n",
       "    .dataframe tbody tr th:only-of-type {\n",
       "        vertical-align: middle;\n",
       "    }\n",
       "\n",
       "    .dataframe tbody tr th {\n",
       "        vertical-align: top;\n",
       "    }\n",
       "\n",
       "    .dataframe thead th {\n",
       "        text-align: right;\n",
       "    }\n",
       "</style>\n",
       "<table border=\"1\" class=\"dataframe\">\n",
       "  <thead>\n",
       "    <tr style=\"text-align: right;\">\n",
       "      <th></th>\n",
       "      <th>cost</th>\n",
       "      <th>sentiment</th>\n",
       "      <th>intensity</th>\n",
       "    </tr>\n",
       "  </thead>\n",
       "  <tbody>\n",
       "    <tr>\n",
       "      <td>count</td>\n",
       "      <td>12448.00000</td>\n",
       "      <td>12448.000000</td>\n",
       "      <td>12448.000000</td>\n",
       "    </tr>\n",
       "    <tr>\n",
       "      <td>mean</td>\n",
       "      <td>3.17541</td>\n",
       "      <td>-0.024446</td>\n",
       "      <td>0.321163</td>\n",
       "    </tr>\n",
       "    <tr>\n",
       "      <td>std</td>\n",
       "      <td>1.61158</td>\n",
       "      <td>0.423125</td>\n",
       "      <td>0.276547</td>\n",
       "    </tr>\n",
       "    <tr>\n",
       "      <td>min</td>\n",
       "      <td>0.00000</td>\n",
       "      <td>-0.980000</td>\n",
       "      <td>0.000000</td>\n",
       "    </tr>\n",
       "    <tr>\n",
       "      <td>25%</td>\n",
       "      <td>2.00000</td>\n",
       "      <td>-0.340000</td>\n",
       "      <td>0.000000</td>\n",
       "    </tr>\n",
       "    <tr>\n",
       "      <td>50%</td>\n",
       "      <td>3.00000</td>\n",
       "      <td>0.000000</td>\n",
       "      <td>0.320000</td>\n",
       "    </tr>\n",
       "    <tr>\n",
       "      <td>75%</td>\n",
       "      <td>4.00000</td>\n",
       "      <td>0.300000</td>\n",
       "      <td>0.540000</td>\n",
       "    </tr>\n",
       "    <tr>\n",
       "      <td>max</td>\n",
       "      <td>15.00000</td>\n",
       "      <td>0.950000</td>\n",
       "      <td>0.980000</td>\n",
       "    </tr>\n",
       "  </tbody>\n",
       "</table>\n",
       "</div>"
      ],
      "text/plain": [
       "              cost     sentiment     intensity\n",
       "count  12448.00000  12448.000000  12448.000000\n",
       "mean   3.17541     -0.024446      0.321163    \n",
       "std    1.61158      0.423125      0.276547    \n",
       "min    0.00000     -0.980000      0.000000    \n",
       "25%    2.00000     -0.340000      0.000000    \n",
       "50%    3.00000      0.000000      0.320000    \n",
       "75%    4.00000      0.300000      0.540000    \n",
       "max    15.00000     0.950000      0.980000    "
      ]
     },
     "execution_count": 5,
     "metadata": {},
     "output_type": "execute_result"
    }
   ],
   "source": [
    "df.describe()"
   ]
  },
  {
   "cell_type": "markdown",
   "metadata": {},
   "source": [
    "### How balanced are the features in  the data set?\n",
    "\n",
    "* Color counts are about even\n",
    "* types are very unevenly distributed Creature is the largest with 6978 and Planeswalker is the smallest with 1\n",
    "* Cost appears normally distributed around 3\n",
    "* rarity is unevenly distributed with common being the largest with 5927 and mythic being the smallest at 163 \n"
   ]
  },
  {
   "cell_type": "code",
   "execution_count": 6,
   "metadata": {},
   "outputs": [
    {
     "name": "stdout",
     "output_type": "stream",
     "text": [
      "color value counts\n",
      "Red      2562\n",
      "White    2557\n",
      "Black    2473\n",
      "Green    2453\n",
      "Blue     2403\n",
      "Name: color, dtype: int64\n",
      "\n",
      "type value counts\n",
      "Creature        6978\n",
      "Instant         2016\n",
      "Sorcery         1762\n",
      "Enchantment     1573\n",
      "Land            77  \n",
      "Artifact        41  \n",
      "Planeswalker    1   \n",
      "Name: type, dtype: int64\n",
      "\n",
      "cost value counts\n",
      "3.0     3037\n",
      "2.0     2882\n",
      "4.0     2289\n",
      "1.0     1734\n",
      "5.0     1397\n",
      "6.0     645 \n",
      "7.0     244 \n",
      "8.0     90  \n",
      "0.0     80  \n",
      "9.0     29  \n",
      "10.0    11  \n",
      "11.0    5   \n",
      "12.0    2   \n",
      "15.0    1   \n",
      "14.0    1   \n",
      "0.5     1   \n",
      "Name: cost, dtype: int64\n",
      "\n",
      "rarity value counts\n",
      "common      5926\n",
      "uncommon    3644\n",
      "rare        2715\n",
      "mythic      163 \n",
      "Name: rarity, dtype: int64\n",
      "\n",
      "intensity value counts\n",
      "0.00    3588\n",
      "0.44    344 \n",
      "0.30    326 \n",
      "0.36    320 \n",
      "0.38    298 \n",
      "       ...  \n",
      "0.94    8   \n",
      "0.07    5   \n",
      "0.95    5   \n",
      "0.96    2   \n",
      "0.98    1   \n",
      "Name: intensity, Length: 98, dtype: int64\n",
      "\n"
     ]
    }
   ],
   "source": [
    "for column in df.columns:\n",
    "    \n",
    "    if column not in ('sentiment','flavor'):\n",
    "        print(f'{column} value counts')\n",
    "        print(df[f'{column}'].value_counts())\n",
    "        print('')"
   ]
  },
  {
   "cell_type": "markdown",
   "metadata": {},
   "source": [
    "### How many cards have a sentiment/intensity score of zero?\n",
    "\n",
    "* 0 is the most frequently occurring value (count = 3588)\n",
    "\n",
    "* -.3 is second (count = 253)\n",
    "\n",
    "* .44 is third (count =253)"
   ]
  },
  {
   "cell_type": "code",
   "execution_count": 7,
   "metadata": {},
   "outputs": [
    {
     "data": {
      "text/plain": [
       " 0.00    3588\n",
       "-0.30    253 \n",
       " 0.44    214 \n",
       " 0.36    213 \n",
       " 0.49    165 \n",
       "-0.38    164 \n",
       "-0.34    160 \n",
       "-0.60    157 \n",
       " 0.42    145 \n",
       "-0.48    134 \n",
       "Name: sentiment, dtype: int64"
      ]
     },
     "execution_count": 7,
     "metadata": {},
     "output_type": "execute_result"
    }
   ],
   "source": [
    "df.sentiment.value_counts().head(10)"
   ]
  },
  {
   "cell_type": "markdown",
   "metadata": {},
   "source": [
    "### What is frequency distribution of sentiment scores?\n",
    "\n",
    "* The distribution of positive negitive and zero sentiment scores appears to be about even.\n",
    "* There are slightly more negative sentiment scores in the data set.\n",
    "* Looking at the frquency distributions it appears that the hypothysis is correct. \n",
    "* Taken by themselves, positive and negative sentiment cards appear to be somewhat normally distributed. \n",
    "* When viewed as a whole the data set are not at all normally distributed."
   ]
  },
  {
   "cell_type": "code",
   "execution_count": 8,
   "metadata": {},
   "outputs": [
    {
     "name": "stdout",
     "output_type": "stream",
     "text": [
      "Positive and Negative Sentiment Scores\n",
      "\n",
      "Positive: 0.34%  Negative: 0.38%  Zero: 0.29%\n"
     ]
    }
   ],
   "source": [
    "print(\"Positive and Negative Sentiment Scores\")\n",
    "print('')\n",
    "\n",
    "positive = df[df.sentiment>0].sentiment.count()\n",
    "negative = df[df.sentiment<0].sentiment.count()\n",
    "zero = df[df.sentiment==0].sentiment.count()\n",
    "    \n",
    "total = df.sentiment.count()\n",
    "      \n",
    "    \n",
    "print(f'Positive: {round(positive/total,2)}%  Negative: {round(negative/total,2)}%  Zero: {round(zero/total,2)}%')"
   ]
  },
  {
   "cell_type": "code",
   "execution_count": 9,
   "metadata": {},
   "outputs": [
    {
     "data": {
      "image/png": "[encoded data removed]",
      "text/plain": [
       "<Figure size 432x288 with 1 Axes>"
      ]
     },
     "metadata": {
      "needs_background": "light"
     },
     "output_type": "display_data"
    }
   ],
   "source": [
    "bins =[-1,-.9,-.8,-.7,-.6,-.5,-.4,-.3,-.2,-.1,0,.1,.2,.3,.4,.5,.6,.7,.8,.9,1]\n",
    "\n",
    "\n",
    "\n",
    "sentiment = df['sentiment']\n",
    "\n",
    "plt.hist(sentiment,bins=bins,edgecolor='black')\n",
    "\n",
    "\n",
    "plt.title('Fequency of Sentiment Scores')\n",
    "plt.xlabel('Sentiment Scores')\n",
    "plt.ylabel('Number of Occurances')\n",
    "\n",
    "\n",
    "\n",
    "\n",
    "\n",
    "plt.tight_layout()\n",
    "\n",
    "plt.show()"
   ]
  },
  {
   "cell_type": "code",
   "execution_count": 10,
   "metadata": {},
   "outputs": [
    {
     "data": {
      "image/png": "[encoded data removed]",
      "text/plain": [
       "<Figure size 432x288 with 1 Axes>"
      ]
     },
     "metadata": {
      "needs_background": "light"
     },
     "output_type": "display_data"
    }
   ],
   "source": [
    "bins =[-1,-.9,-.8,-.7,-.6,-.5,-.4,-.3,-.2,-.1,0,.1,.2,.3,.4,.5,.6,.7,.8,.9,1]\n",
    "\n",
    "\n",
    "\n",
    "sentiment = df.sentiment[df.sentiment!=0]\n",
    "\n",
    "plt.hist(sentiment,bins=bins,edgecolor='black')\n",
    "\n",
    "\n",
    "plt.title('Fequency of Sentiment Scores With Zeros Removed')\n",
    "plt.xlabel('Sentiment Scores')\n",
    "plt.ylabel('Number of Occurances')\n",
    "\n",
    "\n",
    "\n",
    "\n",
    "\n",
    "plt.tight_layout()\n",
    "\n",
    "plt.show()"
   ]
  },
  {
   "cell_type": "markdown",
   "metadata": {},
   "source": [
    "### What is frequency distribution of intensity scores?\n",
    "\n",
    "* The most frequent intensity score is 0. \n",
    "* Intensity scores with a non-zero value seem to be normally distributed around .4."
   ]
  },
  {
   "cell_type": "code",
   "execution_count": 11,
   "metadata": {},
   "outputs": [
    {
     "data": {
      "image/png": "[encoded data removed]",
      "text/plain": [
       "<Figure size 432x288 with 1 Axes>"
      ]
     },
     "metadata": {
      "needs_background": "light"
     },
     "output_type": "display_data"
    }
   ],
   "source": [
    "bins =[0,.1,.2,.3,.4,.5,.6,.7,.8,.9,1]\n",
    "\n",
    "\n",
    "\n",
    "intensity = df['intensity']\n",
    "\n",
    "plt.hist(intensity,bins=bins,edgecolor='black')\n",
    "\n",
    "\n",
    "plt.title('Fequency of Intensity Scores')\n",
    "plt.xlabel('Sentiment Scores')\n",
    "plt.ylabel('Number of Occurances')\n",
    "\n",
    "\n",
    "\n",
    "\n",
    "\n",
    "plt.tight_layout()\n",
    "\n",
    "plt.show()"
   ]
  },
  {
   "cell_type": "code",
   "execution_count": 12,
   "metadata": {},
   "outputs": [
    {
     "data": {
      "image/png": "[encoded data removed]",
      "text/plain": [
       "<Figure size 432x288 with 1 Axes>"
      ]
     },
     "metadata": {
      "needs_background": "light"
     },
     "output_type": "display_data"
    }
   ],
   "source": [
    "bins =[0,.1,.2,.3,.4,.5,.6,.7,.8,.9,1]\n",
    "\n",
    "\n",
    "\n",
    "intensity = df.intensity[df.intensity!=0]\n",
    "\n",
    "plt.hist(intensity,bins=bins,edgecolor='black')\n",
    "\n",
    "\n",
    "plt.title('Fequency of Intensity Scores With Zeros Removed')\n",
    "plt.xlabel('Sentiment Scores')\n",
    "plt.ylabel('Number of Occurances')\n",
    "\n",
    "\n",
    "\n",
    "\n",
    "\n",
    "plt.tight_layout()\n",
    "\n",
    "plt.show()"
   ]
  },
  {
   "cell_type": "markdown",
   "metadata": {},
   "source": [
    "### What do high, low, and zero sentiment flavor texts look like?\n",
    "\n",
    "* Highest Sentiment flavor text is: Some spectators love an underdog, but others are just as happy to support a proven winner.\t\n",
    "\n",
    "* Lowest sentiment flavor text is: \"We mourn our dead. We shroud our dead. We bury our dead. Too often, it seems, we must kill our dead again.\"\n",
    "\n",
    "* A zero-sentiment flavor text is: \" . . . And the third little boar built his house out of rootwalla plates . . . .\"\n"
   ]
  },
  {
   "cell_type": "code",
   "execution_count": 13,
   "metadata": {},
   "outputs": [
    {
     "data": {
      "text/html": [
       "<div>\n",
       "<style scoped>\n",
       "    .dataframe tbody tr th:only-of-type {\n",
       "        vertical-align: middle;\n",
       "    }\n",
       "\n",
       "    .dataframe tbody tr th {\n",
       "        vertical-align: top;\n",
       "    }\n",
       "\n",
       "    .dataframe thead th {\n",
       "        text-align: right;\n",
       "    }\n",
       "</style>\n",
       "<table border=\"1\" class=\"dataframe\">\n",
       "  <thead>\n",
       "    <tr style=\"text-align: right;\">\n",
       "      <th></th>\n",
       "      <th>flavor</th>\n",
       "      <th>sentiment</th>\n",
       "    </tr>\n",
       "  </thead>\n",
       "  <tbody>\n",
       "    <tr>\n",
       "      <td>9885</td>\n",
       "      <td>Some spectators love an underdog, but others are just as happy to support a proven winner.</td>\n",
       "      <td>0.95</td>\n",
       "    </tr>\n",
       "    <tr>\n",
       "      <td>8848</td>\n",
       "      <td>MORE TO LOVE: Friendly, nature-loving, Bunyonesque SEM seeks SEF looking for a huge commitment. . . . seeks atog prince</td>\n",
       "      <td>0.94</td>\n",
       "    </tr>\n",
       "    <tr>\n",
       "      <td>3853</td>\n",
       "      <td>\"The aven are heralds of divinity. The greatest glory is to join them in the sky.\"</td>\n",
       "      <td>0.93</td>\n",
       "    </tr>\n",
       "    <tr>\n",
       "      <td>5313</td>\n",
       "      <td>\"When I wish to be strong, I train. When I wish to be wise, I study. When I wish to rest, I start again.\"</td>\n",
       "      <td>0.93</td>\n",
       "    </tr>\n",
       "    <tr>\n",
       "      <td>11771</td>\n",
       "      <td>To become an officer, an Icatian Soldier had to pass a series of tests. These evaluated not only fighting and leadership skills, but also integrity, honor, and moral strength.</td>\n",
       "      <td>0.93</td>\n",
       "    </tr>\n",
       "  </tbody>\n",
       "</table>\n",
       "</div>"
      ],
      "text/plain": [
       "                                                                                                                                                                                flavor  \\\n",
       "9885   Some spectators love an underdog, but others are just as happy to support a proven winner.                                                                                        \n",
       "8848   MORE TO LOVE: Friendly, nature-loving, Bunyonesque SEM seeks SEF looking for a huge commitment. . . . seeks atog prince                                                           \n",
       "3853   \"The aven are heralds of divinity. The greatest glory is to join them in the sky.\"                                                                                                \n",
       "5313   \"When I wish to be strong, I train. When I wish to be wise, I study. When I wish to rest, I start again.\"                                                                         \n",
       "11771  To become an officer, an Icatian Soldier had to pass a series of tests. These evaluated not only fighting and leadership skills, but also integrity, honor, and moral strength.   \n",
       "\n",
       "       sentiment  \n",
       "9885   0.95       \n",
       "8848   0.94       \n",
       "3853   0.93       \n",
       "5313   0.93       \n",
       "11771  0.93       "
      ]
     },
     "execution_count": 13,
     "metadata": {},
     "output_type": "execute_result"
    }
   ],
   "source": [
    "df[['flavor','sentiment']].sort_values('sentiment',ascending=False).head()"
   ]
  },
  {
   "cell_type": "code",
   "execution_count": 14,
   "metadata": {},
   "outputs": [
    {
     "data": {
      "text/html": [
       "<div>\n",
       "<style scoped>\n",
       "    .dataframe tbody tr th:only-of-type {\n",
       "        vertical-align: middle;\n",
       "    }\n",
       "\n",
       "    .dataframe tbody tr th {\n",
       "        vertical-align: top;\n",
       "    }\n",
       "\n",
       "    .dataframe thead th {\n",
       "        text-align: right;\n",
       "    }\n",
       "</style>\n",
       "<table border=\"1\" class=\"dataframe\">\n",
       "  <thead>\n",
       "    <tr style=\"text-align: right;\">\n",
       "      <th></th>\n",
       "      <th>flavor</th>\n",
       "      <th>sentiment</th>\n",
       "    </tr>\n",
       "  </thead>\n",
       "  <tbody>\n",
       "    <tr>\n",
       "      <td>5112</td>\n",
       "      <td>\"We mourn our dead. We shroud our dead. We bury our dead. Too often, it seems, we must kill our dead again.\"</td>\n",
       "      <td>-0.98</td>\n",
       "    </tr>\n",
       "    <tr>\n",
       "      <td>9133</td>\n",
       "      <td>No one spoke. There was no need. The threat of the Eldrazi presented a simple choice: lay down your weapons and die for nothing, or hold them fast and die for something.</td>\n",
       "      <td>-0.96</td>\n",
       "    </tr>\n",
       "    <tr>\n",
       "      <td>2943</td>\n",
       "      <td>\"No more fear. No more failure. No more death. No more!\"</td>\n",
       "      <td>-0.96</td>\n",
       "    </tr>\n",
       "    <tr>\n",
       "      <td>2434</td>\n",
       "      <td>\"Kill a creature, destroy the present. Kill the land, destroy the future.\"</td>\n",
       "      <td>-0.95</td>\n",
       "    </tr>\n",
       "    <tr>\n",
       "      <td>11430</td>\n",
       "      <td>There are laws against it, but the dead have no one to complain to and the living are too frightened to investigate.</td>\n",
       "      <td>-0.95</td>\n",
       "    </tr>\n",
       "  </tbody>\n",
       "</table>\n",
       "</div>"
      ],
      "text/plain": [
       "                                                                                                                                                                          flavor  \\\n",
       "5112   \"We mourn our dead. We shroud our dead. We bury our dead. Too often, it seems, we must kill our dead again.\"                                                                \n",
       "9133   No one spoke. There was no need. The threat of the Eldrazi presented a simple choice: lay down your weapons and die for nothing, or hold them fast and die for something.   \n",
       "2943   \"No more fear. No more failure. No more death. No more!\"                                                                                                                    \n",
       "2434   \"Kill a creature, destroy the present. Kill the land, destroy the future.\"                                                                                                  \n",
       "11430  There are laws against it, but the dead have no one to complain to and the living are too frightened to investigate.                                                        \n",
       "\n",
       "       sentiment  \n",
       "5112  -0.98       \n",
       "9133  -0.96       \n",
       "2943  -0.96       \n",
       "2434  -0.95       \n",
       "11430 -0.95       "
      ]
     },
     "execution_count": 14,
     "metadata": {},
     "output_type": "execute_result"
    }
   ],
   "source": [
    "df[['flavor','sentiment']].sort_values('sentiment',ascending=True).head()"
   ]
  },
  {
   "cell_type": "code",
   "execution_count": 15,
   "metadata": {},
   "outputs": [
    {
     "data": {
      "text/html": [
       "<div>\n",
       "<style scoped>\n",
       "    .dataframe tbody tr th:only-of-type {\n",
       "        vertical-align: middle;\n",
       "    }\n",
       "\n",
       "    .dataframe tbody tr th {\n",
       "        vertical-align: top;\n",
       "    }\n",
       "\n",
       "    .dataframe thead th {\n",
       "        text-align: right;\n",
       "    }\n",
       "</style>\n",
       "<table border=\"1\" class=\"dataframe\">\n",
       "  <thead>\n",
       "    <tr style=\"text-align: right;\">\n",
       "      <th></th>\n",
       "      <th>flavor</th>\n",
       "      <th>sentiment</th>\n",
       "    </tr>\n",
       "  </thead>\n",
       "  <tbody>\n",
       "    <tr>\n",
       "      <td>0</td>\n",
       "      <td>\" . . . And the third little boar built his house out of rootwalla plates . . . .\"</td>\n",
       "      <td>0.0</td>\n",
       "    </tr>\n",
       "    <tr>\n",
       "      <td>1</td>\n",
       "      <td>\" . . . Cao Pi, Cao Rui, Fang, Mao, and briefly, Huan—  The Sima took the empire in their turn. . . .\"</td>\n",
       "      <td>0.0</td>\n",
       "    </tr>\n",
       "    <tr>\n",
       "      <td>2</td>\n",
       "      <td>\" . . . When the trees bow down their heads, The wind is passing by.\"</td>\n",
       "      <td>0.0</td>\n",
       "    </tr>\n",
       "    <tr>\n",
       "      <td>4</td>\n",
       "      <td>\"'Air superiority?' Not while our archers scan the skies.\"</td>\n",
       "      <td>0.0</td>\n",
       "    </tr>\n",
       "    <tr>\n",
       "      <td>9</td>\n",
       "      <td>\"'I have arrived,' bellowed Brawn, and the plane shuddered.\"</td>\n",
       "      <td>0.0</td>\n",
       "    </tr>\n",
       "    <tr>\n",
       "      <td>10</td>\n",
       "      <td>\"'I'll show you how to handle the treefolk!' the giant bragged, and he strode off into the forest. Two days later he returned, his face masked in sap and a nest behind his ear. None dared ask who won.\"</td>\n",
       "      <td>0.0</td>\n",
       "    </tr>\n",
       "    <tr>\n",
       "      <td>12</td>\n",
       "      <td>\"'I've seen hornworms big as a man's fist,' the traveler said, and nodded soberly when our jaws went slack at his ignorance.\"</td>\n",
       "      <td>0.0</td>\n",
       "    </tr>\n",
       "    <tr>\n",
       "      <td>13</td>\n",
       "      <td>\"'Invincible' is just a word.\"</td>\n",
       "      <td>0.0</td>\n",
       "    </tr>\n",
       "    <tr>\n",
       "      <td>16</td>\n",
       "      <td>\"'Ownership' is such a gray area.\"</td>\n",
       "      <td>0.0</td>\n",
       "    </tr>\n",
       "    <tr>\n",
       "      <td>19</td>\n",
       "      <td>\"'Tis distance lends enchantment to the view, And robes the mountain in its azure hue.\"</td>\n",
       "      <td>0.0</td>\n",
       "    </tr>\n",
       "  </tbody>\n",
       "</table>\n",
       "</div>"
      ],
      "text/plain": [
       "                                                                                                                                                                                                       flavor  \\\n",
       "0   \" . . . And the third little boar built his house out of rootwalla plates . . . .\"                                                                                                                          \n",
       "1   \" . . . Cao Pi, Cao Rui, Fang, Mao, and briefly, Huan—  The Sima took the empire in their turn. . . .\"                                                                                                      \n",
       "2   \" . . . When the trees bow down their heads, The wind is passing by.\"                                                                                                                                       \n",
       "4   \"'Air superiority?' Not while our archers scan the skies.\"                                                                                                                                                  \n",
       "9   \"'I have arrived,' bellowed Brawn, and the plane shuddered.\"                                                                                                                                                \n",
       "10  \"'I'll show you how to handle the treefolk!' the giant bragged, and he strode off into the forest. Two days later he returned, his face masked in sap and a nest behind his ear. None dared ask who won.\"   \n",
       "12  \"'I've seen hornworms big as a man's fist,' the traveler said, and nodded soberly when our jaws went slack at his ignorance.\"                                                                               \n",
       "13  \"'Invincible' is just a word.\"                                                                                                                                                                              \n",
       "16  \"'Ownership' is such a gray area.\"                                                                                                                                                                          \n",
       "19  \"'Tis distance lends enchantment to the view, And robes the mountain in its azure hue.\"                                                                                                                     \n",
       "\n",
       "    sentiment  \n",
       "0   0.0        \n",
       "1   0.0        \n",
       "2   0.0        \n",
       "4   0.0        \n",
       "9   0.0        \n",
       "10  0.0        \n",
       "12  0.0        \n",
       "13  0.0        \n",
       "16  0.0        \n",
       "19  0.0        "
      ]
     },
     "execution_count": 15,
     "metadata": {},
     "output_type": "execute_result"
    }
   ],
   "source": [
    "df[['flavor','sentiment']][df.sentiment==0].head(10)"
   ]
  },
  {
   "cell_type": "markdown",
   "metadata": {},
   "source": [
    "### How does sentiment relate to each feature?\n",
    "\n",
    "* Because of the shape of our data, stats tests to determine if features are related such as T-test and correlation or not usable for measuring sentiment."
   ]
  },
  {
   "cell_type": "markdown",
   "metadata": {},
   "source": [
    "### Color\n",
    "\n",
    "* three colors have positive mean sentiment scores white, blue, and green\n",
    "* two colors have negative mean scores black and red\n",
    "* four colors have mean sentiment values that are less than .1 away from zero, white, blue, gree, red and green\n",
    "* one color with the most extream mean sentiment score was black at -.12\n",
    "* all colors have a mean and median sentiment score of 0\n",
    "* between 24-34% of values for each color are zero\n",
    "* frquency of negative positive and zero sentiment scores are fairly evenly distributed amoung colors. The most extream values are black with 48% negative and white with 41% positive\n",
    "\n",
    "* looking at the frequency distribution of sentiment scores they seem to follow the same general distribution as the overall data.\n",
    "* The most notable differance is that black has noticably more negative sentament scores than positive ones. This is reflected in its more extream than usual mean sentiment score.\n",
    "* It is likely that color is a driver of sentiment however the effect of color on sentiment is not very high"
   ]
  },
  {
   "cell_type": "code",
   "execution_count": 16,
   "metadata": {},
   "outputs": [
    {
     "name": "stdout",
     "output_type": "stream",
     "text": [
      "White: 0.03\n",
      "Blue: 0.01\n",
      "Black: -0.12\n",
      "Red: -0.06\n",
      "Green: 0.01\n"
     ]
    }
   ],
   "source": [
    "colors = ['White','Blue','Black','Red','Green']\n",
    "\n",
    "for color in colors:\n",
    "\n",
    "    number = df[df.color==f'{color}'].sentiment.mean()\n",
    "      \n",
    "    print(f'{color}: {round(number,2)}')"
   ]
  },
  {
   "cell_type": "code",
   "execution_count": 17,
   "metadata": {},
   "outputs": [
    {
     "name": "stdout",
     "output_type": "stream",
     "text": [
      "White: 0.0\n",
      "Blue: 0.0\n",
      "Black: 0.0\n",
      "Red: 0.0\n",
      "Green: 0.0\n"
     ]
    }
   ],
   "source": [
    "colors = ['White','Blue','Black','Red','Green']\n",
    "\n",
    "for color in colors:\n",
    "\n",
    "    number = df[df.color==f'{color}'].sentiment.median()\n",
    "      \n",
    "    print(f'{color}: {number}')"
   ]
  },
  {
   "cell_type": "code",
   "execution_count": 18,
   "metadata": {},
   "outputs": [
    {
     "name": "stdout",
     "output_type": "stream",
     "text": [
      "White: 0    0.0\n",
      "dtype: float64\n",
      "Blue: 0    0.0\n",
      "dtype: float64\n",
      "Black: 0    0.0\n",
      "dtype: float64\n",
      "Red: 0    0.0\n",
      "dtype: float64\n",
      "Green: 0    0.0\n",
      "dtype: float64\n"
     ]
    }
   ],
   "source": [
    "colors = ['White','Blue','Black','Red','Green']\n",
    "\n",
    "for color in colors:\n",
    "\n",
    "    number = df[df.color==f'{color}'].sentiment.mode()\n",
    "      \n",
    "    print(f'{color}: {number}')"
   ]
  },
  {
   "cell_type": "code",
   "execution_count": 19,
   "metadata": {},
   "outputs": [
    {
     "name": "stdout",
     "output_type": "stream",
     "text": [
      "Positive and Negative Sentiment Scores\n",
      "\n",
      "White: Positive: 0.41%  Negative: 0.34%  Zero: 0.25%\n",
      "\n",
      "Blue: Positive: 0.35%  Negative: 0.33%  Zero: 0.33%\n",
      "\n",
      "Black: Positive: 0.28%  Negative: 0.48%  Zero: 0.24%\n",
      "\n",
      "Red: Positive: 0.31%  Negative: 0.4%  Zero: 0.29%\n",
      "\n",
      "Green: Positive: 0.34%  Negative: 0.32%  Zero: 0.34%\n"
     ]
    }
   ],
   "source": [
    "colors = ['White','Blue','Black','Red','Green']\n",
    "\n",
    "print(\"Positive and Negative Sentiment Scores\")\n",
    "\n",
    "for color in colors:\n",
    "\n",
    "    positive = df[df.color==f'{color}'][df.sentiment>0].sentiment.count()\n",
    "    negative = df[df.color==f'{color}'][df.sentiment<0].sentiment.count()\n",
    "    zero = df[df.color==f'{color}'][df.sentiment==0].sentiment.count()\n",
    "    \n",
    "    total = df[df.color==f'{color}'].sentiment.count()\n",
    "      \n",
    "    print('')\n",
    "    print(f'{color}: Positive: {round(positive/total,2)}%  Negative: {round(negative/total,2)}%  Zero: {round(zero/total,2)}%')"
   ]
  },
  {
   "cell_type": "code",
   "execution_count": 20,
   "metadata": {},
   "outputs": [
    {
     "data": {
      "image/png": "[encoded data removed]",
      "text/plain": [
       "<Figure size 432x288 with 1 Axes>"
      ]
     },
     "metadata": {
      "needs_background": "light"
     },
     "output_type": "display_data"
    },
    {
     "data": {
      "image/png": "[encoded data removed]",
      "text/plain": [
       "<Figure size 432x288 with 1 Axes>"
      ]
     },
     "metadata": {
      "needs_background": "light"
     },
     "output_type": "display_data"
    },
    {
     "data": {
      "image/png": "[encoded data removed]",
      "text/plain": [
       "<Figure size 432x288 with 1 Axes>"
      ]
     },
     "metadata": {
      "needs_background": "light"
     },
     "output_type": "display_data"
    },
    {
     "data": {
      "image/png": "[encoded data removed]",
      "text/plain": [
       "<Figure size 432x288 with 1 Axes>"
      ]
     },
     "metadata": {
      "needs_background": "light"
     },
     "output_type": "display_data"
    },
    {
     "data": {
      "image/png": "[encoded data removed]",
      "text/plain": [
       "<Figure size 432x288 with 1 Axes>"
      ]
     },
     "metadata": {
      "needs_background": "light"
     },
     "output_type": "display_data"
    }
   ],
   "source": [
    "colors = ['White','Blue','Black','Red','Green']\n",
    "\n",
    "for color in colors:\n",
    "\n",
    "\n",
    "    bins =[-1,-.9,-.8,-.7,-.6,-.5,-.4,-.3,-.2,-.1,0,.1,.2,.3,.4,.5,.6,.7,.8,.9,1]\n",
    "\n",
    "\n",
    "\n",
    "    sentiment = df.sentiment[df.sentiment!=0][df.color==f'{color}']\n",
    "\n",
    "    plt.hist(sentiment,bins=bins,edgecolor='black',color=f'{color}')\n",
    "\n",
    "\n",
    "    plt.title(f'Fequency of Sentiment Scores in {color} With Zero Scores Removed')\n",
    "    plt.xlabel('Sentiment Scores')\n",
    "    plt.ylabel('Number of Occurances')\n",
    "\n",
    "\n",
    "\n",
    "\n",
    "\n",
    "    plt.tight_layout()\n",
    "\n",
    "    plt.show()"
   ]
  },
  {
   "cell_type": "markdown",
   "metadata": {},
   "source": [
    "### Types\n",
    "\n",
    "* types that have a large sample size closely mimic the data set as a whole\n",
    "* Creatures, Instants, and sorcerys each have a mean sentiment of -.02 which is the same as the mean sentiment for the entire data set when rounded to two decimals\n",
    "* Sorcery is also close with a value of -.04\n",
    "* types with a lower sample size are more speratic \n",
    "* Lands have a mean sentiment of -.07, Artifacts have a .04, and Planeswalkers have a .58 (sample of one)\n",
    "* Lands and Artifacts have a larger than normal amount of zero values, 46% and 58% respectively\n",
    "* in seems that as the sample size gets smaller the data in the sample beomes less likely to mimic the over all data.\n",
    "* looking at the distributions of sentament by type, types with larger sample sizes mimic the overall data, types that do not have a large sample size do not \n",
    "* It is not likely that type is a driver of sentiment"
   ]
  },
  {
   "cell_type": "code",
   "execution_count": 21,
   "metadata": {},
   "outputs": [
    {
     "ename": "AttributeError",
     "evalue": "'DataFrame' object has no attribute 'types'",
     "output_type": "error",
     "traceback": [
      "\u001b[0;31m---------------------------------------------------------------------------\u001b[0m",
      "\u001b[0;31mAttributeError\u001b[0m                            Traceback (most recent call last)",
      "\u001b[0;32m<ipython-input-21-893bc355b1a1>\u001b[0m in \u001b[0;36m<module>\u001b[0;34m\u001b[0m\n\u001b[1;32m      3\u001b[0m \u001b[0;32mfor\u001b[0m \u001b[0mitem\u001b[0m \u001b[0;32min\u001b[0m \u001b[0mtypes\u001b[0m\u001b[0;34m:\u001b[0m\u001b[0;34m\u001b[0m\u001b[0;34m\u001b[0m\u001b[0m\n\u001b[1;32m      4\u001b[0m \u001b[0;34m\u001b[0m\u001b[0m\n\u001b[0;32m----> 5\u001b[0;31m     \u001b[0mnumber\u001b[0m \u001b[0;34m=\u001b[0m \u001b[0mdf\u001b[0m\u001b[0;34m[\u001b[0m\u001b[0mdf\u001b[0m\u001b[0;34m.\u001b[0m\u001b[0mtypes\u001b[0m\u001b[0;34m==\u001b[0m\u001b[0;34mf'{item}'\u001b[0m\u001b[0;34m]\u001b[0m\u001b[0;34m.\u001b[0m\u001b[0msentiment\u001b[0m\u001b[0;34m.\u001b[0m\u001b[0mmean\u001b[0m\u001b[0;34m(\u001b[0m\u001b[0;34m)\u001b[0m\u001b[0;34m\u001b[0m\u001b[0;34m\u001b[0m\u001b[0m\n\u001b[0m\u001b[1;32m      6\u001b[0m \u001b[0;34m\u001b[0m\u001b[0m\n\u001b[1;32m      7\u001b[0m     \u001b[0mprint\u001b[0m\u001b[0;34m(\u001b[0m\u001b[0;34mf'{item}: {round(number,2)}'\u001b[0m\u001b[0;34m)\u001b[0m\u001b[0;34m\u001b[0m\u001b[0;34m\u001b[0m\u001b[0m\n",
      "\u001b[0;32m/usr/local/anaconda3/lib/python3.7/site-packages/pandas/core/generic.py\u001b[0m in \u001b[0;36m__getattr__\u001b[0;34m(self, name)\u001b[0m\n\u001b[1;32m   5177\u001b[0m             \u001b[0;32mif\u001b[0m \u001b[0mself\u001b[0m\u001b[0;34m.\u001b[0m\u001b[0m_info_axis\u001b[0m\u001b[0;34m.\u001b[0m\u001b[0m_can_hold_identifiers_and_holds_name\u001b[0m\u001b[0;34m(\u001b[0m\u001b[0mname\u001b[0m\u001b[0;34m)\u001b[0m\u001b[0;34m:\u001b[0m\u001b[0;34m\u001b[0m\u001b[0;34m\u001b[0m\u001b[0m\n\u001b[1;32m   5178\u001b[0m                 \u001b[0;32mreturn\u001b[0m \u001b[0mself\u001b[0m\u001b[0;34m[\u001b[0m\u001b[0mname\u001b[0m\u001b[0;34m]\u001b[0m\u001b[0;34m\u001b[0m\u001b[0;34m\u001b[0m\u001b[0m\n\u001b[0;32m-> 5179\u001b[0;31m             \u001b[0;32mreturn\u001b[0m \u001b[0mobject\u001b[0m\u001b[0;34m.\u001b[0m\u001b[0m__getattribute__\u001b[0m\u001b[0;34m(\u001b[0m\u001b[0mself\u001b[0m\u001b[0;34m,\u001b[0m \u001b[0mname\u001b[0m\u001b[0;34m)\u001b[0m\u001b[0;34m\u001b[0m\u001b[0;34m\u001b[0m\u001b[0m\n\u001b[0m\u001b[1;32m   5180\u001b[0m \u001b[0;34m\u001b[0m\u001b[0m\n\u001b[1;32m   5181\u001b[0m     \u001b[0;32mdef\u001b[0m \u001b[0m__setattr__\u001b[0m\u001b[0;34m(\u001b[0m\u001b[0mself\u001b[0m\u001b[0;34m,\u001b[0m \u001b[0mname\u001b[0m\u001b[0;34m,\u001b[0m \u001b[0mvalue\u001b[0m\u001b[0;34m)\u001b[0m\u001b[0;34m:\u001b[0m\u001b[0;34m\u001b[0m\u001b[0;34m\u001b[0m\u001b[0m\n",
      "\u001b[0;31mAttributeError\u001b[0m: 'DataFrame' object has no attribute 'types'"
     ]
    }
   ],
   "source": [
    "types = ['Creature','Instant','Sorcery','Enchantment','Land','Artifact','Planeswalker']\n",
    "\n",
    "for item in types:\n",
    "\n",
    "    number = df[df.types==f'{item}'].sentiment.mean()\n",
    "      \n",
    "    print(f'{item}: {round(number,2)}')"
   ]
  },
  {
   "cell_type": "code",
   "execution_count": null,
   "metadata": {},
   "outputs": [],
   "source": [
    "types = ['Creature','Instant','Sorcery','Enchantment','Land','Artifact','Planeswalker']\n",
    "\n",
    "for item in types:\n",
    "\n",
    "    number = df[df.types==f'{item}'].sentiment.median()\n",
    "      \n",
    "    print(f'{item}: {round(number,2)}')"
   ]
  },
  {
   "cell_type": "code",
   "execution_count": null,
   "metadata": {},
   "outputs": [],
   "source": [
    "types = ['Creature','Instant','Sorcery','Enchantment','Land','Artifact','Planeswalker']\n",
    "\n",
    "for item in types:\n",
    "\n",
    "    number = df[df.types==f'{item}'].sentiment.mode()\n",
    "      \n",
    "    print(f'{item}: {round(number,2)}')"
   ]
  },
  {
   "cell_type": "code",
   "execution_count": null,
   "metadata": {},
   "outputs": [],
   "source": [
    "types = ['Creature','Instant','Sorcery','Enchantment','Land','Artifact','Planeswalker']\n",
    "\n",
    "print(\"Positive and Negative Sentiment Scores\")\n",
    "\n",
    "for item in types:\n",
    "\n",
    "    positive = df[df.types==f'{item}'][df.sentiment>0].sentiment.count()\n",
    "    negative = df[df.types==f'{item}'][df.sentiment<0].sentiment.count()\n",
    "    zero = df[df.types==f'{item}'][df.sentiment==0].sentiment.count()\n",
    "    \n",
    "    total = df[df.types==f'{item}'].sentiment.count()\n",
    "      \n",
    "    print('')\n",
    "    print(f'{item}: Positive: {round(positive/total,2)}%  Negative: {round(negative/total,2)}%  Zero: {round(zero/total,2)}%')"
   ]
  },
  {
   "cell_type": "code",
   "execution_count": null,
   "metadata": {},
   "outputs": [],
   "source": [
    "types = ['Creature','Instant','Sorcery','Enchantment','Land','Artifact','Planeswalker']\n",
    "\n",
    "for item in types:\n",
    "\n",
    "\n",
    "    bins =[-1,-.9,-.8,-.7,-.6,-.5,-.4,-.3,-.2,-.1,0,.1,.2,.3,.4,.5,.6,.7,.8,.9,1]\n",
    "\n",
    "    sentiment = df.sentiment[df.sentiment!=0][df.types==f'{item}']\n",
    "\n",
    "    plt.hist(sentiment,bins=bins,edgecolor='black',color='firebrick')\n",
    "\n",
    "\n",
    "    plt.title(f'Fequency of Sentiment Scores in {item} With Zero Scores Removed')\n",
    "    plt.xlabel('Sentiment Scores')\n",
    "    plt.ylabel('Number of Occurances')\n",
    "\n",
    "    plt.tight_layout()\n",
    "\n",
    "    plt.show()"
   ]
  },
  {
   "cell_type": "markdown",
   "metadata": {},
   "source": [
    "### Rarity\n",
    "\n",
    "* All rarity types have a mean sentiment that is very near the mean sentiment of the overall data ranging from -.01 to -.03 \n",
    "* the frequency of positive, negative, and zero sentiment scores are remarkably evenly distributed at each rarity level\n",
    "* The overall distribution of sentiment scores devided by rarity level mimics the overall data at each level\n",
    "* It is not likely that rarity is a driver of sentiment"
   ]
  },
  {
   "cell_type": "code",
   "execution_count": null,
   "metadata": {},
   "outputs": [],
   "source": [
    "scarcity = ['common','uncommon','rare','mythic']\n",
    "\n",
    "for item in scarcity:\n",
    "\n",
    "    number = df[df.rarity==f'{item}'].sentiment.mean()\n",
    "      \n",
    "    print(f'{item}: {round(number,2)}')"
   ]
  },
  {
   "cell_type": "code",
   "execution_count": null,
   "metadata": {},
   "outputs": [],
   "source": [
    "scarcity = ['common','uncommon','rare','mythic']\n",
    "\n",
    "for item in scarcity:\n",
    "\n",
    "    number = df[df.rarity==f'{item}'].sentiment.median()\n",
    "      \n",
    "    print(f'{item}: {round(number,2)}')"
   ]
  },
  {
   "cell_type": "code",
   "execution_count": null,
   "metadata": {},
   "outputs": [],
   "source": [
    "scarcity = ['common','uncommon','rare','mythic']\n",
    "\n",
    "for item in scarcity:\n",
    "\n",
    "    number = df[df.rarity==f'{item}'].sentiment.mode()\n",
    "      \n",
    "    print(f'{item}: {round(number,2)}')"
   ]
  },
  {
   "cell_type": "code",
   "execution_count": null,
   "metadata": {},
   "outputs": [],
   "source": [
    "scarcity = ['common','uncommon','rare','mythic']\n",
    "\n",
    "print(\"Positive and Negative Sentiment Scores\")\n",
    "\n",
    "for item in scarcity:\n",
    "\n",
    "    positive = df[df.rarity==f'{item}'][df.sentiment>0].sentiment.count()\n",
    "    negative = df[df.rarity==f'{item}'][df.sentiment<0].sentiment.count()\n",
    "    zero = df[df.rarity==f'{item}'][df.sentiment==0].sentiment.count()\n",
    "    \n",
    "    total = df[df.rarity==f'{item}'].sentiment.count()\n",
    "      \n",
    "    print('')\n",
    "    print(f'{item}: Positive: {round(positive/total,2)}%  Negative: {round(negative/total,2)}%  Zero: {round(zero/total,2)}%')"
   ]
  },
  {
   "cell_type": "code",
   "execution_count": null,
   "metadata": {},
   "outputs": [],
   "source": [
    "scarcity = ['common','uncommon','rare','mythic']\n",
    "\n",
    "for item in scarcity:\n",
    "\n",
    "\n",
    "    bins =[-1,-.9,-.8,-.7,-.6,-.5,-.4,-.3,-.2,-.1,0,.1,.2,.3,.4,.5,.6,.7,.8,.9,1]\n",
    "\n",
    "    sentiment = df.sentiment[df.sentiment!=0][df.rarity==f'{item}']\n",
    "\n",
    "    plt.hist(sentiment,bins=bins,edgecolor='black',color='firebrick')\n",
    "\n",
    "\n",
    "    plt.title(f'Fequency of Sentiment Scores in {item} With Zero Scores Removed')\n",
    "    plt.xlabel('Sentiment Scores')\n",
    "    plt.ylabel('Number of Occurances')\n",
    "\n",
    "    plt.tight_layout()\n",
    "\n",
    "    plt.show()"
   ]
  },
  {
   "cell_type": "markdown",
   "metadata": {},
   "source": [
    "### Cost\n",
    "\n",
    "* costs with large sample sizes have a mean sentiment score that is near that of the overall data\n",
    "* costs with large sample sized also have a distribution of sentiment scores that closely mimics the overall data\n",
    "* positive, negative, and zero sentiment scores are fairly even evenly distributed at cost levels that have high sample sizes\n",
    "* worth noting cost of 10, 11, and 12, are the only divition of the data that has shown a median value other than zero. However, these cost levels represent only a small amount of data\n",
    "* I do not believe that cost is a driver of sentiment"
   ]
  },
  {
   "cell_type": "code",
   "execution_count": null,
   "metadata": {},
   "outputs": [],
   "source": [
    "df.cost.value_counts()"
   ]
  },
  {
   "cell_type": "code",
   "execution_count": null,
   "metadata": {},
   "outputs": [],
   "source": [
    "for r in range(1,15):\n",
    "\n",
    "    if r != 13:\n",
    "   \n",
    "        number = df[df.cost== r].sentiment.mean()\n",
    "      \n",
    "        print(f'{r}: {number}')"
   ]
  },
  {
   "cell_type": "code",
   "execution_count": null,
   "metadata": {},
   "outputs": [],
   "source": [
    "for r in range(1,15):\n",
    "\n",
    "    if r != 13:\n",
    "   \n",
    "        number = df[df.cost== r].sentiment.median()\n",
    "      \n",
    "        print(f'{r}: {number}')"
   ]
  },
  {
   "cell_type": "code",
   "execution_count": null,
   "metadata": {},
   "outputs": [],
   "source": [
    "for r in range(1,15):\n",
    "\n",
    "    if r != 13:\n",
    "   \n",
    "        number = df[df.cost== r].sentiment.mode()\n",
    "      \n",
    "        print(f'{r}: {number}')"
   ]
  },
  {
   "cell_type": "code",
   "execution_count": null,
   "metadata": {},
   "outputs": [],
   "source": [
    "print(\"Positive and Negative Sentiment Scores\")\n",
    "\n",
    "for r in range(1,15):\n",
    "\n",
    "    if r != 13:\n",
    "\n",
    "        positive = df[df.cost==r][df.sentiment>0].sentiment.count()\n",
    "        negative = df[df.cost==r][df.sentiment<0].sentiment.count()\n",
    "        zero = df[df.cost==r][df.sentiment==0].sentiment.count()\n",
    "    \n",
    "        total = df[df.cost==r].sentiment.count()\n",
    "      \n",
    "        print('')\n",
    "        print(f'{r}: Positive: {round(positive/total,2)}%  Negative: {round(negative/total,2)}%  Zero: {round(zero/total,2)}%')"
   ]
  },
  {
   "cell_type": "code",
   "execution_count": null,
   "metadata": {},
   "outputs": [],
   "source": [
    "for r in range(1,15):\n",
    "\n",
    "    if r not in (13,14):\n",
    "        \n",
    "        bins =[-1,-.9,-.8,-.7,-.6,-.5,-.4,-.3,-.2,-.1,0,.1,.2,.3,.4,.5,.6,.7,.8,.9,1]\n",
    "\n",
    "        sentiment = df.sentiment[df.sentiment!=0][df.cost==r]\n",
    "\n",
    "        plt.hist(sentiment,bins=bins,edgecolor='black',color='firebrick')\n",
    "\n",
    "\n",
    "        plt.title(f'Fequency of Sentiment Scores in {r} With Zero Scores Removed')\n",
    "        plt.xlabel('Sentiment Scores')\n",
    "        plt.ylabel('Number of Occurances')\n",
    "\n",
    "        plt.tight_layout()\n",
    "\n",
    "        plt.show()"
   ]
  },
  {
   "cell_type": "markdown",
   "metadata": {},
   "source": [
    "### Exploration Summary\n",
    "\n",
    "* The only feature that seems to drive sentiment is color\n",
    "* I will proceed to modeling using only that feature\n"
   ]
  },
  {
   "cell_type": "markdown",
   "metadata": {},
   "source": [
    "# Modeling\n",
    "\n",
    "1. create baseline using regression model using mean sentiment score\n",
    "2. create regression model using color\n",
    "3. compare results"
   ]
  },
  {
   "cell_type": "code",
   "execution_count": null,
   "metadata": {},
   "outputs": [],
   "source": [
    "df['yhat'] = df.sentiment.mean()"
   ]
  },
  {
   "cell_type": "code",
   "execution_count": null,
   "metadata": {},
   "outputs": [],
   "source": [
    "df['zero'] = 0"
   ]
  },
  {
   "cell_type": "code",
   "execution_count": null,
   "metadata": {},
   "outputs": [],
   "source": [
    "df.head()"
   ]
  },
  {
   "cell_type": "code",
   "execution_count": null,
   "metadata": {},
   "outputs": [],
   "source": [
    "yhat = df[['yhat']]\n",
    "\n",
    "X = df[['color']]\n",
    "\n",
    "y = df[['sentiment']]"
   ]
  },
  {
   "cell_type": "code",
   "execution_count": null,
   "metadata": {},
   "outputs": [],
   "source": [
    "from sklearn.metrics import mean_squared_error, explained_variance_score\n",
    "from math import sqrt\n",
    "\n",
    "lm1 = LinearRegression()\n",
    "lm1.fit(yhat, y)\n",
    "\n",
    "y_pred_baseline = np.array(yhat)\n",
    "MSE = mean_squared_error(y, y_pred_baseline)\n",
    "SSE = MSE*len(y)\n",
    "RMSE = sqrt(MSE)\n",
    "\n",
    "evs = explained_variance_score(y, y_pred_baseline)\n",
    "\n",
    "print(f\"Mean Squared Error: {MSE}\")\n",
    "print('')\n",
    "print(f\"Sum of Squared Errors: {SSE}\")\n",
    "print('')\n",
    "print(f\"Root Mean Square Errors: {RMSE}\")\n",
    "print('')\n",
    "print(f\"Explained Variance Score: {evs}\")\n",
    "\n"
   ]
  },
  {
   "cell_type": "code",
   "execution_count": null,
   "metadata": {},
   "outputs": [],
   "source": [
    "encoded_values = colors = ['Black','Blue','Green','Red','White']\n",
    "\n",
    "# Integer Encoding\n",
    "int_encoder = LabelEncoder()\n",
    "X.encoded = int_encoder.fit_transform(X.color)\n",
    "\n",
    "# create 2D np arrays of the encoded variable (in train and test)\n",
    "X_array = np.array(X.encoded).reshape(len(X.encoded),1)\n",
    "\n",
    "# One Hot Encoding\n",
    "ohe = OneHotEncoder(sparse=False, categories='auto')\n",
    "X_ohe = ohe.fit_transform(X_array)\n",
    "\n",
    "# Turn the array of new values into a data frame with columns names being the values\n",
    "# and index matching that of train/test\n",
    "# then merge the new dataframe with the existing train/test dataframe\n",
    "X_encoded = pd.DataFrame(data=X_ohe, columns=encoded_values, index=X.index)\n",
    "\n",
    "X = X.join(X_encoded)\n",
    "\n",
    "X "
   ]
  },
  {
   "cell_type": "code",
   "execution_count": null,
   "metadata": {},
   "outputs": [],
   "source": [
    "X.drop(columns='color',inplace=True)"
   ]
  },
  {
   "cell_type": "code",
   "execution_count": null,
   "metadata": {
    "scrolled": true
   },
   "outputs": [],
   "source": [
    "X"
   ]
  },
  {
   "cell_type": "code",
   "execution_count": null,
   "metadata": {},
   "outputs": [],
   "source": [
    "from sklearn.metrics import mean_squared_error, explained_variance_score\n",
    "from math import sqrt\n",
    "\n",
    "lm1 = LinearRegression()\n",
    "lm1.fit(X, y)\n",
    "\n",
    "y_pred_color = lm1.predict(X)\n",
    "\n",
    "MSE = mean_squared_error(y, y_pred_color)\n",
    "SSE = MSE*len(y)\n",
    "RMSE = sqrt(MSE)\n",
    "\n",
    "evs = explained_variance_score(y, y_pred_color)\n",
    "\n",
    "print(f\"Mean Squared Error: {MSE}\")\n",
    "print('')\n",
    "print(f\"Sum of Squared Errors: {SSE}\")\n",
    "print('')\n",
    "print(f\"Root Mean Square Errors: {RMSE}\")\n",
    "print('')\n",
    "print(f\"Explained Variance Score: {round(evs,2)}\")"
   ]
  },
  {
   "cell_type": "code",
   "execution_count": null,
   "metadata": {},
   "outputs": [],
   "source": []
  },
  {
   "cell_type": "code",
   "execution_count": null,
   "metadata": {},
   "outputs": [],
   "source": []
  },
  {
   "cell_type": "code",
   "execution_count": null,
   "metadata": {},
   "outputs": [],
   "source": []
  },
  {
   "cell_type": "code",
   "execution_count": null,
   "metadata": {},
   "outputs": [],
   "source": []
  },
  {
   "cell_type": "code",
   "execution_count": null,
   "metadata": {},
   "outputs": [],
   "source": []
  },
  {
   "cell_type": "code",
   "execution_count": null,
   "metadata": {},
   "outputs": [],
   "source": []
  },
  {
   "cell_type": "code",
   "execution_count": null,
   "metadata": {},
   "outputs": [],
   "source": []
  },
  {
   "cell_type": "code",
   "execution_count": null,
   "metadata": {},
   "outputs": [],
   "source": []
  },
  {
   "cell_type": "code",
   "execution_count": null,
   "metadata": {},
   "outputs": [],
   "source": []
  },
  {
   "cell_type": "code",
   "execution_count": null,
   "metadata": {},
   "outputs": [],
   "source": []
  },
  {
   "cell_type": "code",
   "execution_count": null,
   "metadata": {},
   "outputs": [],
   "source": []
  },
  {
   "cell_type": "code",
   "execution_count": null,
   "metadata": {},
   "outputs": [],
   "source": []
  },
  {
   "cell_type": "code",
   "execution_count": null,
   "metadata": {},
   "outputs": [],
   "source": []
  },
  {
   "cell_type": "code",
   "execution_count": null,
   "metadata": {},
   "outputs": [],
   "source": []
  }
 ],
 "metadata": {
  "kernelspec": {
   "display_name": "Python 3",
   "language": "python",
   "name": "python3"
  },
  "language_info": {
   "codemirror_mode": {
    "name": "ipython",
    "version": 3
   },
   "file_extension": ".py",
   "mimetype": "text/x-python",
   "name": "python",
   "nbconvert_exporter": "python",
   "pygments_lexer": "ipython3",
   "version": "3.7.4"
  }
 },
 "nbformat": 4,
 "nbformat_minor": 2
}
