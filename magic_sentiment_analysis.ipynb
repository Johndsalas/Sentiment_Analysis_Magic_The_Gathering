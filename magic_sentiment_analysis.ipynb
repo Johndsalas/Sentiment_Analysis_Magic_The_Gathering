{
 "cells": [
  {
   "cell_type": "markdown",
   "metadata": {},
   "source": [
    "## Goals:\n",
    "\n",
    "**1. Determine drivers of sentiment in the flavor text in Magic: The Gathering cards.**\n",
    "\n",
    "**2. Develop a model to predict the sentiment of flavor text in Magic: The Gathering cards.**"
   ]
  },
  {
   "cell_type": "code",
   "execution_count": 1,
   "metadata": {},
   "outputs": [],
   "source": [
    "# imports\n",
    "\n",
    "import pandas\n",
    "import prepare as p"
   ]
  },
  {
   "cell_type": "markdown",
   "metadata": {},
   "source": [
    "# Prepare\n",
    "\n",
    "A CSV, containing an up to date breakdown of each Magic card that has been printed so far, was obtained from MTGJSON.com. The data was then read into a pandas dataframe."
   ]
  },
  {
   "cell_type": "code",
   "execution_count": 2,
   "metadata": {},
   "outputs": [
    {
     "name": "stderr",
     "output_type": "stream",
     "text": [
      "/usr/local/anaconda3/lib/python3.7/site-packages/IPython/core/interactiveshell.py:3058: DtypeWarning: Columns (5,8,14,38) have mixed types. Specify dtype option on import or set low_memory=False.\n",
      "  interactivity=interactivity, compiler=compiler, result=result)\n"
     ]
    }
   ],
   "source": [
    "df = pandas.read_csv('cards.csv')"
   ]
  },
  {
   "cell_type": "markdown",
   "metadata": {},
   "source": [
    "The dataframe contained 50,412 rows and 71 columns\n",
    "\n",
    "The process of preparing the data begins by selecting columns that are patentualy relivent to sentiment."
   ]
  },
  {
   "cell_type": "code",
   "execution_count": 3,
   "metadata": {},
   "outputs": [
    {
     "data": {
      "text/plain": [
       "(50412, 71)"
      ]
     },
     "execution_count": 3,
     "metadata": {},
     "output_type": "execute_result"
    }
   ],
   "source": [
    "df.shape"
   ]
  },
  {
   "cell_type": "code",
   "execution_count": 4,
   "metadata": {},
   "outputs": [
    {
     "data": {
      "text/plain": [
       "Index(['index', 'id', 'artist', 'borderColor', 'colorIdentity',\n",
       "       'colorIndicator', 'colors', 'convertedManaCost', 'duelDeck',\n",
       "       'edhrecRank', 'faceConvertedManaCost', 'flavorText', 'frameEffect',\n",
       "       'frameEffects', 'frameVersion', 'hand', 'hasFoil', 'hasNoDeckLimit',\n",
       "       'hasNonFoil', 'isAlternative', 'isArena', 'isBuyABox', 'isDateStamped',\n",
       "       'isFullArt', 'isMtgo', 'isOnlineOnly', 'isOversized', 'isPaper',\n",
       "       'isPromo', 'isReprint', 'isReserved', 'isStarter', 'isStorySpotlight',\n",
       "       'isTextless', 'isTimeshifted', 'layout', 'leadershipSkills', 'life',\n",
       "       'loyalty', 'manaCost', 'mcmId', 'mcmMetaId', 'mtgArenaId', 'mtgoFoilId',\n",
       "       'mtgoId', 'multiverseId', 'name', 'names', 'number', 'originalText',\n",
       "       'originalType', 'otherFaceIds', 'power', 'printings', 'purchaseUrls',\n",
       "       'rarity', 'scryfallId', 'scryfallIllustrationId', 'scryfallOracleId',\n",
       "       'setCode', 'side', 'subtypes', 'supertypes', 'tcgplayerProductId',\n",
       "       'text', 'toughness', 'type', 'types', 'uuid', 'variations',\n",
       "       'watermark'],\n",
       "      dtype='object')"
      ]
     },
     "execution_count": 4,
     "metadata": {},
     "output_type": "execute_result"
    }
   ],
   "source": [
    "df.columns"
   ]
  },
  {
   "cell_type": "code",
   "execution_count": 5,
   "metadata": {},
   "outputs": [],
   "source": [
    "df = df[['name','colorIdentity','colors','convertedManaCost','flavorText','isPaper','rarity','subtypes','supertypes','types']]"
   ]
  },
  {
   "cell_type": "code",
   "execution_count": 8,
   "metadata": {},
   "outputs": [
    {
     "data": {
      "text/html": [
       "<div>\n",
       "<style scoped>\n",
       "    .dataframe tbody tr th:only-of-type {\n",
       "        vertical-align: middle;\n",
       "    }\n",
       "\n",
       "    .dataframe tbody tr th {\n",
       "        vertical-align: top;\n",
       "    }\n",
       "\n",
       "    .dataframe thead th {\n",
       "        text-align: right;\n",
       "    }\n",
       "</style>\n",
       "<table border=\"1\" class=\"dataframe\">\n",
       "  <thead>\n",
       "    <tr style=\"text-align: right;\">\n",
       "      <th></th>\n",
       "      <th>name</th>\n",
       "      <th>colorIdentity</th>\n",
       "      <th>colors</th>\n",
       "      <th>convertedManaCost</th>\n",
       "      <th>flavorText</th>\n",
       "      <th>rarity</th>\n",
       "      <th>subtypes</th>\n",
       "      <th>supertypes</th>\n",
       "      <th>types</th>\n",
       "    </tr>\n",
       "  </thead>\n",
       "  <tbody>\n",
       "    <tr>\n",
       "      <td>0</td>\n",
       "      <td>Abundance</td>\n",
       "      <td>G</td>\n",
       "      <td>G</td>\n",
       "      <td>4.0</td>\n",
       "      <td>NaN</td>\n",
       "      <td>rare</td>\n",
       "      <td>NaN</td>\n",
       "      <td>NaN</td>\n",
       "      <td>Enchantment</td>\n",
       "    </tr>\n",
       "    <tr>\n",
       "      <td>1</td>\n",
       "      <td>Academy Researchers</td>\n",
       "      <td>U</td>\n",
       "      <td>U</td>\n",
       "      <td>3.0</td>\n",
       "      <td>They brandish their latest theories as warrior...</td>\n",
       "      <td>uncommon</td>\n",
       "      <td>Human,Wizard</td>\n",
       "      <td>NaN</td>\n",
       "      <td>Creature</td>\n",
       "    </tr>\n",
       "    <tr>\n",
       "      <td>2</td>\n",
       "      <td>Adarkar Wastes</td>\n",
       "      <td>U,W</td>\n",
       "      <td>NaN</td>\n",
       "      <td>0.0</td>\n",
       "      <td>NaN</td>\n",
       "      <td>rare</td>\n",
       "      <td>NaN</td>\n",
       "      <td>NaN</td>\n",
       "      <td>Land</td>\n",
       "    </tr>\n",
       "    <tr>\n",
       "      <td>3</td>\n",
       "      <td>Afflict</td>\n",
       "      <td>B</td>\n",
       "      <td>B</td>\n",
       "      <td>3.0</td>\n",
       "      <td>One rarely notices a heartbeat, save when it i...</td>\n",
       "      <td>common</td>\n",
       "      <td>NaN</td>\n",
       "      <td>NaN</td>\n",
       "      <td>Instant</td>\n",
       "    </tr>\n",
       "    <tr>\n",
       "      <td>4</td>\n",
       "      <td>Aggressive Urge</td>\n",
       "      <td>G</td>\n",
       "      <td>G</td>\n",
       "      <td>2.0</td>\n",
       "      <td>The power of the wild, concentrated in a singl...</td>\n",
       "      <td>common</td>\n",
       "      <td>NaN</td>\n",
       "      <td>NaN</td>\n",
       "      <td>Instant</td>\n",
       "    </tr>\n",
       "  </tbody>\n",
       "</table>\n",
       "</div>"
      ],
      "text/plain": [
       "                  name colorIdentity colors  convertedManaCost  \\\n",
       "0            Abundance             G      G                4.0   \n",
       "1  Academy Researchers             U      U                3.0   \n",
       "2       Adarkar Wastes           U,W    NaN                0.0   \n",
       "3              Afflict             B      B                3.0   \n",
       "4      Aggressive Urge             G      G                2.0   \n",
       "\n",
       "                                          flavorText    rarity      subtypes  \\\n",
       "0                                                NaN      rare           NaN   \n",
       "1  They brandish their latest theories as warrior...  uncommon  Human,Wizard   \n",
       "2                                                NaN      rare           NaN   \n",
       "3  One rarely notices a heartbeat, save when it i...    common           NaN   \n",
       "4  The power of the wild, concentrated in a singl...    common           NaN   \n",
       "\n",
       "  supertypes        types  \n",
       "0        NaN  Enchantment  \n",
       "1        NaN     Creature  \n",
       "2        NaN         Land  \n",
       "3        NaN      Instant  \n",
       "4        NaN      Instant  "
      ]
     },
     "execution_count": 8,
     "metadata": {},
     "output_type": "execute_result"
    }
   ],
   "source": [
    "df = df[df.isPaper==1]\n",
    "df = df.drop(columns='isPaper')\n",
    "df.head()"
   ]
  },
  {
   "cell_type": "code",
   "execution_count": null,
   "metadata": {},
   "outputs": [],
   "source": [
    "df.shape"
   ]
  },
  {
   "cell_type": "code",
   "execution_count": null,
   "metadata": {},
   "outputs": [],
   "source": [
    "df.head()"
   ]
  },
  {
   "cell_type": "code",
   "execution_count": null,
   "metadata": {},
   "outputs": [],
   "source": [
    "df[df.name == \"Nyxborn Courser\"]"
   ]
  },
  {
   "cell_type": "code",
   "execution_count": null,
   "metadata": {},
   "outputs": [],
   "source": [
    "df.isStorySpotlight.value_counts()"
   ]
  },
  {
   "cell_type": "code",
   "execution_count": null,
   "metadata": {},
   "outputs": [],
   "source": [
    "df.subtypes.value_counts()"
   ]
  },
  {
   "cell_type": "code",
   "execution_count": null,
   "metadata": {},
   "outputs": [],
   "source": [
    "df[df.isPaper==1].head()"
   ]
  },
  {
   "cell_type": "code",
   "execution_count": null,
   "metadata": {},
   "outputs": [],
   "source": [
    "df.supertypes.value_counts()"
   ]
  },
  {
   "cell_type": "code",
   "execution_count": null,
   "metadata": {},
   "outputs": [],
   "source": []
  },
  {
   "cell_type": "code",
   "execution_count": null,
   "metadata": {},
   "outputs": [],
   "source": []
  },
  {
   "cell_type": "code",
   "execution_count": null,
   "metadata": {},
   "outputs": [],
   "source": []
  }
 ],
 "metadata": {
  "kernelspec": {
   "display_name": "Python 3",
   "language": "python",
   "name": "python3"
  },
  "language_info": {
   "codemirror_mode": {
    "name": "ipython",
    "version": 3
   },
   "file_extension": ".py",
   "mimetype": "text/x-python",
   "name": "python",
   "nbconvert_exporter": "python",
   "pygments_lexer": "ipython3",
   "version": "3.7.4"
  }
 },
 "nbformat": 4,
 "nbformat_minor": 2
}
