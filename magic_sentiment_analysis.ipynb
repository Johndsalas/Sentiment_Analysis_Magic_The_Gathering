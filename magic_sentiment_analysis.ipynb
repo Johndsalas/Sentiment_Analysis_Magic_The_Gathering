{
 "cells": [
  {
   "cell_type": "markdown",
   "metadata": {},
   "source": [
    "## Goals:\n",
    "\n",
    "**1. Determine drivers of sentiment in the flavor text in Magic: The Gathering cards.**\n",
    "\n",
    "**2. Develop a model to predict the sentiment of flavor text in Magic: The Gathering cards.**"
   ]
  },
  {
   "cell_type": "code",
   "execution_count": 1,
   "metadata": {},
   "outputs": [],
   "source": [
    "# imports and display options\n",
    "\n",
    "import pandas as pd\n",
    "import numpy as np\n",
    "from vaderSentiment.vaderSentiment import SentimentIntensityAnalyzer\n",
    "\n",
    "import prepare as p\n",
    "\n",
    "pd.set_option('display.max_colwidth', -1)"
   ]
  },
  {
   "cell_type": "markdown",
   "metadata": {},
   "source": [
    "# Acquire\n",
    "\n",
    "1. A CSV, containing an up to date breakdown of each Magic card that has been printed so far, was obtained from MTGJSON.com. Each row represented a card or a version of a card.The dataframe contained 50,412 rows and 71 columns.\n",
    "\n",
    "2. The CSV was read into a pandas dataframe\n",
    "\n",
    "# Prepare\n",
    "\n",
    "1. Restricted dataframe to only to columns I considered to be relevant. (colorIdentity, types, convertedManaCost, rarity, flavorText, isPaper)\n",
    " \n",
    "2. Restricted dataframe to only rows containing cards that exist in physical form\n",
    "\n",
    "3. Restricted dataframe to only row containing a flavor text\n",
    "\n",
    "4. Restricted dataframe to only rows with a single color-identity\n",
    "\n",
    "5. Merged rows with similar or overlapping types into one of the seven major game types\n",
    "\n",
    "6. Restricted dataframe to include only rows with a single type belonging to one of the major game types\n",
    "\n",
    "7. Cleaned up flavor text then aggregated on flavorText in an attempt to eliminate duplicates. This game me some success. However, it is likely that a few duplicates remain.\n",
    "\n",
    "8. Reordered columns\n",
    "\n",
    "9. Restricted dataframe to rows with English flavor text \n",
    "\n",
    "10. Dropped rows with duplicates I happened to spot\n",
    "\n",
    "11. Added sentiment column showing compound sentiment score using VADER\n",
    "\n",
    "12. Added intensity column showing the absolute value of the compound sentiment score "
   ]
  },
  {
   "cell_type": "code",
   "execution_count": 2,
   "metadata": {
    "scrolled": true
   },
   "outputs": [],
   "source": [
    "# load and prepare data\n",
    "#df = p.prepare_mgt(p.wrangle_mtg())"
   ]
  },
  {
   "cell_type": "code",
   "execution_count": 3,
   "metadata": {},
   "outputs": [],
   "source": [
    "#df.to_csv('mtgprep.csv', index=False)"
   ]
  },
  {
   "cell_type": "code",
   "execution_count": 4,
   "metadata": {},
   "outputs": [],
   "source": [
    "df = pd.read_csv('mtgprep.csv')"
   ]
  },
  {
   "cell_type": "code",
   "execution_count": 5,
   "metadata": {},
   "outputs": [
    {
     "data": {
      "text/html": [
       "<div>\n",
       "<style scoped>\n",
       "    .dataframe tbody tr th:only-of-type {\n",
       "        vertical-align: middle;\n",
       "    }\n",
       "\n",
       "    .dataframe tbody tr th {\n",
       "        vertical-align: top;\n",
       "    }\n",
       "\n",
       "    .dataframe thead th {\n",
       "        text-align: right;\n",
       "    }\n",
       "</style>\n",
       "<table border=\"1\" class=\"dataframe\">\n",
       "  <thead>\n",
       "    <tr style=\"text-align: right;\">\n",
       "      <th></th>\n",
       "      <th>colorIdentity</th>\n",
       "      <th>types</th>\n",
       "      <th>convertedManaCost</th>\n",
       "      <th>rarity</th>\n",
       "      <th>flavorText</th>\n",
       "      <th>sentiment</th>\n",
       "      <th>intensity</th>\n",
       "    </tr>\n",
       "  </thead>\n",
       "  <tbody>\n",
       "    <tr>\n",
       "      <td>0</td>\n",
       "      <td>Green</td>\n",
       "      <td>Creature</td>\n",
       "      <td>5.0</td>\n",
       "      <td>common</td>\n",
       "      <td>\" . . . And the third little boar built his house out of rootwalla plates . . . .\"</td>\n",
       "      <td>0.0000</td>\n",
       "      <td>0.0000</td>\n",
       "    </tr>\n",
       "    <tr>\n",
       "      <td>1</td>\n",
       "      <td>Black</td>\n",
       "      <td>Creature</td>\n",
       "      <td>1.0</td>\n",
       "      <td>common</td>\n",
       "      <td>\" . . . Cao Pi, Cao Rui, Fang, Mao, and briefly, Huan—  The Sima took the empire in their turn. . . .\"</td>\n",
       "      <td>0.0000</td>\n",
       "      <td>0.0000</td>\n",
       "    </tr>\n",
       "    <tr>\n",
       "      <td>2</td>\n",
       "      <td>Blue</td>\n",
       "      <td>Creature</td>\n",
       "      <td>5.0</td>\n",
       "      <td>uncommon</td>\n",
       "      <td>\" . . . When the trees bow down their heads, The wind is passing by.\"</td>\n",
       "      <td>0.0000</td>\n",
       "      <td>0.0000</td>\n",
       "    </tr>\n",
       "    <tr>\n",
       "      <td>3</td>\n",
       "      <td>White</td>\n",
       "      <td>Creature</td>\n",
       "      <td>4.0</td>\n",
       "      <td>uncommon</td>\n",
       "      <td>\" . . . and you must also apply for an application license, file documents 136(iv) and 22-C and -D in triplicate, pay all requisite fees, request a . . .\"</td>\n",
       "      <td>-0.1027</td>\n",
       "      <td>0.1027</td>\n",
       "    </tr>\n",
       "    <tr>\n",
       "      <td>4</td>\n",
       "      <td>Green</td>\n",
       "      <td>Creature</td>\n",
       "      <td>4.0</td>\n",
       "      <td>common</td>\n",
       "      <td>\"'Air superiority?' Not while our archers scan the skies.\"</td>\n",
       "      <td>0.0000</td>\n",
       "      <td>0.0000</td>\n",
       "    </tr>\n",
       "  </tbody>\n",
       "</table>\n",
       "</div>"
      ],
      "text/plain": [
       "  colorIdentity     types  convertedManaCost    rarity  \\\n",
       "0  Green         Creature  5.0                common     \n",
       "1  Black         Creature  1.0                common     \n",
       "2  Blue          Creature  5.0                uncommon   \n",
       "3  White         Creature  4.0                uncommon   \n",
       "4  Green         Creature  4.0                common     \n",
       "\n",
       "                                                                                                                                                   flavorText  \\\n",
       "0  \" . . . And the third little boar built his house out of rootwalla plates . . . .\"                                                                           \n",
       "1  \" . . . Cao Pi, Cao Rui, Fang, Mao, and briefly, Huan—  The Sima took the empire in their turn. . . .\"                                                       \n",
       "2  \" . . . When the trees bow down their heads, The wind is passing by.\"                                                                                        \n",
       "3  \" . . . and you must also apply for an application license, file documents 136(iv) and 22-C and -D in triplicate, pay all requisite fees, request a . . .\"   \n",
       "4  \"'Air superiority?' Not while our archers scan the skies.\"                                                                                                   \n",
       "\n",
       "   sentiment  intensity  \n",
       "0  0.0000     0.0000     \n",
       "1  0.0000     0.0000     \n",
       "2  0.0000     0.0000     \n",
       "3 -0.1027     0.1027     \n",
       "4  0.0000     0.0000     "
      ]
     },
     "execution_count": 5,
     "metadata": {},
     "output_type": "execute_result"
    }
   ],
   "source": [
    "df.head(5)"
   ]
  },
  {
   "cell_type": "markdown",
   "metadata": {},
   "source": [
    "# Explore"
   ]
  },
  {
   "cell_type": "code",
   "execution_count": 6,
   "metadata": {},
   "outputs": [
    {
     "data": {
      "text/plain": [
       "(12450, 7)"
      ]
     },
     "execution_count": 6,
     "metadata": {},
     "output_type": "execute_result"
    }
   ],
   "source": [
    "df.shape"
   ]
  },
  {
   "cell_type": "code",
   "execution_count": 7,
   "metadata": {},
   "outputs": [
    {
     "data": {
      "text/html": [
       "<div>\n",
       "<style scoped>\n",
       "    .dataframe tbody tr th:only-of-type {\n",
       "        vertical-align: middle;\n",
       "    }\n",
       "\n",
       "    .dataframe tbody tr th {\n",
       "        vertical-align: top;\n",
       "    }\n",
       "\n",
       "    .dataframe thead th {\n",
       "        text-align: right;\n",
       "    }\n",
       "</style>\n",
       "<table border=\"1\" class=\"dataframe\">\n",
       "  <thead>\n",
       "    <tr style=\"text-align: right;\">\n",
       "      <th></th>\n",
       "      <th>convertedManaCost</th>\n",
       "      <th>sentiment</th>\n",
       "      <th>intensity</th>\n",
       "    </tr>\n",
       "  </thead>\n",
       "  <tbody>\n",
       "    <tr>\n",
       "      <td>count</td>\n",
       "      <td>12450.000000</td>\n",
       "      <td>12450.000000</td>\n",
       "      <td>12450.000000</td>\n",
       "    </tr>\n",
       "    <tr>\n",
       "      <td>mean</td>\n",
       "      <td>3.175382</td>\n",
       "      <td>-0.024309</td>\n",
       "      <td>0.321123</td>\n",
       "    </tr>\n",
       "    <tr>\n",
       "      <td>std</td>\n",
       "      <td>1.611502</td>\n",
       "      <td>0.423125</td>\n",
       "      <td>0.276581</td>\n",
       "    </tr>\n",
       "    <tr>\n",
       "      <td>min</td>\n",
       "      <td>0.000000</td>\n",
       "      <td>-0.979200</td>\n",
       "      <td>0.000000</td>\n",
       "    </tr>\n",
       "    <tr>\n",
       "      <td>25%</td>\n",
       "      <td>2.000000</td>\n",
       "      <td>-0.340000</td>\n",
       "      <td>0.000000</td>\n",
       "    </tr>\n",
       "    <tr>\n",
       "      <td>50%</td>\n",
       "      <td>3.000000</td>\n",
       "      <td>0.000000</td>\n",
       "      <td>0.318200</td>\n",
       "    </tr>\n",
       "    <tr>\n",
       "      <td>75%</td>\n",
       "      <td>4.000000</td>\n",
       "      <td>0.296000</td>\n",
       "      <td>0.542300</td>\n",
       "    </tr>\n",
       "    <tr>\n",
       "      <td>max</td>\n",
       "      <td>15.000000</td>\n",
       "      <td>0.954500</td>\n",
       "      <td>0.979200</td>\n",
       "    </tr>\n",
       "  </tbody>\n",
       "</table>\n",
       "</div>"
      ],
      "text/plain": [
       "       convertedManaCost     sentiment     intensity\n",
       "count  12450.000000       12450.000000  12450.000000\n",
       "mean   3.175382          -0.024309      0.321123    \n",
       "std    1.611502           0.423125      0.276581    \n",
       "min    0.000000          -0.979200      0.000000    \n",
       "25%    2.000000          -0.340000      0.000000    \n",
       "50%    3.000000           0.000000      0.318200    \n",
       "75%    4.000000           0.296000      0.542300    \n",
       "max    15.000000          0.954500      0.979200    "
      ]
     },
     "execution_count": 7,
     "metadata": {},
     "output_type": "execute_result"
    }
   ],
   "source": [
    "df.describe()"
   ]
  },
  {
   "cell_type": "code",
   "execution_count": 8,
   "metadata": {},
   "outputs": [
    {
     "data": {
      "text/html": [
       "<div>\n",
       "<style scoped>\n",
       "    .dataframe tbody tr th:only-of-type {\n",
       "        vertical-align: middle;\n",
       "    }\n",
       "\n",
       "    .dataframe tbody tr th {\n",
       "        vertical-align: top;\n",
       "    }\n",
       "\n",
       "    .dataframe thead th {\n",
       "        text-align: right;\n",
       "    }\n",
       "</style>\n",
       "<table border=\"1\" class=\"dataframe\">\n",
       "  <thead>\n",
       "    <tr style=\"text-align: right;\">\n",
       "      <th></th>\n",
       "      <th>colorIdentity</th>\n",
       "      <th>types</th>\n",
       "      <th>convertedManaCost</th>\n",
       "      <th>rarity</th>\n",
       "      <th>flavorText</th>\n",
       "      <th>sentiment</th>\n",
       "      <th>intensity</th>\n",
       "    </tr>\n",
       "  </thead>\n",
       "  <tbody>\n",
       "    <tr>\n",
       "      <td>5112</td>\n",
       "      <td>Black</td>\n",
       "      <td>Creature</td>\n",
       "      <td>3.0</td>\n",
       "      <td>common</td>\n",
       "      <td>\"We mourn our dead. We shroud our dead. We bury our dead. Too often, it seems, we must kill our dead again.\"</td>\n",
       "      <td>-0.9792</td>\n",
       "      <td>0.9792</td>\n",
       "    </tr>\n",
       "    <tr>\n",
       "      <td>2943</td>\n",
       "      <td>White</td>\n",
       "      <td>Creature</td>\n",
       "      <td>6.0</td>\n",
       "      <td>uncommon</td>\n",
       "      <td>\"No more fear. No more failure. No more death. No more!\"</td>\n",
       "      <td>-0.9605</td>\n",
       "      <td>0.9605</td>\n",
       "    </tr>\n",
       "    <tr>\n",
       "      <td>9135</td>\n",
       "      <td>White</td>\n",
       "      <td>Enchantment</td>\n",
       "      <td>2.0</td>\n",
       "      <td>uncommon</td>\n",
       "      <td>No one spoke. There was no need. The threat of the Eldrazi presented a simple choice: lay down your weapons and die for nothing, or hold them fast and die for something.</td>\n",
       "      <td>-0.9552</td>\n",
       "      <td>0.9552</td>\n",
       "    </tr>\n",
       "    <tr>\n",
       "      <td>2434</td>\n",
       "      <td>Black</td>\n",
       "      <td>Enchantment</td>\n",
       "      <td>3.0</td>\n",
       "      <td>uncommon</td>\n",
       "      <td>\"Kill a creature, destroy the present. Kill the land, destroy the future.\"</td>\n",
       "      <td>-0.9545</td>\n",
       "      <td>0.9545</td>\n",
       "    </tr>\n",
       "    <tr>\n",
       "      <td>11432</td>\n",
       "      <td>Black</td>\n",
       "      <td>Creature</td>\n",
       "      <td>3.0</td>\n",
       "      <td>common</td>\n",
       "      <td>There are laws against it, but the dead have no one to complain to and the living are too frightened to investigate.</td>\n",
       "      <td>-0.9505</td>\n",
       "      <td>0.9505</td>\n",
       "    </tr>\n",
       "    <tr>\n",
       "      <td>7752</td>\n",
       "      <td>Black</td>\n",
       "      <td>Creature</td>\n",
       "      <td>4.0</td>\n",
       "      <td>common</td>\n",
       "      <td>Heartless killer in life, brainless killer in death.</td>\n",
       "      <td>-0.9493</td>\n",
       "      <td>0.9493</td>\n",
       "    </tr>\n",
       "    <tr>\n",
       "      <td>9904</td>\n",
       "      <td>Red</td>\n",
       "      <td>Creature</td>\n",
       "      <td>5.0</td>\n",
       "      <td>common</td>\n",
       "      <td>Some tried cremating their dead to stop the ghoulcallers. But the dead returned, furious about their fate.</td>\n",
       "      <td>-0.9455</td>\n",
       "      <td>0.9455</td>\n",
       "    </tr>\n",
       "    <tr>\n",
       "      <td>4705</td>\n",
       "      <td>Black</td>\n",
       "      <td>Enchantment</td>\n",
       "      <td>3.0</td>\n",
       "      <td>uncommon</td>\n",
       "      <td>\"This pestilence robs us of glorious death in battle. We starve to death with full bellies and drown trying to slake our unnatural thirst.\"</td>\n",
       "      <td>-0.9413</td>\n",
       "      <td>0.9413</td>\n",
       "    </tr>\n",
       "    <tr>\n",
       "      <td>3319</td>\n",
       "      <td>Red</td>\n",
       "      <td>Instant</td>\n",
       "      <td>1.0</td>\n",
       "      <td>common</td>\n",
       "      <td>\"Rage is a dangerous weapon. Your enemies will try to use your anger against you. Use it against them first.\"</td>\n",
       "      <td>-0.9413</td>\n",
       "      <td>0.9413</td>\n",
       "    </tr>\n",
       "    <tr>\n",
       "      <td>1212</td>\n",
       "      <td>Red</td>\n",
       "      <td>Enchantment</td>\n",
       "      <td>3.0</td>\n",
       "      <td>common</td>\n",
       "      <td>\"Goblins charge with a deafening war cry. The cry doesn't mean anything—it just drowns out the drums!\"</td>\n",
       "      <td>-0.9412</td>\n",
       "      <td>0.9412</td>\n",
       "    </tr>\n",
       "  </tbody>\n",
       "</table>\n",
       "</div>"
      ],
      "text/plain": [
       "      colorIdentity        types  convertedManaCost    rarity  \\\n",
       "5112   Black         Creature     3.0                common     \n",
       "2943   White         Creature     6.0                uncommon   \n",
       "9135   White         Enchantment  2.0                uncommon   \n",
       "2434   Black         Enchantment  3.0                uncommon   \n",
       "11432  Black         Creature     3.0                common     \n",
       "7752   Black         Creature     4.0                common     \n",
       "9904   Red           Creature     5.0                common     \n",
       "4705   Black         Enchantment  3.0                uncommon   \n",
       "3319   Red           Instant      1.0                common     \n",
       "1212   Red           Enchantment  3.0                common     \n",
       "\n",
       "                                                                                                                                                                      flavorText  \\\n",
       "5112   \"We mourn our dead. We shroud our dead. We bury our dead. Too often, it seems, we must kill our dead again.\"                                                                \n",
       "2943   \"No more fear. No more failure. No more death. No more!\"                                                                                                                    \n",
       "9135   No one spoke. There was no need. The threat of the Eldrazi presented a simple choice: lay down your weapons and die for nothing, or hold them fast and die for something.   \n",
       "2434   \"Kill a creature, destroy the present. Kill the land, destroy the future.\"                                                                                                  \n",
       "11432  There are laws against it, but the dead have no one to complain to and the living are too frightened to investigate.                                                        \n",
       "7752   Heartless killer in life, brainless killer in death.                                                                                                                        \n",
       "9904   Some tried cremating their dead to stop the ghoulcallers. But the dead returned, furious about their fate.                                                                  \n",
       "4705   \"This pestilence robs us of glorious death in battle. We starve to death with full bellies and drown trying to slake our unnatural thirst.\"                                 \n",
       "3319   \"Rage is a dangerous weapon. Your enemies will try to use your anger against you. Use it against them first.\"                                                               \n",
       "1212   \"Goblins charge with a deafening war cry. The cry doesn't mean anything—it just drowns out the drums!\"                                                                      \n",
       "\n",
       "       sentiment  intensity  \n",
       "5112  -0.9792     0.9792     \n",
       "2943  -0.9605     0.9605     \n",
       "9135  -0.9552     0.9552     \n",
       "2434  -0.9545     0.9545     \n",
       "11432 -0.9505     0.9505     \n",
       "7752  -0.9493     0.9493     \n",
       "9904  -0.9455     0.9455     \n",
       "4705  -0.9413     0.9413     \n",
       "3319  -0.9413     0.9413     \n",
       "1212  -0.9412     0.9412     "
      ]
     },
     "execution_count": 8,
     "metadata": {},
     "output_type": "execute_result"
    }
   ],
   "source": [
    "df.sort_values('sentiment').head(10)"
   ]
  },
  {
   "cell_type": "code",
   "execution_count": 9,
   "metadata": {},
   "outputs": [
    {
     "data": {
      "text/html": [
       "<div>\n",
       "<style scoped>\n",
       "    .dataframe tbody tr th:only-of-type {\n",
       "        vertical-align: middle;\n",
       "    }\n",
       "\n",
       "    .dataframe tbody tr th {\n",
       "        vertical-align: top;\n",
       "    }\n",
       "\n",
       "    .dataframe thead th {\n",
       "        text-align: right;\n",
       "    }\n",
       "</style>\n",
       "<table border=\"1\" class=\"dataframe\">\n",
       "  <thead>\n",
       "    <tr style=\"text-align: right;\">\n",
       "      <th></th>\n",
       "      <th>colorIdentity</th>\n",
       "      <th>types</th>\n",
       "      <th>convertedManaCost</th>\n",
       "      <th>rarity</th>\n",
       "      <th>flavorText</th>\n",
       "      <th>sentiment</th>\n",
       "      <th>intensity</th>\n",
       "    </tr>\n",
       "  </thead>\n",
       "  <tbody>\n",
       "    <tr>\n",
       "      <td>9887</td>\n",
       "      <td>Blue</td>\n",
       "      <td>Creature</td>\n",
       "      <td>3.0</td>\n",
       "      <td>common</td>\n",
       "      <td>Some spectators love an underdog, but others are just as happy to support a proven winner.</td>\n",
       "      <td>0.9545</td>\n",
       "      <td>0.9545</td>\n",
       "    </tr>\n",
       "    <tr>\n",
       "      <td>8850</td>\n",
       "      <td>Green</td>\n",
       "      <td>Instant</td>\n",
       "      <td>2.0</td>\n",
       "      <td>common</td>\n",
       "      <td>MORE TO LOVE: Friendly, nature-loving, Bunyonesque SEM seeks SEF looking for a huge commitment. . . . seeks atog prince</td>\n",
       "      <td>0.9426</td>\n",
       "      <td>0.9426</td>\n",
       "    </tr>\n",
       "    <tr>\n",
       "      <td>3853</td>\n",
       "      <td>White</td>\n",
       "      <td>Creature</td>\n",
       "      <td>2.0</td>\n",
       "      <td>common</td>\n",
       "      <td>\"The aven are heralds of divinity. The greatest glory is to join them in the sky.\"</td>\n",
       "      <td>0.9274</td>\n",
       "      <td>0.9274</td>\n",
       "    </tr>\n",
       "    <tr>\n",
       "      <td>11773</td>\n",
       "      <td>White</td>\n",
       "      <td>Creature</td>\n",
       "      <td>2.0</td>\n",
       "      <td>rare</td>\n",
       "      <td>To become an officer, an Icatian Soldier had to pass a series of tests. These evaluated not only fighting and leadership skills, but also integrity, honor, and moral strength.</td>\n",
       "      <td>0.9268</td>\n",
       "      <td>0.9268</td>\n",
       "    </tr>\n",
       "    <tr>\n",
       "      <td>5313</td>\n",
       "      <td>White</td>\n",
       "      <td>Instant</td>\n",
       "      <td>1.0</td>\n",
       "      <td>common</td>\n",
       "      <td>\"When I wish to be strong, I train. When I wish to be wise, I study. When I wish to rest, I start again.\"</td>\n",
       "      <td>0.9260</td>\n",
       "      <td>0.9260</td>\n",
       "    </tr>\n",
       "    <tr>\n",
       "      <td>7968</td>\n",
       "      <td>Green</td>\n",
       "      <td>Creature</td>\n",
       "      <td>4.0</td>\n",
       "      <td>uncommon</td>\n",
       "      <td>If you find yourself and a friend being chased by a king cheetah, you have but one chance: Trip your friend. —Suq'Ata wisdom</td>\n",
       "      <td>0.9260</td>\n",
       "      <td>0.9260</td>\n",
       "    </tr>\n",
       "    <tr>\n",
       "      <td>7967</td>\n",
       "      <td>Green</td>\n",
       "      <td>Creature</td>\n",
       "      <td>4.0</td>\n",
       "      <td>common</td>\n",
       "      <td>If you find yourself and a friend being chased by a King Cheetah, you have but one chance: Trip your friend. —Suq'Ata wisdom</td>\n",
       "      <td>0.9260</td>\n",
       "      <td>0.9260</td>\n",
       "    </tr>\n",
       "    <tr>\n",
       "      <td>4610</td>\n",
       "      <td>Red</td>\n",
       "      <td>Enchantment</td>\n",
       "      <td>5.0</td>\n",
       "      <td>uncommon</td>\n",
       "      <td>\"They said obey and you'll be happy. They said you'll be safe. But we're not safe. We're not happy. And we will not obey.\"</td>\n",
       "      <td>0.9217</td>\n",
       "      <td>0.9217</td>\n",
       "    </tr>\n",
       "    <tr>\n",
       "      <td>6562</td>\n",
       "      <td>White</td>\n",
       "      <td>Creature</td>\n",
       "      <td>2.0</td>\n",
       "      <td>common</td>\n",
       "      <td>Before a woman marries in the village of Sursi, she must visit the land of the Mesa Pegasus. Legend has it that if the woman is pure of heart and her love is true, a Mesa Pegasus will appear, blessing her family with long life and good fortune.</td>\n",
       "      <td>0.9201</td>\n",
       "      <td>0.9201</td>\n",
       "    </tr>\n",
       "    <tr>\n",
       "      <td>6563</td>\n",
       "      <td>White</td>\n",
       "      <td>Creature</td>\n",
       "      <td>2.0</td>\n",
       "      <td>common</td>\n",
       "      <td>Before a woman marries in the village of Sursi, she must visit the land of the mesa pegasus. Legend has it that if the woman is pure of heart and her love is true, a mesa pegasus will appear, blessing her family with long life and good fortune.</td>\n",
       "      <td>0.9201</td>\n",
       "      <td>0.9201</td>\n",
       "    </tr>\n",
       "  </tbody>\n",
       "</table>\n",
       "</div>"
      ],
      "text/plain": [
       "      colorIdentity        types  convertedManaCost    rarity  \\\n",
       "9887   Blue          Creature     3.0                common     \n",
       "8850   Green         Instant      2.0                common     \n",
       "3853   White         Creature     2.0                common     \n",
       "11773  White         Creature     2.0                rare       \n",
       "5313   White         Instant      1.0                common     \n",
       "7968   Green         Creature     4.0                uncommon   \n",
       "7967   Green         Creature     4.0                common     \n",
       "4610   Red           Enchantment  5.0                uncommon   \n",
       "6562   White         Creature     2.0                common     \n",
       "6563   White         Creature     2.0                common     \n",
       "\n",
       "                                                                                                                                                                                                                                                 flavorText  \\\n",
       "9887   Some spectators love an underdog, but others are just as happy to support a proven winner.                                                                                                                                                             \n",
       "8850   MORE TO LOVE: Friendly, nature-loving, Bunyonesque SEM seeks SEF looking for a huge commitment. . . . seeks atog prince                                                                                                                                \n",
       "3853   \"The aven are heralds of divinity. The greatest glory is to join them in the sky.\"                                                                                                                                                                     \n",
       "11773  To become an officer, an Icatian Soldier had to pass a series of tests. These evaluated not only fighting and leadership skills, but also integrity, honor, and moral strength.                                                                        \n",
       "5313   \"When I wish to be strong, I train. When I wish to be wise, I study. When I wish to rest, I start again.\"                                                                                                                                              \n",
       "7968   If you find yourself and a friend being chased by a king cheetah, you have but one chance: Trip your friend. —Suq'Ata wisdom                                                                                                                           \n",
       "7967   If you find yourself and a friend being chased by a King Cheetah, you have but one chance: Trip your friend. —Suq'Ata wisdom                                                                                                                           \n",
       "4610   \"They said obey and you'll be happy. They said you'll be safe. But we're not safe. We're not happy. And we will not obey.\"                                                                                                                             \n",
       "6562   Before a woman marries in the village of Sursi, she must visit the land of the Mesa Pegasus. Legend has it that if the woman is pure of heart and her love is true, a Mesa Pegasus will appear, blessing her family with long life and good fortune.   \n",
       "6563   Before a woman marries in the village of Sursi, she must visit the land of the mesa pegasus. Legend has it that if the woman is pure of heart and her love is true, a mesa pegasus will appear, blessing her family with long life and good fortune.   \n",
       "\n",
       "       sentiment  intensity  \n",
       "9887   0.9545     0.9545     \n",
       "8850   0.9426     0.9426     \n",
       "3853   0.9274     0.9274     \n",
       "11773  0.9268     0.9268     \n",
       "5313   0.9260     0.9260     \n",
       "7968   0.9260     0.9260     \n",
       "7967   0.9260     0.9260     \n",
       "4610   0.9217     0.9217     \n",
       "6562   0.9201     0.9201     \n",
       "6563   0.9201     0.9201     "
      ]
     },
     "execution_count": 9,
     "metadata": {},
     "output_type": "execute_result"
    }
   ],
   "source": [
    "df.sort_values('sentiment',ascending=False).head(10)"
   ]
  },
  {
   "cell_type": "markdown",
   "metadata": {},
   "source": [
    "# remove 7968 6562"
   ]
  },
  {
   "cell_type": "code",
   "execution_count": 10,
   "metadata": {},
   "outputs": [
    {
     "name": "stdout",
     "output_type": "stream",
     "text": [
      "White: 0.033336136096988614\n",
      "Blue: 0.009366791510611757\n",
      "Black: -0.11650165790537789\n",
      "Red: -0.05752559500585269\n",
      "Green: 0.010246740016299917\n"
     ]
    }
   ],
   "source": [
    "colors = ['White','Blue','Black','Red','Green']\n",
    "\n",
    "for color in colors:\n",
    "\n",
    "    number = df[df.colorIdentity==f'{color}'].sentiment.mean()\n",
    "      \n",
    "    print(f'{color}: {number}')"
   ]
  },
  {
   "cell_type": "code",
   "execution_count": 11,
   "metadata": {},
   "outputs": [
    {
     "name": "stdout",
     "output_type": "stream",
     "text": [
      "White: 0.34625189675400925\n",
      "Blue: 0.2877126092384525\n",
      "Black: 0.3489686211079672\n",
      "Red: 0.3209056964494746\n",
      "Green: 0.299823186634067\n"
     ]
    }
   ],
   "source": [
    "colors = ['White','Blue','Black','Red','Green']\n",
    "\n",
    "for color in colors:\n",
    "\n",
    "    number = df[df.colorIdentity==f'{color}'].intensity.mean()\n",
    "      \n",
    "    print(f'{color}: {number}')"
   ]
  },
  {
   "cell_type": "code",
   "execution_count": 12,
   "metadata": {},
   "outputs": [
    {
     "name": "stdout",
     "output_type": "stream",
     "text": [
      "White: 0.3612\n",
      "Blue: 0.2755\n",
      "Black: 0.3612\n",
      "Red: 0.3382\n",
      "Green: 0.29600000000000004\n"
     ]
    }
   ],
   "source": [
    "colors = ['White','Blue','Black','Red','Green']\n",
    "\n",
    "for color in colors:\n",
    "\n",
    "    number = df[df.colorIdentity==f'{color}'].intensity.median()\n",
    "      \n",
    "    print(f'{color}: {number}')"
   ]
  },
  {
   "cell_type": "code",
   "execution_count": 13,
   "metadata": {},
   "outputs": [
    {
     "name": "stdout",
     "output_type": "stream",
     "text": [
      "White: 0.1275\n",
      "Blue: 0.0442\n",
      "Black: -0.2933\n",
      "Red: -0.1695\n",
      "Green: 0.0516\n"
     ]
    },
    {
     "name": "stderr",
     "output_type": "stream",
     "text": [
      "/usr/local/anaconda3/lib/python3.7/site-packages/ipykernel_launcher.py:5: UserWarning: Boolean Series key will be reindexed to match DataFrame index.\n",
      "  \"\"\"\n"
     ]
    }
   ],
   "source": [
    "colors = ['White','Blue','Black','Red','Green']\n",
    "\n",
    "for color in colors:\n",
    "\n",
    "    number = df[df.colorIdentity==f'{color}'][df.sentiment!=0].sentiment.median()\n",
    "      \n",
    "    print(f'{color}: {number}')"
   ]
  },
  {
   "cell_type": "code",
   "execution_count": 14,
   "metadata": {},
   "outputs": [
    {
     "data": {
      "text/plain": [
       "Green    820\n",
       "Blue     788\n",
       "Red      734\n",
       "White    639\n",
       "Black    599\n",
       "Name: colorIdentity, dtype: int64"
      ]
     },
     "execution_count": 14,
     "metadata": {},
     "output_type": "execute_result"
    }
   ],
   "source": [
    "df[df.sentiment==0].colorIdentity.value_counts()"
   ]
  },
  {
   "cell_type": "code",
   "execution_count": 15,
   "metadata": {},
   "outputs": [
    {
     "name": "stdout",
     "output_type": "stream",
     "text": [
      "common: -0.02718227058029704\n",
      "uncommon: -0.016754747530186628\n",
      "rare: -0.028907476979742233\n",
      "mythic: -0.012133128834355836\n"
     ]
    }
   ],
   "source": [
    "rarity = ['common','uncommon','rare','mythic']\n",
    "\n",
    "for grade in rarity:\n",
    "\n",
    "    number = df[df.rarity==f'{grade}'].sentiment.mean()\n",
    "      \n",
    "    print(f'{grade}: {number}')"
   ]
  },
  {
   "cell_type": "code",
   "execution_count": 16,
   "metadata": {},
   "outputs": [
    {
     "name": "stdout",
     "output_type": "stream",
     "text": [
      "common: 0.33299999999999996\n",
      "uncommon: 0.3182\n",
      "rare: 0.3182\n",
      "mythic: 0.3182\n"
     ]
    }
   ],
   "source": [
    "rarity = ['common','uncommon','rare','mythic']\n",
    "\n",
    "for grade in rarity:\n",
    "\n",
    "    number = df[df.rarity==f'{grade}'].intensity.median()\n",
    "      \n",
    "    print(f'{grade}: {number}')"
   ]
  },
  {
   "cell_type": "code",
   "execution_count": 17,
   "metadata": {},
   "outputs": [
    {
     "name": "stdout",
     "output_type": "stream",
     "text": [
      "Artifact: 0.036036585365853656\n",
      "Creature: -0.021316346704871165\n",
      "Enchantment: -0.023603877940241574\n",
      "Land: -0.07022207792207792\n",
      "Planeswalker: 0.5789\n",
      "Instant: -0.017080009920634912\n",
      "Sorcery: -0.04480777525539167\n"
     ]
    }
   ],
   "source": [
    "types = ['Artifact','Creature','Enchantment','Land','Planeswalker','Instant','Sorcery']\n",
    "\n",
    "for group in types:\n",
    "\n",
    "    number = df[df.types==f'{group}'].sentiment.mean()\n",
    "      \n",
    "    print(f'{group}: {number}')"
   ]
  },
  {
   "cell_type": "code",
   "execution_count": 18,
   "metadata": {},
   "outputs": [
    {
     "name": "stdout",
     "output_type": "stream",
     "text": [
      "Artifact: 0.20490975609756096\n",
      "Creature: 0.32212187679082915\n",
      "Enchantment: 0.3315320406865859\n",
      "Land: 0.1988662337662337\n",
      "Planeswalker: 0.5789\n",
      "Instant: 0.3155666170634929\n",
      "Sorcery: 0.3221342224744609\n"
     ]
    }
   ],
   "source": [
    "types = ['Artifact','Creature','Enchantment','Land','Planeswalker','Instant','Sorcery']\n",
    "\n",
    "for group in types:\n",
    "\n",
    "    number = df[df.types==f'{group}'].intensity.mean()\n",
    "      \n",
    "    print(f'{group}: {number}')"
   ]
  },
  {
   "cell_type": "code",
   "execution_count": 19,
   "metadata": {},
   "outputs": [
    {
     "name": "stdout",
     "output_type": "stream",
     "text": [
      "1.0: -0.012216839677047288  0.3213468281430217\n",
      "2.0: -0.015910475199445023  0.32042133194589056\n",
      "3.0: -0.023210602568324  0.32740342443200676\n",
      "4.0: -0.028640524017467285  0.311132314410481\n",
      "5.0: -0.034786757337151086  0.3312229778095921\n",
      "6.0: -0.05863503875969003  0.3260719379844958\n",
      "7.0: 0.007904918032786895  0.3175581967213113\n",
      "8.0: -0.10053444444444447  0.2773433333333332\n",
      "9.0: -0.12317931034482758  0.33608965517241374\n",
      "10.0: 0.3361272727272727  0.3361272727272727\n",
      "11.0: -0.15926  0.62946\n",
      "12.0: 0.2202  0.2202\n"
     ]
    }
   ],
   "source": [
    "costs = [1.0,2.0,3.0,4.0,5.0,6.0,7.0,8.0,9.0,10.0,11.0,12.0]\n",
    "\n",
    "for cost in costs: \n",
    "\n",
    "    number = df[df.convertedManaCost==float(f'{cost}')].sentiment.mean()\n",
    "    \n",
    "    number2 = df[df.convertedManaCost==float(f'{cost}')].intensity.mean()\n",
    "      \n",
    "    print(f'{cost}: {number}  {number2}')"
   ]
  },
  {
   "cell_type": "markdown",
   "metadata": {},
   "source": [
    "# Look at a frquency distribution of total cards into sentament and intensity buckets\n",
    "\n",
    "# Examin frequency of positive and negative sentament "
   ]
  },
  {
   "cell_type": "code",
   "execution_count": null,
   "metadata": {},
   "outputs": [],
   "source": []
  },
  {
   "cell_type": "code",
   "execution_count": null,
   "metadata": {},
   "outputs": [],
   "source": []
  }
 ],
 "metadata": {
  "kernelspec": {
   "display_name": "Python 3",
   "language": "python",
   "name": "python3"
  },
  "language_info": {
   "codemirror_mode": {
    "name": "ipython",
    "version": 3
   },
   "file_extension": ".py",
   "mimetype": "text/x-python",
   "name": "python",
   "nbconvert_exporter": "python",
   "pygments_lexer": "ipython3",
   "version": "3.7.4"
  }
 },
 "nbformat": 4,
 "nbformat_minor": 2
}
