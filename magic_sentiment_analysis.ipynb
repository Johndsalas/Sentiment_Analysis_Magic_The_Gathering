{
 "cells": [
  {
   "cell_type": "markdown",
   "metadata": {},
   "source": [
    "## Goals:\n",
    "\n",
    "**1. Determine drivers of sentiment in the flavor text in Magic: The Gathering cards.**\n",
    "\n",
    "**2. Develop a model to predict the sentiment of flavor text in Magic: The Gathering cards.**"
   ]
  },
  {
   "cell_type": "code",
   "execution_count": 1,
   "metadata": {},
   "outputs": [],
   "source": [
    "# imports\n",
    "\n",
    "import pandas as pd\n",
    "import numpy as np\n",
    "\n",
    "import prepare as p"
   ]
  },
  {
   "cell_type": "code",
   "execution_count": 2,
   "metadata": {},
   "outputs": [],
   "source": [
    "pd.set_option('display.max_colwidth', -1)"
   ]
  },
  {
   "cell_type": "code",
   "execution_count": 3,
   "metadata": {},
   "outputs": [
    {
     "name": "stderr",
     "output_type": "stream",
     "text": [
      "/usr/local/anaconda3/lib/python3.7/site-packages/IPython/core/interactiveshell.py:3249: DtypeWarning: Columns (5,8,14,38) have mixed types. Specify dtype option on import or set low_memory=False.\n",
      "  if (await self.run_code(code, result,  async_=asy)):\n"
     ]
    },
    {
     "data": {
      "text/html": [
       "<div>\n",
       "<style scoped>\n",
       "    .dataframe tbody tr th:only-of-type {\n",
       "        vertical-align: middle;\n",
       "    }\n",
       "\n",
       "    .dataframe tbody tr th {\n",
       "        vertical-align: top;\n",
       "    }\n",
       "\n",
       "    .dataframe thead th {\n",
       "        text-align: right;\n",
       "    }\n",
       "</style>\n",
       "<table border=\"1\" class=\"dataframe\">\n",
       "  <thead>\n",
       "    <tr style=\"text-align: right;\">\n",
       "      <th></th>\n",
       "      <th>colorIdentity</th>\n",
       "      <th>types</th>\n",
       "      <th>convertedManaCost</th>\n",
       "      <th>rarity</th>\n",
       "      <th>flavorText</th>\n",
       "    </tr>\n",
       "  </thead>\n",
       "  <tbody>\n",
       "    <tr>\n",
       "      <td>1</td>\n",
       "      <td>Blue</td>\n",
       "      <td>Creature</td>\n",
       "      <td>3.0</td>\n",
       "      <td>uncommon</td>\n",
       "      <td>They brandish their latest theories as warriors would wield weapons.</td>\n",
       "    </tr>\n",
       "    <tr>\n",
       "      <td>3</td>\n",
       "      <td>Black</td>\n",
       "      <td>Instant</td>\n",
       "      <td>3.0</td>\n",
       "      <td>common</td>\n",
       "      <td>One rarely notices a heartbeat, save when it is stolen.</td>\n",
       "    </tr>\n",
       "    <tr>\n",
       "      <td>4</td>\n",
       "      <td>Green</td>\n",
       "      <td>Instant</td>\n",
       "      <td>2.0</td>\n",
       "      <td>common</td>\n",
       "      <td>The power of the wild, concentrated in a single charge.</td>\n",
       "    </tr>\n",
       "    <tr>\n",
       "      <td>5</td>\n",
       "      <td>Black</td>\n",
       "      <td>Sorcery</td>\n",
       "      <td>4.0</td>\n",
       "      <td>uncommon</td>\n",
       "      <td>In the aftermath of war, when the slaying is long done, the greatest miseries come home to roost.</td>\n",
       "    </tr>\n",
       "    <tr>\n",
       "      <td>6</td>\n",
       "      <td>Blue</td>\n",
       "      <td>Creature</td>\n",
       "      <td>5.0</td>\n",
       "      <td>uncommon</td>\n",
       "      <td>\"The East Wind, an interloper in the dominions of Westerly Weather, is an impassive-faced tyrant with a sharp poniard held behind his back for a treacherous stab.\" —Joseph Conrad, The Mirror of the Sea</td>\n",
       "    </tr>\n",
       "    <tr>\n",
       "      <td>7</td>\n",
       "      <td>Blue</td>\n",
       "      <td>Creature</td>\n",
       "      <td>5.0</td>\n",
       "      <td>uncommon</td>\n",
       "      <td>\"The East Wind, an interloper in the dominions of Westerly Weather, is an impassive-faced tyrant with a sharp poniard held behind his back for a treacherous stab.\"\\n—Joseph Conrad, The Mirror of the Sea</td>\n",
       "    </tr>\n",
       "    <tr>\n",
       "      <td>8</td>\n",
       "      <td>Blue</td>\n",
       "      <td>Creature</td>\n",
       "      <td>3.0</td>\n",
       "      <td>rare</td>\n",
       "      <td>\"Life is a game. The only thing that matters is whether you're a pawn or a player.\"</td>\n",
       "    </tr>\n",
       "    <tr>\n",
       "      <td>9</td>\n",
       "      <td>Red</td>\n",
       "      <td>Creature</td>\n",
       "      <td>4.0</td>\n",
       "      <td>common</td>\n",
       "      <td>\"They who challenge a minotaur enjoy the taste of their own blood.\" —Mirri of the Weatherlight</td>\n",
       "    </tr>\n",
       "    <tr>\n",
       "      <td>10</td>\n",
       "      <td>Red</td>\n",
       "      <td>Creature</td>\n",
       "      <td>4.0</td>\n",
       "      <td>common</td>\n",
       "      <td>\"They who challenge a minotaur enjoy the taste of their own blood.\" —Mirri of the Weatherlight</td>\n",
       "    </tr>\n",
       "    <tr>\n",
       "      <td>12</td>\n",
       "      <td>White</td>\n",
       "      <td>Creature</td>\n",
       "      <td>7.0</td>\n",
       "      <td>uncommon</td>\n",
       "      <td>\"The will of all, by my hand done.\"</td>\n",
       "    </tr>\n",
       "    <tr>\n",
       "      <td>13</td>\n",
       "      <td>White</td>\n",
       "      <td>Creature</td>\n",
       "      <td>5.0</td>\n",
       "      <td>uncommon</td>\n",
       "      <td>Every tear shed is a drop of immortality.</td>\n",
       "    </tr>\n",
       "    <tr>\n",
       "      <td>14</td>\n",
       "      <td>White</td>\n",
       "      <td>Creature</td>\n",
       "      <td>5.0</td>\n",
       "      <td>uncommon</td>\n",
       "      <td>Every tear shed is a drop of immortality.</td>\n",
       "    </tr>\n",
       "    <tr>\n",
       "      <td>16</td>\n",
       "      <td>White</td>\n",
       "      <td>Sorcery</td>\n",
       "      <td>3.0</td>\n",
       "      <td>common</td>\n",
       "      <td>Only the warrior who can admit mortal weakness will be bolstered by immortal strength.</td>\n",
       "    </tr>\n",
       "    <tr>\n",
       "      <td>17</td>\n",
       "      <td>White</td>\n",
       "      <td>Sorcery</td>\n",
       "      <td>3.0</td>\n",
       "      <td>common</td>\n",
       "      <td>Only the warrior who can admit mortal weakness will be bolstered by immortal strength.</td>\n",
       "    </tr>\n",
       "    <tr>\n",
       "      <td>18</td>\n",
       "      <td>White</td>\n",
       "      <td>Enchantment</td>\n",
       "      <td>5.0</td>\n",
       "      <td>rare</td>\n",
       "      <td>The harmony of the glorious is a dirge to the wicked.</td>\n",
       "    </tr>\n",
       "    <tr>\n",
       "      <td>19</td>\n",
       "      <td>White</td>\n",
       "      <td>Creature</td>\n",
       "      <td>2.0</td>\n",
       "      <td>common</td>\n",
       "      <td>\"The Ancestor protects us in ways we can't begin to comprehend.\" —Mystic elder</td>\n",
       "    </tr>\n",
       "    <tr>\n",
       "      <td>20</td>\n",
       "      <td>White</td>\n",
       "      <td>Creature</td>\n",
       "      <td>2.0</td>\n",
       "      <td>common</td>\n",
       "      <td>\"The Ancestor protects us in ways we can't begin to comprehend.\" —Mystic elder</td>\n",
       "    </tr>\n",
       "    <tr>\n",
       "      <td>22</td>\n",
       "      <td>Red</td>\n",
       "      <td>Enchantment</td>\n",
       "      <td>3.0</td>\n",
       "      <td>uncommon</td>\n",
       "      <td>Not all knowledge is learned from parchment.</td>\n",
       "    </tr>\n",
       "    <tr>\n",
       "      <td>23</td>\n",
       "      <td>Blue</td>\n",
       "      <td>Creature</td>\n",
       "      <td>6.0</td>\n",
       "      <td>rare</td>\n",
       "      <td>\"Do not concern yourself with my origin, my race, or my ancestry. Seek my record in the pits, and then make your wager.\"</td>\n",
       "    </tr>\n",
       "    <tr>\n",
       "      <td>24</td>\n",
       "      <td>Black</td>\n",
       "      <td>Creature</td>\n",
       "      <td>6.0</td>\n",
       "      <td>rare</td>\n",
       "      <td>His soul snared by an angel's curse, Crovax twisted heroism into its purest shadow.</td>\n",
       "    </tr>\n",
       "  </tbody>\n",
       "</table>\n",
       "</div>"
      ],
      "text/plain": [
       "   colorIdentity        types  convertedManaCost    rarity  \\\n",
       "1   Blue          Creature     3.0                uncommon   \n",
       "3   Black         Instant      3.0                common     \n",
       "4   Green         Instant      2.0                common     \n",
       "5   Black         Sorcery      4.0                uncommon   \n",
       "6   Blue          Creature     5.0                uncommon   \n",
       "7   Blue          Creature     5.0                uncommon   \n",
       "8   Blue          Creature     3.0                rare       \n",
       "9   Red           Creature     4.0                common     \n",
       "10  Red           Creature     4.0                common     \n",
       "12  White         Creature     7.0                uncommon   \n",
       "13  White         Creature     5.0                uncommon   \n",
       "14  White         Creature     5.0                uncommon   \n",
       "16  White         Sorcery      3.0                common     \n",
       "17  White         Sorcery      3.0                common     \n",
       "18  White         Enchantment  5.0                rare       \n",
       "19  White         Creature     2.0                common     \n",
       "20  White         Creature     2.0                common     \n",
       "22  Red           Enchantment  3.0                uncommon   \n",
       "23  Blue          Creature     6.0                rare       \n",
       "24  Black         Creature     6.0                rare       \n",
       "\n",
       "                                                                                                                                                                                                    flavorText  \n",
       "1   They brandish their latest theories as warriors would wield weapons.                                                                                                                                        \n",
       "3   One rarely notices a heartbeat, save when it is stolen.                                                                                                                                                     \n",
       "4   The power of the wild, concentrated in a single charge.                                                                                                                                                     \n",
       "5   In the aftermath of war, when the slaying is long done, the greatest miseries come home to roost.                                                                                                           \n",
       "6   \"The East Wind, an interloper in the dominions of Westerly Weather, is an impassive-faced tyrant with a sharp poniard held behind his back for a treacherous stab.\" —Joseph Conrad, The Mirror of the Sea   \n",
       "7   \"The East Wind, an interloper in the dominions of Westerly Weather, is an impassive-faced tyrant with a sharp poniard held behind his back for a treacherous stab.\"\\n—Joseph Conrad, The Mirror of the Sea  \n",
       "8   \"Life is a game. The only thing that matters is whether you're a pawn or a player.\"                                                                                                                         \n",
       "9   \"They who challenge a minotaur enjoy the taste of their own blood.\" —Mirri of the Weatherlight                                                                                                              \n",
       "10  \"They who challenge a minotaur enjoy the taste of their own blood.\" —Mirri of the Weatherlight                                                                                                              \n",
       "12  \"The will of all, by my hand done.\"                                                                                                                                                                         \n",
       "13  Every tear shed is a drop of immortality.                                                                                                                                                                   \n",
       "14  Every tear shed is a drop of immortality.                                                                                                                                                                   \n",
       "16  Only the warrior who can admit mortal weakness will be bolstered by immortal strength.                                                                                                                      \n",
       "17  Only the warrior who can admit mortal weakness will be bolstered by immortal strength.                                                                                                                      \n",
       "18  The harmony of the glorious is a dirge to the wicked.                                                                                                                                                       \n",
       "19  \"The Ancestor protects us in ways we can't begin to comprehend.\" —Mystic elder                                                                                                                              \n",
       "20  \"The Ancestor protects us in ways we can't begin to comprehend.\" —Mystic elder                                                                                                                              \n",
       "22  Not all knowledge is learned from parchment.                                                                                                                                                                \n",
       "23  \"Do not concern yourself with my origin, my race, or my ancestry. Seek my record in the pits, and then make your wager.\"                                                                                    \n",
       "24  His soul snared by an angel's curse, Crovax twisted heroism into its purest shadow.                                                                                                                         "
      ]
     },
     "execution_count": 3,
     "metadata": {},
     "output_type": "execute_result"
    }
   ],
   "source": [
    "df = p.prepare_mgt(p.wrangle_mtg())\n",
    "\n",
    "df.head(20)"
   ]
  },
  {
   "cell_type": "code",
   "execution_count": 4,
   "metadata": {},
   "outputs": [],
   "source": [
    "df = df.groupby('flavorText').agg('max').reset_index()"
   ]
  },
  {
   "cell_type": "code",
   "execution_count": 5,
   "metadata": {
    "scrolled": true
   },
   "outputs": [
    {
     "data": {
      "text/plain": [
       "0     \" . . . And the third little boar built his house out of rootwalla plates . . . .\" —Skyshroud children's story                                                                                                                                             \n",
       "1     \" . . . Cao Pi, Cao Rui, Fang, Mao, and briefly, Huan— / The Sima took the empire in their turn. . . .\"                                                                                                                                                    \n",
       "2     \" . . . When the trees bow down their heads, / The wind is passing by.\" —Christina Rossetti, \"Who Has Seen the Wind?\"                                                                                                                                      \n",
       "3     \" . . . When the trees bow down their heads, The wind is passing by.\" —Christina Rossetti, \"Who Has Seen the Wind?\"                                                                                                                                        \n",
       "4     \" . . . and you must also apply for an application license, file documents 136(iv) and 22-C and -D in triplicate, pay all requisite fees, request a . . .\"                                                                                                 \n",
       "5     \"'Air superiority?' Not while our archers scan the skies.\" —Elvish scout                                                                                                                                                                                   \n",
       "6     \"'Davvol, blast those elves.' 'Davvol, transport those troops.' No one cares that today is my birthday.\"                                                                                                                                                   \n",
       "7     \"'Do you know, I always thought Unicorns were fabulous monsters, too? I never saw one alive before!' 'Well, now that we have seen each other,' said the Unicorn, 'if you'll believe in me, I'll believe in you.'\" —Lewis Carroll                           \n",
       "8     \"'Do you know, I always thought Unicorns were fabulous monsters, too? I never saw one alive before!' 'Well, now that we have seen each other,' said the Unicorn, 'if you'll believe in me, I'll believe in you.'\" —Lewis Carroll, Through the Looking-Glass\n",
       "9     \"'Fraid of heights? Ride a horse. 'Fraid of missing out? Rein up a drake.\" —Trinda, Hada spy patrol                                                                                                                                                        \n",
       "10    \"'Here lies our beloved Gartu, the gentlest of all men.' Ooh, I love irony.\" —Jadar, ghoulcaller of Nephalia                                                                                                                                               \n",
       "11    \"'I have arrived,' bellowed Brawn, and the plane shuddered.\"\\n—*Scroll of Beginnings*                                                                                                                                                                      \n",
       "12    \"'I have arrived,' bellowed Brawn, and the plane shuddered.\"\\n—Scroll of Beginnings                                                                                                                                                                        \n",
       "13    \"'I have arrived,' bellowed Brawn, and the plane shuddered.\" —Scroll of Beginnings                                                                                                                                                                         \n",
       "14    \"'I'll show you how to handle the treefolk!' the giant bragged, and he strode off into the forest. Two days later he returned, his face masked in sap and a nest behind his ear. None dared ask who won.\" —Azeworai, \"The Treeling\"                        \n",
       "15    \"'I'm certain that the fate of Markov Manor is connected to these cryptoliths . . .' This Tamiyo was on to something.\"                                                                                                                                     \n",
       "16    \"'I've seen hornworms big as a man's fist,' the traveler said, and nodded soberly when our jaws went slack at his ignorance.\" —Afari, Tales                                                                                                                \n",
       "17    \"'Invincible' is just a word.\"\\n—Gideon Jura                                                                                                                                                                                                               \n",
       "18    \"'Invincible' is just a word.\" —Gideon Jura                                                                                                                                                                                                                \n",
       "19    \"'O miserable of happy! Is this the end Of this new glorious world . . . ?'\" —John Milton, Paradise Lost                                                                                                                                                   \n",
       "Name: flavorText, dtype: object"
      ]
     },
     "execution_count": 5,
     "metadata": {},
     "output_type": "execute_result"
    }
   ],
   "source": [
    "df.flavorText.head(20)"
   ]
  },
  {
   "cell_type": "markdown",
   "metadata": {},
   "source": [
    "# Prepare\n",
    "\n",
    "A CSV, containing an up to date breakdown of each Magic card that has been printed so far, was obtained from MTGJSON.com. The data was then read into a pandas dataframe."
   ]
  },
  {
   "cell_type": "code",
   "execution_count": 6,
   "metadata": {},
   "outputs": [
    {
     "ename": "NameError",
     "evalue": "name 'pandas' is not defined",
     "output_type": "error",
     "traceback": [
      "\u001b[0;31m---------------------------------------------------------------------------\u001b[0m",
      "\u001b[0;31mNameError\u001b[0m                                 Traceback (most recent call last)",
      "\u001b[0;32m<ipython-input-6-1d54fd71274d>\u001b[0m in \u001b[0;36m<module>\u001b[0;34m\u001b[0m\n\u001b[0;32m----> 1\u001b[0;31m \u001b[0mdf\u001b[0m \u001b[0;34m=\u001b[0m \u001b[0mpandas\u001b[0m\u001b[0;34m.\u001b[0m\u001b[0mread_csv\u001b[0m\u001b[0;34m(\u001b[0m\u001b[0;34m'cards.csv'\u001b[0m\u001b[0;34m)\u001b[0m\u001b[0;34m\u001b[0m\u001b[0;34m\u001b[0m\u001b[0m\n\u001b[0m",
      "\u001b[0;31mNameError\u001b[0m: name 'pandas' is not defined"
     ]
    }
   ],
   "source": [
    "df = pandas.read_csv('cards.csv')"
   ]
  },
  {
   "cell_type": "markdown",
   "metadata": {},
   "source": [
    "The dataframe contained 50,412 rows and 71 columns\n",
    "\n",
    "The process of preparing the data begins by selecting columns that are patentualy relivent to sentiment."
   ]
  },
  {
   "cell_type": "code",
   "execution_count": null,
   "metadata": {},
   "outputs": [],
   "source": [
    "df.shape"
   ]
  },
  {
   "cell_type": "code",
   "execution_count": null,
   "metadata": {},
   "outputs": [],
   "source": [
    "df.columns"
   ]
  },
  {
   "cell_type": "code",
   "execution_count": null,
   "metadata": {},
   "outputs": [],
   "source": [
    "df = df[['colorIdentity','types','convertedManaCost','rarity','flavorText','isPaper']]"
   ]
  },
  {
   "cell_type": "code",
   "execution_count": null,
   "metadata": {},
   "outputs": [],
   "source": [
    "df = df[df.isPaper==1]\n",
    "df = df.drop(columns='isPaper')\n",
    "df.head()"
   ]
  },
  {
   "cell_type": "code",
   "execution_count": null,
   "metadata": {},
   "outputs": [],
   "source": [
    "df = df[df.flavorText.notna()]"
   ]
  },
  {
   "cell_type": "code",
   "execution_count": null,
   "metadata": {},
   "outputs": [],
   "source": [
    "df.head()"
   ]
  },
  {
   "cell_type": "code",
   "execution_count": null,
   "metadata": {},
   "outputs": [],
   "source": [
    "df.shape"
   ]
  },
  {
   "cell_type": "code",
   "execution_count": null,
   "metadata": {},
   "outputs": [],
   "source": [
    "colors = ['W','U','B','R','G']\n",
    "\n",
    "df = df.loc[df.colorIdentity.isin(colors)]"
   ]
  },
  {
   "cell_type": "code",
   "execution_count": null,
   "metadata": {},
   "outputs": [],
   "source": [
    "df.shape"
   ]
  },
  {
   "cell_type": "code",
   "execution_count": null,
   "metadata": {},
   "outputs": [],
   "source": [
    "df.types.value_counts()"
   ]
  },
  {
   "cell_type": "code",
   "execution_count": null,
   "metadata": {},
   "outputs": [],
   "source": [
    "def convert_type(df,copy, change):\n",
    "    \n",
    "    for item in change:\n",
    "        \n",
    "        df['types'] = np.where(df['types'] == f'{item}', f'{copy}', df['types'])\n",
    "        \n",
    "        return df"
   ]
  },
  {
   "cell_type": "code",
   "execution_count": null,
   "metadata": {},
   "outputs": [],
   "source": [
    "change = ['Artifact,Creature','Summon']\n",
    "copy = 'Creature'\n",
    "\n",
    "convert_type(df, copy, change)\n",
    "\n",
    "df.types.value_counts()"
   ]
  },
  {
   "cell_type": "code",
   "execution_count": null,
   "metadata": {},
   "outputs": [],
   "source": [
    "change = ['Land,Creature','Artifact,Land']\n",
    "copy = 'Land'\n",
    "\n",
    "convert_type(copy, change)\n",
    "\n",
    "df.types.value_counts()"
   ]
  },
  {
   "cell_type": "code",
   "execution_count": null,
   "metadata": {},
   "outputs": [],
   "source": [
    "change = ['Tribal,Instant']\n",
    "copy = 'Instant'\n",
    "\n",
    "convert_type(copy, change)\n",
    "\n",
    "df.types.value_counts()"
   ]
  },
  {
   "cell_type": "code",
   "execution_count": null,
   "metadata": {},
   "outputs": [],
   "source": [
    "change = ['Tribal,Sorcery']\n",
    "copy = 'Sorcery'\n",
    "\n",
    "convert_type(copy, change)\n",
    "\n",
    "df.types.value_counts()"
   ]
  },
  {
   "cell_type": "code",
   "execution_count": null,
   "metadata": {},
   "outputs": [],
   "source": [
    "change = ['Tribal,Enchantment']\n",
    "copy = 'Enchantment'\n",
    "\n",
    "convert_type(copy, change)\n",
    "\n",
    "df.types.value_counts()"
   ]
  },
  {
   "cell_type": "code",
   "execution_count": null,
   "metadata": {},
   "outputs": [],
   "source": [
    "change = ['instant']\n",
    "copy = 'Instant'\n",
    "\n",
    "convert_type(copy, change)\n",
    "\n",
    "df.types.value_counts()"
   ]
  },
  {
   "cell_type": "code",
   "execution_count": null,
   "metadata": {},
   "outputs": [],
   "source": [
    "types = ['Creature','Instant','Sorcery','Enchantment','Land','Artifact','Planeswalker']\n",
    "\n",
    "df = df.loc[df.types.isin(types)]\n",
    "\n",
    "df.head()"
   ]
  },
  {
   "cell_type": "code",
   "execution_count": null,
   "metadata": {},
   "outputs": [],
   "source": []
  },
  {
   "cell_type": "code",
   "execution_count": null,
   "metadata": {},
   "outputs": [],
   "source": []
  },
  {
   "cell_type": "code",
   "execution_count": null,
   "metadata": {},
   "outputs": [],
   "source": []
  },
  {
   "cell_type": "code",
   "execution_count": null,
   "metadata": {},
   "outputs": [],
   "source": []
  },
  {
   "cell_type": "code",
   "execution_count": null,
   "metadata": {},
   "outputs": [],
   "source": []
  },
  {
   "cell_type": "code",
   "execution_count": null,
   "metadata": {},
   "outputs": [],
   "source": []
  }
 ],
 "metadata": {
  "kernelspec": {
   "display_name": "Python 3",
   "language": "python",
   "name": "python3"
  },
  "language_info": {
   "codemirror_mode": {
    "name": "ipython",
    "version": 3
   },
   "file_extension": ".py",
   "mimetype": "text/x-python",
   "name": "python",
   "nbconvert_exporter": "python",
   "pygments_lexer": "ipython3",
   "version": "3.7.4"
  }
 },
 "nbformat": 4,
 "nbformat_minor": 2
}
