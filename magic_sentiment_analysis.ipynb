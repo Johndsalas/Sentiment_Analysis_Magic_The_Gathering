{
 "cells": [
  {
   "cell_type": "markdown",
   "metadata": {},
   "source": [
    "## Goals:\n",
    "\n",
    "**1. Determine the primary drivers of sentiment in the flavor text of Magic: The Gathering cards.**\n",
    "\n",
    "**2. Develop a model to predict the sentiment of flavor text in Magic: The Gathering cards.**"
   ]
  },
  {
   "cell_type": "code",
   "execution_count": 1,
   "metadata": {},
   "outputs": [],
   "source": [
    "# imports and display options\n",
    "\n",
    "import pandas as pd\n",
    "import numpy as np\n",
    "import math\n",
    "\n",
    "from vaderSentiment.vaderSentiment import SentimentIntensityAnalyzer\n",
    "\n",
    "from sklearn.preprocessing import LabelEncoder, OneHotEncoder\n",
    "from sklearn.linear_model import LinearRegression\n",
    "\n",
    "\n",
    "import seaborn as sns\n",
    "import matplotlib.pyplot as plt\n",
    "%matplotlib inline\n",
    "\n",
    "import warnings\n",
    "warnings.filterwarnings(\"ignore\")\n",
    "\n",
    "import prepare as p\n",
    "\n",
    "pd.set_option('display.max_colwidth', -1)"
   ]
  },
  {
   "cell_type": "markdown",
   "metadata": {},
   "source": [
    "# Acquire\n",
    "\n",
    "1. A CSV, containing an up to date breakdown of each Magic card that has been printed so far, was obtained from MTGJSON.com. Each row represented a card or a version of a card.The dataframe contained 50,412 rows and 71 columns.\n",
    "\n",
    "2. The CSV was read into a pandas dataframe\n",
    "\n",
    "# Prepare\n",
    "\n",
    "1. Restricted dataframe to only to columns I considered to be relevant. (colorIdentity, types, convertedManaCost, rarity, flavorText, isPaper)\n",
    " \n",
    "2. Restricted dataframe to only rows containing cards that exist in physical form\n",
    "\n",
    "3. Restricted dataframe to only row containing a flavor text\n",
    "\n",
    "4. Restricted dataframe to only rows with a single color-identity\n",
    "\n",
    "5. Merged rows with similar or overlapping types into one of the seven major game types\n",
    "\n",
    "6. Restricted dataframe to include only rows with a single type belonging to one of the major game types\n",
    "\n",
    "7. Cleaned up flavor text then aggregated on flavorText in an attempt to eliminate duplicates. This game me some success. However, it is likely that a few duplicates remain.\n",
    "\n",
    "8. Reordered columns\n",
    "\n",
    "9. Restricted dataframe to rows with English flavor text \n",
    "\n",
    "10. Dropped rows with duplicates I happened to spot\n",
    "\n",
    "11. Added sentiment column showing compound sentiment score using VADER\n",
    "\n",
    "12. Added intensity column showing the absolute value of the compound sentiment score "
   ]
  },
  {
   "cell_type": "code",
   "execution_count": 2,
   "metadata": {
    "scrolled": true
   },
   "outputs": [
    {
     "data": {
      "text/html": [
       "<div>\n",
       "<style scoped>\n",
       "    .dataframe tbody tr th:only-of-type {\n",
       "        vertical-align: middle;\n",
       "    }\n",
       "\n",
       "    .dataframe tbody tr th {\n",
       "        vertical-align: top;\n",
       "    }\n",
       "\n",
       "    .dataframe thead th {\n",
       "        text-align: right;\n",
       "    }\n",
       "</style>\n",
       "<table border=\"1\" class=\"dataframe\">\n",
       "  <thead>\n",
       "    <tr style=\"text-align: right;\">\n",
       "      <th></th>\n",
       "      <th>colorIdentity</th>\n",
       "      <th>types</th>\n",
       "      <th>convertedManaCost</th>\n",
       "      <th>rarity</th>\n",
       "      <th>flavorText</th>\n",
       "      <th>sentiment</th>\n",
       "      <th>intensity</th>\n",
       "    </tr>\n",
       "  </thead>\n",
       "  <tbody>\n",
       "    <tr>\n",
       "      <td>0</td>\n",
       "      <td>Green</td>\n",
       "      <td>Creature</td>\n",
       "      <td>5.0</td>\n",
       "      <td>common</td>\n",
       "      <td>\" . . . And the third little boar built his house out of rootwalla plates . . . .\"</td>\n",
       "      <td>0.0000</td>\n",
       "      <td>0.0000</td>\n",
       "    </tr>\n",
       "    <tr>\n",
       "      <td>1</td>\n",
       "      <td>Black</td>\n",
       "      <td>Creature</td>\n",
       "      <td>1.0</td>\n",
       "      <td>common</td>\n",
       "      <td>\" . . . Cao Pi, Cao Rui, Fang, Mao, and briefly, Huan—  The Sima took the empire in their turn. . . .\"</td>\n",
       "      <td>0.0000</td>\n",
       "      <td>0.0000</td>\n",
       "    </tr>\n",
       "    <tr>\n",
       "      <td>2</td>\n",
       "      <td>Blue</td>\n",
       "      <td>Creature</td>\n",
       "      <td>5.0</td>\n",
       "      <td>uncommon</td>\n",
       "      <td>\" . . . When the trees bow down their heads, The wind is passing by.\"</td>\n",
       "      <td>0.0000</td>\n",
       "      <td>0.0000</td>\n",
       "    </tr>\n",
       "    <tr>\n",
       "      <td>3</td>\n",
       "      <td>White</td>\n",
       "      <td>Creature</td>\n",
       "      <td>4.0</td>\n",
       "      <td>uncommon</td>\n",
       "      <td>\" . . . and you must also apply for an application license, file documents 136(iv) and 22-C and -D in triplicate, pay all requisite fees, request a . . .\"</td>\n",
       "      <td>-0.1027</td>\n",
       "      <td>0.1027</td>\n",
       "    </tr>\n",
       "    <tr>\n",
       "      <td>4</td>\n",
       "      <td>Green</td>\n",
       "      <td>Creature</td>\n",
       "      <td>4.0</td>\n",
       "      <td>common</td>\n",
       "      <td>\"'Air superiority?' Not while our archers scan the skies.\"</td>\n",
       "      <td>0.0000</td>\n",
       "      <td>0.0000</td>\n",
       "    </tr>\n",
       "  </tbody>\n",
       "</table>\n",
       "</div>"
      ],
      "text/plain": [
       "  colorIdentity     types  convertedManaCost    rarity  \\\n",
       "0  Green         Creature  5.0                common     \n",
       "1  Black         Creature  1.0                common     \n",
       "2  Blue          Creature  5.0                uncommon   \n",
       "3  White         Creature  4.0                uncommon   \n",
       "4  Green         Creature  4.0                common     \n",
       "\n",
       "                                                                                                                                                   flavorText  \\\n",
       "0  \" . . . And the third little boar built his house out of rootwalla plates . . . .\"                                                                           \n",
       "1  \" . . . Cao Pi, Cao Rui, Fang, Mao, and briefly, Huan—  The Sima took the empire in their turn. . . .\"                                                       \n",
       "2  \" . . . When the trees bow down their heads, The wind is passing by.\"                                                                                        \n",
       "3  \" . . . and you must also apply for an application license, file documents 136(iv) and 22-C and -D in triplicate, pay all requisite fees, request a . . .\"   \n",
       "4  \"'Air superiority?' Not while our archers scan the skies.\"                                                                                                   \n",
       "\n",
       "   sentiment  intensity  \n",
       "0  0.0000     0.0000     \n",
       "1  0.0000     0.0000     \n",
       "2  0.0000     0.0000     \n",
       "3 -0.1027     0.1027     \n",
       "4  0.0000     0.0000     "
      ]
     },
     "execution_count": 2,
     "metadata": {},
     "output_type": "execute_result"
    }
   ],
   "source": [
    "# load and prepare data\n",
    "df = p.get_mtg_data()\n",
    "\n",
    "df.head()"
   ]
  },
  {
   "cell_type": "code",
   "execution_count": 3,
   "metadata": {},
   "outputs": [],
   "source": [
    "#df.to_csv('mtgprep.csv', index=False)"
   ]
  },
  {
   "cell_type": "code",
   "execution_count": 4,
   "metadata": {},
   "outputs": [],
   "source": [
    "df = pd.read_csv('mtgprep.csv')"
   ]
  },
  {
   "cell_type": "code",
   "execution_count": 5,
   "metadata": {},
   "outputs": [],
   "source": [
    "df=df.drop([7968,6562]) # drop found duplicates"
   ]
  },
  {
   "cell_type": "code",
   "execution_count": 6,
   "metadata": {},
   "outputs": [],
   "source": [
    "df=df.rename(columns={'colorIdentity':'color','convertedManaCost':'cost','flavorText':'flavor'})"
   ]
  },
  {
   "cell_type": "code",
   "execution_count": 7,
   "metadata": {},
   "outputs": [
    {
     "data": {
      "text/html": [
       "<div>\n",
       "<style scoped>\n",
       "    .dataframe tbody tr th:only-of-type {\n",
       "        vertical-align: middle;\n",
       "    }\n",
       "\n",
       "    .dataframe tbody tr th {\n",
       "        vertical-align: top;\n",
       "    }\n",
       "\n",
       "    .dataframe thead th {\n",
       "        text-align: right;\n",
       "    }\n",
       "</style>\n",
       "<table border=\"1\" class=\"dataframe\">\n",
       "  <thead>\n",
       "    <tr style=\"text-align: right;\">\n",
       "      <th></th>\n",
       "      <th>color</th>\n",
       "      <th>types</th>\n",
       "      <th>cost</th>\n",
       "      <th>rarity</th>\n",
       "      <th>flavor</th>\n",
       "      <th>sentiment</th>\n",
       "      <th>intensity</th>\n",
       "    </tr>\n",
       "  </thead>\n",
       "  <tbody>\n",
       "    <tr>\n",
       "      <td>0</td>\n",
       "      <td>Green</td>\n",
       "      <td>Creature</td>\n",
       "      <td>5.0</td>\n",
       "      <td>common</td>\n",
       "      <td>\" . . . And the third little boar built his house out of rootwalla plates . . . .\"</td>\n",
       "      <td>0.0000</td>\n",
       "      <td>0.0000</td>\n",
       "    </tr>\n",
       "    <tr>\n",
       "      <td>1</td>\n",
       "      <td>Black</td>\n",
       "      <td>Creature</td>\n",
       "      <td>1.0</td>\n",
       "      <td>common</td>\n",
       "      <td>\" . . . Cao Pi, Cao Rui, Fang, Mao, and briefly, Huan—  The Sima took the empire in their turn. . . .\"</td>\n",
       "      <td>0.0000</td>\n",
       "      <td>0.0000</td>\n",
       "    </tr>\n",
       "    <tr>\n",
       "      <td>2</td>\n",
       "      <td>Blue</td>\n",
       "      <td>Creature</td>\n",
       "      <td>5.0</td>\n",
       "      <td>uncommon</td>\n",
       "      <td>\" . . . When the trees bow down their heads, The wind is passing by.\"</td>\n",
       "      <td>0.0000</td>\n",
       "      <td>0.0000</td>\n",
       "    </tr>\n",
       "    <tr>\n",
       "      <td>3</td>\n",
       "      <td>White</td>\n",
       "      <td>Creature</td>\n",
       "      <td>4.0</td>\n",
       "      <td>uncommon</td>\n",
       "      <td>\" . . . and you must also apply for an application license, file documents 136(iv) and 22-C and -D in triplicate, pay all requisite fees, request a . . .\"</td>\n",
       "      <td>-0.1027</td>\n",
       "      <td>0.1027</td>\n",
       "    </tr>\n",
       "    <tr>\n",
       "      <td>4</td>\n",
       "      <td>Green</td>\n",
       "      <td>Creature</td>\n",
       "      <td>4.0</td>\n",
       "      <td>common</td>\n",
       "      <td>\"'Air superiority?' Not while our archers scan the skies.\"</td>\n",
       "      <td>0.0000</td>\n",
       "      <td>0.0000</td>\n",
       "    </tr>\n",
       "  </tbody>\n",
       "</table>\n",
       "</div>"
      ],
      "text/plain": [
       "   color     types  cost    rarity  \\\n",
       "0  Green  Creature  5.0   common     \n",
       "1  Black  Creature  1.0   common     \n",
       "2  Blue   Creature  5.0   uncommon   \n",
       "3  White  Creature  4.0   uncommon   \n",
       "4  Green  Creature  4.0   common     \n",
       "\n",
       "                                                                                                                                                       flavor  \\\n",
       "0  \" . . . And the third little boar built his house out of rootwalla plates . . . .\"                                                                           \n",
       "1  \" . . . Cao Pi, Cao Rui, Fang, Mao, and briefly, Huan—  The Sima took the empire in their turn. . . .\"                                                       \n",
       "2  \" . . . When the trees bow down their heads, The wind is passing by.\"                                                                                        \n",
       "3  \" . . . and you must also apply for an application license, file documents 136(iv) and 22-C and -D in triplicate, pay all requisite fees, request a . . .\"   \n",
       "4  \"'Air superiority?' Not while our archers scan the skies.\"                                                                                                   \n",
       "\n",
       "   sentiment  intensity  \n",
       "0  0.0000     0.0000     \n",
       "1  0.0000     0.0000     \n",
       "2  0.0000     0.0000     \n",
       "3 -0.1027     0.1027     \n",
       "4  0.0000     0.0000     "
      ]
     },
     "execution_count": 7,
     "metadata": {},
     "output_type": "execute_result"
    }
   ],
   "source": [
    "df.head(5)"
   ]
  },
  {
   "cell_type": "code",
   "execution_count": 8,
   "metadata": {},
   "outputs": [],
   "source": [
    "df = df.round(2)"
   ]
  },
  {
   "cell_type": "markdown",
   "metadata": {},
   "source": [
    "# Explore"
   ]
  },
  {
   "cell_type": "markdown",
   "metadata": {},
   "source": [
    "### What does the data look like?"
   ]
  },
  {
   "cell_type": "markdown",
   "metadata": {},
   "source": [
    "The fully prepared data frame contains:\n",
    "\n",
    "1. 12,448 rows and 7 columns\n",
    "2. four features representing how the card is categorized (datatype object)\n",
    "3. one feature representing Mana cost of the card (datatype float64)\n"
   ]
  },
  {
   "cell_type": "code",
   "execution_count": 9,
   "metadata": {},
   "outputs": [
    {
     "data": {
      "text/plain": [
       "(12448, 7)"
      ]
     },
     "execution_count": 9,
     "metadata": {},
     "output_type": "execute_result"
    }
   ],
   "source": [
    "df.shape"
   ]
  },
  {
   "cell_type": "code",
   "execution_count": 10,
   "metadata": {},
   "outputs": [
    {
     "name": "stdout",
     "output_type": "stream",
     "text": [
      "<class 'pandas.core.frame.DataFrame'>\n",
      "Int64Index: 12448 entries, 0 to 12449\n",
      "Data columns (total 7 columns):\n",
      "color        12448 non-null object\n",
      "types        12448 non-null object\n",
      "cost         12448 non-null float64\n",
      "rarity       12448 non-null object\n",
      "flavor       12448 non-null object\n",
      "sentiment    12448 non-null float64\n",
      "intensity    12448 non-null float64\n",
      "dtypes: float64(3), object(4)\n",
      "memory usage: 778.0+ KB\n"
     ]
    }
   ],
   "source": [
    "df.info()"
   ]
  },
  {
   "cell_type": "markdown",
   "metadata": {},
   "source": [
    "### Observations:\n",
    "\n",
    "1. mean sentiment in slightly negative at -.02, however it is very close to zero\n",
    "2. median sentiment is 0 \n",
    "\n",
    "3. mean intensity is .32 \n",
    "4. median intensity is .32 \n",
    "\n",
    "This suggests that both sentiment and intensity are normally distributed.\n",
    "\n",
    "### Hypothesis: \n",
    "It is possible that there are a large amount of cards that have a sentiment score of 0 . If this is true, and if the cards that had a positive score were normally distributed around .32 and the negative ones around -.32 that would explain these numbers. it would also explain the large standard deviation .42 in sentiment.\n",
    "\n",
    "\n",
    "observations:\n",
    "\n",
    "1. sentiment scores ranged from -.98 to .95\n",
    "2. intensity scores ranged from 0 to .98\n",
    "\n",
    "This suggests the flavor text covers a wide range of sentimint values. "
   ]
  },
  {
   "cell_type": "code",
   "execution_count": 11,
   "metadata": {},
   "outputs": [
    {
     "data": {
      "text/html": [
       "<div>\n",
       "<style scoped>\n",
       "    .dataframe tbody tr th:only-of-type {\n",
       "        vertical-align: middle;\n",
       "    }\n",
       "\n",
       "    .dataframe tbody tr th {\n",
       "        vertical-align: top;\n",
       "    }\n",
       "\n",
       "    .dataframe thead th {\n",
       "        text-align: right;\n",
       "    }\n",
       "</style>\n",
       "<table border=\"1\" class=\"dataframe\">\n",
       "  <thead>\n",
       "    <tr style=\"text-align: right;\">\n",
       "      <th></th>\n",
       "      <th>cost</th>\n",
       "      <th>sentiment</th>\n",
       "      <th>intensity</th>\n",
       "    </tr>\n",
       "  </thead>\n",
       "  <tbody>\n",
       "    <tr>\n",
       "      <td>count</td>\n",
       "      <td>12448.00000</td>\n",
       "      <td>12448.000000</td>\n",
       "      <td>12448.000000</td>\n",
       "    </tr>\n",
       "    <tr>\n",
       "      <td>mean</td>\n",
       "      <td>3.17541</td>\n",
       "      <td>-0.024540</td>\n",
       "      <td>0.321109</td>\n",
       "    </tr>\n",
       "    <tr>\n",
       "      <td>std</td>\n",
       "      <td>1.61158</td>\n",
       "      <td>0.423045</td>\n",
       "      <td>0.276496</td>\n",
       "    </tr>\n",
       "    <tr>\n",
       "      <td>min</td>\n",
       "      <td>0.00000</td>\n",
       "      <td>-0.980000</td>\n",
       "      <td>0.000000</td>\n",
       "    </tr>\n",
       "    <tr>\n",
       "      <td>25%</td>\n",
       "      <td>2.00000</td>\n",
       "      <td>-0.340000</td>\n",
       "      <td>0.000000</td>\n",
       "    </tr>\n",
       "    <tr>\n",
       "      <td>50%</td>\n",
       "      <td>3.00000</td>\n",
       "      <td>0.000000</td>\n",
       "      <td>0.320000</td>\n",
       "    </tr>\n",
       "    <tr>\n",
       "      <td>75%</td>\n",
       "      <td>4.00000</td>\n",
       "      <td>0.300000</td>\n",
       "      <td>0.540000</td>\n",
       "    </tr>\n",
       "    <tr>\n",
       "      <td>max</td>\n",
       "      <td>15.00000</td>\n",
       "      <td>0.950000</td>\n",
       "      <td>0.980000</td>\n",
       "    </tr>\n",
       "  </tbody>\n",
       "</table>\n",
       "</div>"
      ],
      "text/plain": [
       "              cost     sentiment     intensity\n",
       "count  12448.00000  12448.000000  12448.000000\n",
       "mean   3.17541     -0.024540      0.321109    \n",
       "std    1.61158      0.423045      0.276496    \n",
       "min    0.00000     -0.980000      0.000000    \n",
       "25%    2.00000     -0.340000      0.000000    \n",
       "50%    3.00000      0.000000      0.320000    \n",
       "75%    4.00000      0.300000      0.540000    \n",
       "max    15.00000     0.950000      0.980000    "
      ]
     },
     "execution_count": 11,
     "metadata": {},
     "output_type": "execute_result"
    }
   ],
   "source": [
    "df.describe()"
   ]
  },
  {
   "cell_type": "markdown",
   "metadata": {},
   "source": [
    "### How balanced are the features in  the data set?\n",
    "\n",
    "* Color counts are about even\n",
    "* types are very unevenly distributed Creature is the largest with 6978 and Planeswalker is the smallest with 1\n",
    "* Cost appears normally distributed around 3\n",
    "* rarity is unevenly distributed with common being the largest with 5927 and mythic being the smallest at 163 \n"
   ]
  },
  {
   "cell_type": "code",
   "execution_count": 12,
   "metadata": {},
   "outputs": [
    {
     "name": "stdout",
     "output_type": "stream",
     "text": [
      "color value counts\n",
      "Red      2563\n",
      "White    2556\n",
      "Black    2473\n",
      "Green    2453\n",
      "Blue     2403\n",
      "Name: color, dtype: int64\n",
      "\n",
      "types value counts\n",
      "Creature        6978\n",
      "Instant         2016\n",
      "Sorcery         1762\n",
      "Enchantment     1573\n",
      "Land            77  \n",
      "Artifact        41  \n",
      "Planeswalker    1   \n",
      "Name: types, dtype: int64\n",
      "\n",
      "cost value counts\n",
      "3.0     3037\n",
      "2.0     2882\n",
      "4.0     2289\n",
      "1.0     1734\n",
      "5.0     1397\n",
      "6.0     645 \n",
      "7.0     244 \n",
      "8.0     90  \n",
      "0.0     80  \n",
      "9.0     29  \n",
      "10.0    11  \n",
      "11.0    5   \n",
      "12.0    2   \n",
      "15.0    1   \n",
      "14.0    1   \n",
      "0.5     1   \n",
      "Name: cost, dtype: int64\n",
      "\n",
      "rarity value counts\n",
      "common      5927\n",
      "uncommon    3643\n",
      "rare        2715\n",
      "mythic      163 \n",
      "Name: rarity, dtype: int64\n",
      "\n",
      "intensity value counts\n",
      "0.00    3588\n",
      "0.44    344 \n",
      "0.30    326 \n",
      "0.36    320 \n",
      "0.38    298 \n",
      "       ...  \n",
      "0.94    8   \n",
      "0.07    5   \n",
      "0.95    5   \n",
      "0.96    2   \n",
      "0.98    1   \n",
      "Name: intensity, Length: 98, dtype: int64\n",
      "\n"
     ]
    }
   ],
   "source": [
    "for column in df.columns:\n",
    "    \n",
    "    if column not in ('sentiment','flavor'):\n",
    "        print(f'{column} value counts')\n",
    "        print(df[f'{column}'].value_counts())\n",
    "        print('')"
   ]
  },
  {
   "cell_type": "markdown",
   "metadata": {},
   "source": [
    "### How many cards have a sentiment/intensity score of zero?\n",
    "\n",
    "* 0 is the most frequently occurring value (count = 3588)\n",
    "\n",
    "* -.3 is second (count = 253)\n",
    "\n",
    "* .44 is third (count =253)"
   ]
  },
  {
   "cell_type": "code",
   "execution_count": 13,
   "metadata": {},
   "outputs": [
    {
     "data": {
      "text/plain": [
       " 0.00    3588\n",
       "-0.30    253 \n",
       " 0.44    214 \n",
       " 0.36    213 \n",
       " 0.49    165 \n",
       "-0.38    164 \n",
       "-0.34    160 \n",
       "-0.60    157 \n",
       " 0.42    145 \n",
       "-0.48    134 \n",
       "Name: sentiment, dtype: int64"
      ]
     },
     "execution_count": 13,
     "metadata": {},
     "output_type": "execute_result"
    }
   ],
   "source": [
    "df.sentiment.value_counts().head(10)"
   ]
  },
  {
   "cell_type": "markdown",
   "metadata": {},
   "source": [
    "### What is frequency distribution of sentiment scores?\n",
    "\n",
    "* The distribution of positive negitive and zero sentiment scores appears to be about even.\n",
    "* There are slightly more negative sentiment scores in the data set.\n",
    "* Looking at the frquency distributions it appears that the hypothysis is correct. \n",
    "* Taken by themselves, positive and negative sentiment cards appear to be somewhat normally distributed. \n",
    "* When viewed as a whole the data set are not at all normally distributed."
   ]
  },
  {
   "cell_type": "code",
   "execution_count": 14,
   "metadata": {},
   "outputs": [
    {
     "name": "stdout",
     "output_type": "stream",
     "text": [
      "Positive and Negative Sentiment Scores\n",
      "\n",
      "Positive: 0.34%  Negative: 0.38%  Zero: 0.29%\n"
     ]
    }
   ],
   "source": [
    "print(\"Positive and Negative Sentiment Scores\")\n",
    "print('')\n",
    "\n",
    "positive = df[df.sentiment>0].sentiment.count()\n",
    "negative = df[df.sentiment<0].sentiment.count()\n",
    "zero = df[df.sentiment==0].sentiment.count()\n",
    "    \n",
    "total = df.sentiment.count()\n",
    "      \n",
    "    \n",
    "print(f'Positive: {round(positive/total,2)}%  Negative: {round(negative/total,2)}%  Zero: {round(zero/total,2)}%')"
   ]
  },
  {
   "cell_type": "code",
   "execution_count": 15,
   "metadata": {},
   "outputs": [
    {
     "data": {
      "image/png": "[encoded data removed]",
      "text/plain": [
       "<Figure size 432x288 with 1 Axes>"
      ]
     },
     "metadata": {
      "needs_background": "light"
     },
     "output_type": "display_data"
    }
   ],
   "source": [
    "bins =[-1,-.9,-.8,-.7,-.6,-.5,-.4,-.3,-.2,-.1,0,.1,.2,.3,.4,.5,.6,.7,.8,.9,1]\n",
    "\n",
    "\n",
    "\n",
    "sentiment = df['sentiment']\n",
    "\n",
    "plt.hist(sentiment,bins=bins,edgecolor='black')\n",
    "\n",
    "\n",
    "plt.title('Fequency of Sentiment Scores')\n",
    "plt.xlabel('Sentiment Scores')\n",
    "plt.ylabel('Number of Occurances')\n",
    "\n",
    "\n",
    "\n",
    "\n",
    "\n",
    "plt.tight_layout()\n",
    "\n",
    "plt.show()"
   ]
  },
  {
   "cell_type": "code",
   "execution_count": 16,
   "metadata": {},
   "outputs": [
    {
     "data": {
      "image/png": "[encoded data removed]",
      "text/plain": [
       "<Figure size 432x288 with 1 Axes>"
      ]
     },
     "metadata": {
      "needs_background": "light"
     },
     "output_type": "display_data"
    }
   ],
   "source": [
    "bins =[-1,-.9,-.8,-.7,-.6,-.5,-.4,-.3,-.2,-.1,0,.1,.2,.3,.4,.5,.6,.7,.8,.9,1]\n",
    "\n",
    "\n",
    "\n",
    "sentiment = df.sentiment[df.sentiment!=0]\n",
    "\n",
    "plt.hist(sentiment,bins=bins,edgecolor='black')\n",
    "\n",
    "\n",
    "plt.title('Fequency of Sentiment Scores With Zeros Removed')\n",
    "plt.xlabel('Sentiment Scores')\n",
    "plt.ylabel('Number of Occurances')\n",
    "\n",
    "\n",
    "\n",
    "\n",
    "\n",
    "plt.tight_layout()\n",
    "\n",
    "plt.show()"
   ]
  },
  {
   "cell_type": "markdown",
   "metadata": {},
   "source": [
    "### What is frequency distribution of intensity scores?\n",
    "\n",
    "* The most frequent intensity score is 0. \n",
    "* Intensity scores with a non-zero value seem to be normally distributed around .4."
   ]
  },
  {
   "cell_type": "code",
   "execution_count": 17,
   "metadata": {},
   "outputs": [
    {
     "data": {
      "image/png": "[encoded data removed]",
      "text/plain": [
       "<Figure size 432x288 with 1 Axes>"
      ]
     },
     "metadata": {
      "needs_background": "light"
     },
     "output_type": "display_data"
    }
   ],
   "source": [
    "bins =[0,.1,.2,.3,.4,.5,.6,.7,.8,.9,1]\n",
    "\n",
    "\n",
    "\n",
    "intensity = df['intensity']\n",
    "\n",
    "plt.hist(intensity,bins=bins,edgecolor='black')\n",
    "\n",
    "\n",
    "plt.title('Fequency of Intensity Scores')\n",
    "plt.xlabel('Sentiment Scores')\n",
    "plt.ylabel('Number of Occurances')\n",
    "\n",
    "\n",
    "\n",
    "\n",
    "\n",
    "plt.tight_layout()\n",
    "\n",
    "plt.show()"
   ]
  },
  {
   "cell_type": "code",
   "execution_count": 18,
   "metadata": {},
   "outputs": [
    {
     "data": {
      "image/png": "[encoded data removed]",
      "text/plain": [
       "<Figure size 432x288 with 1 Axes>"
      ]
     },
     "metadata": {
      "needs_background": "light"
     },
     "output_type": "display_data"
    }
   ],
   "source": [
    "bins =[0,.1,.2,.3,.4,.5,.6,.7,.8,.9,1]\n",
    "\n",
    "\n",
    "\n",
    "intensity = df.intensity[df.intensity!=0]\n",
    "\n",
    "plt.hist(intensity,bins=bins,edgecolor='black')\n",
    "\n",
    "\n",
    "plt.title('Fequency of Intensity Scores With Zeros Removed')\n",
    "plt.xlabel('Sentiment Scores')\n",
    "plt.ylabel('Number of Occurances')\n",
    "\n",
    "\n",
    "\n",
    "\n",
    "\n",
    "plt.tight_layout()\n",
    "\n",
    "plt.show()"
   ]
  },
  {
   "cell_type": "markdown",
   "metadata": {},
   "source": [
    "### What do high, low, and zero sentiment flavor texts look like?\n",
    "\n",
    "* Highest Sentiment flavor text is: Some spectators love an underdog, but others are just as happy to support a proven winner.\t\n",
    "\n",
    "* Lowest sentiment flavor text is: \"We mourn our dead. We shroud our dead. We bury our dead. Too often, it seems, we must kill our dead again.\"\n",
    "\n",
    "* A zero-sentiment flavor text is: \" . . . And the third little boar built his house out of rootwalla plates . . . .\"\n"
   ]
  },
  {
   "cell_type": "code",
   "execution_count": 19,
   "metadata": {},
   "outputs": [
    {
     "data": {
      "text/html": [
       "<div>\n",
       "<style scoped>\n",
       "    .dataframe tbody tr th:only-of-type {\n",
       "        vertical-align: middle;\n",
       "    }\n",
       "\n",
       "    .dataframe tbody tr th {\n",
       "        vertical-align: top;\n",
       "    }\n",
       "\n",
       "    .dataframe thead th {\n",
       "        text-align: right;\n",
       "    }\n",
       "</style>\n",
       "<table border=\"1\" class=\"dataframe\">\n",
       "  <thead>\n",
       "    <tr style=\"text-align: right;\">\n",
       "      <th></th>\n",
       "      <th>flavor</th>\n",
       "      <th>sentiment</th>\n",
       "    </tr>\n",
       "  </thead>\n",
       "  <tbody>\n",
       "    <tr>\n",
       "      <td>9887</td>\n",
       "      <td>Some spectators love an underdog, but others are just as happy to support a proven winner.</td>\n",
       "      <td>0.95</td>\n",
       "    </tr>\n",
       "    <tr>\n",
       "      <td>8850</td>\n",
       "      <td>MORE TO LOVE: Friendly, nature-loving, Bunyonesque SEM seeks SEF looking for a huge commitment. . . . seeks atog prince</td>\n",
       "      <td>0.94</td>\n",
       "    </tr>\n",
       "    <tr>\n",
       "      <td>5313</td>\n",
       "      <td>\"When I wish to be strong, I train. When I wish to be wise, I study. When I wish to rest, I start again.\"</td>\n",
       "      <td>0.93</td>\n",
       "    </tr>\n",
       "    <tr>\n",
       "      <td>11773</td>\n",
       "      <td>To become an officer, an Icatian Soldier had to pass a series of tests. These evaluated not only fighting and leadership skills, but also integrity, honor, and moral strength.</td>\n",
       "      <td>0.93</td>\n",
       "    </tr>\n",
       "    <tr>\n",
       "      <td>7967</td>\n",
       "      <td>If you find yourself and a friend being chased by a King Cheetah, you have but one chance: Trip your friend. —Suq'Ata wisdom</td>\n",
       "      <td>0.93</td>\n",
       "    </tr>\n",
       "  </tbody>\n",
       "</table>\n",
       "</div>"
      ],
      "text/plain": [
       "                                                                                                                                                                                flavor  \\\n",
       "9887   Some spectators love an underdog, but others are just as happy to support a proven winner.                                                                                        \n",
       "8850   MORE TO LOVE: Friendly, nature-loving, Bunyonesque SEM seeks SEF looking for a huge commitment. . . . seeks atog prince                                                           \n",
       "5313   \"When I wish to be strong, I train. When I wish to be wise, I study. When I wish to rest, I start again.\"                                                                         \n",
       "11773  To become an officer, an Icatian Soldier had to pass a series of tests. These evaluated not only fighting and leadership skills, but also integrity, honor, and moral strength.   \n",
       "7967   If you find yourself and a friend being chased by a King Cheetah, you have but one chance: Trip your friend. —Suq'Ata wisdom                                                      \n",
       "\n",
       "       sentiment  \n",
       "9887   0.95       \n",
       "8850   0.94       \n",
       "5313   0.93       \n",
       "11773  0.93       \n",
       "7967   0.93       "
      ]
     },
     "execution_count": 19,
     "metadata": {},
     "output_type": "execute_result"
    }
   ],
   "source": [
    "df[['flavor','sentiment']].sort_values('sentiment',ascending=False).head()"
   ]
  },
  {
   "cell_type": "code",
   "execution_count": 20,
   "metadata": {},
   "outputs": [
    {
     "data": {
      "text/html": [
       "<div>\n",
       "<style scoped>\n",
       "    .dataframe tbody tr th:only-of-type {\n",
       "        vertical-align: middle;\n",
       "    }\n",
       "\n",
       "    .dataframe tbody tr th {\n",
       "        vertical-align: top;\n",
       "    }\n",
       "\n",
       "    .dataframe thead th {\n",
       "        text-align: right;\n",
       "    }\n",
       "</style>\n",
       "<table border=\"1\" class=\"dataframe\">\n",
       "  <thead>\n",
       "    <tr style=\"text-align: right;\">\n",
       "      <th></th>\n",
       "      <th>flavor</th>\n",
       "      <th>sentiment</th>\n",
       "    </tr>\n",
       "  </thead>\n",
       "  <tbody>\n",
       "    <tr>\n",
       "      <td>5112</td>\n",
       "      <td>\"We mourn our dead. We shroud our dead. We bury our dead. Too often, it seems, we must kill our dead again.\"</td>\n",
       "      <td>-0.98</td>\n",
       "    </tr>\n",
       "    <tr>\n",
       "      <td>9135</td>\n",
       "      <td>No one spoke. There was no need. The threat of the Eldrazi presented a simple choice: lay down your weapons and die for nothing, or hold them fast and die for something.</td>\n",
       "      <td>-0.96</td>\n",
       "    </tr>\n",
       "    <tr>\n",
       "      <td>2943</td>\n",
       "      <td>\"No more fear. No more failure. No more death. No more!\"</td>\n",
       "      <td>-0.96</td>\n",
       "    </tr>\n",
       "    <tr>\n",
       "      <td>9904</td>\n",
       "      <td>Some tried cremating their dead to stop the ghoulcallers. But the dead returned, furious about their fate.</td>\n",
       "      <td>-0.95</td>\n",
       "    </tr>\n",
       "    <tr>\n",
       "      <td>11432</td>\n",
       "      <td>There are laws against it, but the dead have no one to complain to and the living are too frightened to investigate.</td>\n",
       "      <td>-0.95</td>\n",
       "    </tr>\n",
       "  </tbody>\n",
       "</table>\n",
       "</div>"
      ],
      "text/plain": [
       "                                                                                                                                                                          flavor  \\\n",
       "5112   \"We mourn our dead. We shroud our dead. We bury our dead. Too often, it seems, we must kill our dead again.\"                                                                \n",
       "9135   No one spoke. There was no need. The threat of the Eldrazi presented a simple choice: lay down your weapons and die for nothing, or hold them fast and die for something.   \n",
       "2943   \"No more fear. No more failure. No more death. No more!\"                                                                                                                    \n",
       "9904   Some tried cremating their dead to stop the ghoulcallers. But the dead returned, furious about their fate.                                                                  \n",
       "11432  There are laws against it, but the dead have no one to complain to and the living are too frightened to investigate.                                                        \n",
       "\n",
       "       sentiment  \n",
       "5112  -0.98       \n",
       "9135  -0.96       \n",
       "2943  -0.96       \n",
       "9904  -0.95       \n",
       "11432 -0.95       "
      ]
     },
     "execution_count": 20,
     "metadata": {},
     "output_type": "execute_result"
    }
   ],
   "source": [
    "df[['flavor','sentiment']].sort_values('sentiment',ascending=True).head()"
   ]
  },
  {
   "cell_type": "code",
   "execution_count": 21,
   "metadata": {},
   "outputs": [
    {
     "data": {
      "text/html": [
       "<div>\n",
       "<style scoped>\n",
       "    .dataframe tbody tr th:only-of-type {\n",
       "        vertical-align: middle;\n",
       "    }\n",
       "\n",
       "    .dataframe tbody tr th {\n",
       "        vertical-align: top;\n",
       "    }\n",
       "\n",
       "    .dataframe thead th {\n",
       "        text-align: right;\n",
       "    }\n",
       "</style>\n",
       "<table border=\"1\" class=\"dataframe\">\n",
       "  <thead>\n",
       "    <tr style=\"text-align: right;\">\n",
       "      <th></th>\n",
       "      <th>flavor</th>\n",
       "      <th>sentiment</th>\n",
       "    </tr>\n",
       "  </thead>\n",
       "  <tbody>\n",
       "    <tr>\n",
       "      <td>0</td>\n",
       "      <td>\" . . . And the third little boar built his house out of rootwalla plates . . . .\"</td>\n",
       "      <td>0.0</td>\n",
       "    </tr>\n",
       "    <tr>\n",
       "      <td>1</td>\n",
       "      <td>\" . . . Cao Pi, Cao Rui, Fang, Mao, and briefly, Huan—  The Sima took the empire in their turn. . . .\"</td>\n",
       "      <td>0.0</td>\n",
       "    </tr>\n",
       "    <tr>\n",
       "      <td>2</td>\n",
       "      <td>\" . . . When the trees bow down their heads, The wind is passing by.\"</td>\n",
       "      <td>0.0</td>\n",
       "    </tr>\n",
       "    <tr>\n",
       "      <td>4</td>\n",
       "      <td>\"'Air superiority?' Not while our archers scan the skies.\"</td>\n",
       "      <td>0.0</td>\n",
       "    </tr>\n",
       "    <tr>\n",
       "      <td>9</td>\n",
       "      <td>\"'I have arrived,' bellowed Brawn, and the plane shuddered.\"</td>\n",
       "      <td>0.0</td>\n",
       "    </tr>\n",
       "    <tr>\n",
       "      <td>10</td>\n",
       "      <td>\"'I'll show you how to handle the treefolk!' the giant bragged, and he strode off into the forest. Two days later he returned, his face masked in sap and a nest behind his ear. None dared ask who won.\"</td>\n",
       "      <td>0.0</td>\n",
       "    </tr>\n",
       "    <tr>\n",
       "      <td>12</td>\n",
       "      <td>\"'I've seen hornworms big as a man's fist,' the traveler said, and nodded soberly when our jaws went slack at his ignorance.\"</td>\n",
       "      <td>0.0</td>\n",
       "    </tr>\n",
       "    <tr>\n",
       "      <td>13</td>\n",
       "      <td>\"'Invincible' is just a word.\"</td>\n",
       "      <td>0.0</td>\n",
       "    </tr>\n",
       "    <tr>\n",
       "      <td>16</td>\n",
       "      <td>\"'Ownership' is such a gray area.\"</td>\n",
       "      <td>0.0</td>\n",
       "    </tr>\n",
       "    <tr>\n",
       "      <td>19</td>\n",
       "      <td>\"'Tis distance lends enchantment to the view, And robes the mountain in its azure hue.\"</td>\n",
       "      <td>0.0</td>\n",
       "    </tr>\n",
       "  </tbody>\n",
       "</table>\n",
       "</div>"
      ],
      "text/plain": [
       "                                                                                                                                                                                                       flavor  \\\n",
       "0   \" . . . And the third little boar built his house out of rootwalla plates . . . .\"                                                                                                                          \n",
       "1   \" . . . Cao Pi, Cao Rui, Fang, Mao, and briefly, Huan—  The Sima took the empire in their turn. . . .\"                                                                                                      \n",
       "2   \" . . . When the trees bow down their heads, The wind is passing by.\"                                                                                                                                       \n",
       "4   \"'Air superiority?' Not while our archers scan the skies.\"                                                                                                                                                  \n",
       "9   \"'I have arrived,' bellowed Brawn, and the plane shuddered.\"                                                                                                                                                \n",
       "10  \"'I'll show you how to handle the treefolk!' the giant bragged, and he strode off into the forest. Two days later he returned, his face masked in sap and a nest behind his ear. None dared ask who won.\"   \n",
       "12  \"'I've seen hornworms big as a man's fist,' the traveler said, and nodded soberly when our jaws went slack at his ignorance.\"                                                                               \n",
       "13  \"'Invincible' is just a word.\"                                                                                                                                                                              \n",
       "16  \"'Ownership' is such a gray area.\"                                                                                                                                                                          \n",
       "19  \"'Tis distance lends enchantment to the view, And robes the mountain in its azure hue.\"                                                                                                                     \n",
       "\n",
       "    sentiment  \n",
       "0   0.0        \n",
       "1   0.0        \n",
       "2   0.0        \n",
       "4   0.0        \n",
       "9   0.0        \n",
       "10  0.0        \n",
       "12  0.0        \n",
       "13  0.0        \n",
       "16  0.0        \n",
       "19  0.0        "
      ]
     },
     "execution_count": 21,
     "metadata": {},
     "output_type": "execute_result"
    }
   ],
   "source": [
    "df[['flavor','sentiment']][df.sentiment==0].head(10)"
   ]
  },
  {
   "cell_type": "markdown",
   "metadata": {},
   "source": [
    "### How does sentiment relate to each feature?\n",
    "\n",
    "* Because of the shape of our data, stats tests to determine if features are related such as T-test and correlation or not usable for measuring sentiment."
   ]
  },
  {
   "cell_type": "markdown",
   "metadata": {},
   "source": [
    "### Color\n",
    "\n",
    "* three colors have positive mean sentiment scores white, blue, and green\n",
    "* two colors have negative mean scores black and red\n",
    "* four colors have mean sentiment values that are less than .1 away from zero, white, blue, gree, red and green\n",
    "* one color with the most extream mean sentiment score was black at -.12\n",
    "* all colors have a mean and median sentiment score of 0\n",
    "* between 24-34% of values for each color are zero\n",
    "* frquency of negative positive and zero sentiment scores are fairly evenly distributed amoung colors. The most extream values are black with 48% negative and white with 41% positive\n",
    "\n",
    "* looking at the frequency distribution of sentiment scores they seem to follow the same general distribution as the overall data.\n",
    "* The most notable differance is that black has noticably more negative sentament scores than positive ones. This is reflected in its more extream than usual mean sentiment score.\n",
    "* It is likely that color is a driver of sentiment however the effect of color on sentiment is not very high"
   ]
  },
  {
   "cell_type": "code",
   "execution_count": 22,
   "metadata": {},
   "outputs": [
    {
     "name": "stdout",
     "output_type": "stream",
     "text": [
      "White: 0.03\n",
      "Blue: 0.01\n",
      "Black: -0.12\n",
      "Red: -0.06\n",
      "Green: 0.01\n"
     ]
    }
   ],
   "source": [
    "colors = ['White','Blue','Black','Red','Green']\n",
    "\n",
    "for color in colors:\n",
    "\n",
    "    number = df[df.color==f'{color}'].sentiment.mean()\n",
    "      \n",
    "    print(f'{color}: {round(number,2)}')"
   ]
  },
  {
   "cell_type": "code",
   "execution_count": 23,
   "metadata": {},
   "outputs": [
    {
     "name": "stdout",
     "output_type": "stream",
     "text": [
      "White: 0.0\n",
      "Blue: 0.0\n",
      "Black: 0.0\n",
      "Red: 0.0\n",
      "Green: 0.0\n"
     ]
    }
   ],
   "source": [
    "colors = ['White','Blue','Black','Red','Green']\n",
    "\n",
    "for color in colors:\n",
    "\n",
    "    number = df[df.color==f'{color}'].sentiment.median()\n",
    "      \n",
    "    print(f'{color}: {number}')"
   ]
  },
  {
   "cell_type": "code",
   "execution_count": 24,
   "metadata": {},
   "outputs": [
    {
     "name": "stdout",
     "output_type": "stream",
     "text": [
      "White: 0    0.0\n",
      "dtype: float64\n",
      "Blue: 0    0.0\n",
      "dtype: float64\n",
      "Black: 0    0.0\n",
      "dtype: float64\n",
      "Red: 0    0.0\n",
      "dtype: float64\n",
      "Green: 0    0.0\n",
      "dtype: float64\n"
     ]
    }
   ],
   "source": [
    "colors = ['White','Blue','Black','Red','Green']\n",
    "\n",
    "for color in colors:\n",
    "\n",
    "    number = df[df.color==f'{color}'].sentiment.mode()\n",
    "      \n",
    "    print(f'{color}: {number}')"
   ]
  },
  {
   "cell_type": "code",
   "execution_count": 25,
   "metadata": {},
   "outputs": [
    {
     "name": "stdout",
     "output_type": "stream",
     "text": [
      "Positive and Negative Sentiment Scores\n",
      "\n",
      "White: Positive: 0.41%  Negative: 0.34%  Zero: 0.25%\n",
      "\n",
      "Blue: Positive: 0.35%  Negative: 0.33%  Zero: 0.33%\n",
      "\n",
      "Black: Positive: 0.28%  Negative: 0.48%  Zero: 0.24%\n",
      "\n",
      "Red: Positive: 0.31%  Negative: 0.4%  Zero: 0.29%\n",
      "\n",
      "Green: Positive: 0.34%  Negative: 0.32%  Zero: 0.34%\n"
     ]
    }
   ],
   "source": [
    "colors = ['White','Blue','Black','Red','Green']\n",
    "\n",
    "print(\"Positive and Negative Sentiment Scores\")\n",
    "\n",
    "for color in colors:\n",
    "\n",
    "    positive = df[df.color==f'{color}'][df.sentiment>0].sentiment.count()\n",
    "    negative = df[df.color==f'{color}'][df.sentiment<0].sentiment.count()\n",
    "    zero = df[df.color==f'{color}'][df.sentiment==0].sentiment.count()\n",
    "    \n",
    "    total = df[df.color==f'{color}'].sentiment.count()\n",
    "      \n",
    "    print('')\n",
    "    print(f'{color}: Positive: {round(positive/total,2)}%  Negative: {round(negative/total,2)}%  Zero: {round(zero/total,2)}%')"
   ]
  },
  {
   "cell_type": "code",
   "execution_count": 26,
   "metadata": {},
   "outputs": [
    {
     "data": {
      "image/png": "[encoded data removed]",
      "text/plain": [
       "<Figure size 432x288 with 1 Axes>"
      ]
     },
     "metadata": {
      "needs_background": "light"
     },
     "output_type": "display_data"
    },
    {
     "data": {
      "image/png": "[encoded data removed]",
      "text/plain": [
       "<Figure size 432x288 with 1 Axes>"
      ]
     },
     "metadata": {
      "needs_background": "light"
     },
     "output_type": "display_data"
    },
    {
     "data": {
      "image/png": "[encoded data removed]",
      "text/plain": [
       "<Figure size 432x288 with 1 Axes>"
      ]
     },
     "metadata": {
      "needs_background": "light"
     },
     "output_type": "display_data"
    },
    {
     "data": {
      "image/png": "[encoded data removed]",
      "text/plain": [
       "<Figure size 432x288 with 1 Axes>"
      ]
     },
     "metadata": {
      "needs_background": "light"
     },
     "output_type": "display_data"
    },
    {
     "data": {
      "image/png": "[encoded data removed]",
      "text/plain": [
       "<Figure size 432x288 with 1 Axes>"
      ]
     },
     "metadata": {
      "needs_background": "light"
     },
     "output_type": "display_data"
    }
   ],
   "source": [
    "colors = ['White','Blue','Black','Red','Green']\n",
    "\n",
    "for color in colors:\n",
    "\n",
    "\n",
    "    bins =[-1,-.9,-.8,-.7,-.6,-.5,-.4,-.3,-.2,-.1,0,.1,.2,.3,.4,.5,.6,.7,.8,.9,1]\n",
    "\n",
    "\n",
    "\n",
    "    sentiment = df.sentiment[df.sentiment!=0][df.color==f'{color}']\n",
    "\n",
    "    plt.hist(sentiment,bins=bins,edgecolor='black',color=f'{color}')\n",
    "\n",
    "\n",
    "    plt.title(f'Fequency of Sentiment Scores in {color} With Zero Scores Removed')\n",
    "    plt.xlabel('Sentiment Scores')\n",
    "    plt.ylabel('Number of Occurances')\n",
    "\n",
    "\n",
    "\n",
    "\n",
    "\n",
    "    plt.tight_layout()\n",
    "\n",
    "    plt.show()"
   ]
  },
  {
   "cell_type": "markdown",
   "metadata": {},
   "source": [
    "### Types\n",
    "\n",
    "* types that have a large sample size closely mimic the data set as a whole\n",
    "* Creatures, Instants, and sorcerys each have a mean sentiment of -.02 which is the same as the mean sentiment for the entire data set when rounded to two decimals\n",
    "* Sorcery is also close with a value of -.04\n",
    "* types with a lower sample size are more speratic \n",
    "* Lands have a mean sentiment of -.07, Artifacts have a .04, and Planeswalkers have a .58 (sample of one)\n",
    "* Lands and Artifacts have a larger than normal amount of zero values, 46% and 58% respectively\n",
    "* in seems that as the sample size gets smaller the data in the sample beomes less likely to mimic the over all data.\n",
    "* looking at the distributions of sentament by type, types with larger sample sizes mimic the overall data, types that do not have a large sample size do not \n",
    "* It is not likely that type is a driver of sentiment"
   ]
  },
  {
   "cell_type": "code",
   "execution_count": 27,
   "metadata": {},
   "outputs": [
    {
     "name": "stdout",
     "output_type": "stream",
     "text": [
      "Creature: -0.02\n",
      "Instant: -0.02\n",
      "Sorcery: -0.04\n",
      "Enchantment: -0.02\n",
      "Land: -0.07\n",
      "Artifact: 0.04\n",
      "Planeswalker: 0.58\n"
     ]
    }
   ],
   "source": [
    "types = ['Creature','Instant','Sorcery','Enchantment','Land','Artifact','Planeswalker']\n",
    "\n",
    "for item in types:\n",
    "\n",
    "    number = df[df.types==f'{item}'].sentiment.mean()\n",
    "      \n",
    "    print(f'{item}: {round(number,2)}')"
   ]
  },
  {
   "cell_type": "code",
   "execution_count": 28,
   "metadata": {},
   "outputs": [
    {
     "name": "stdout",
     "output_type": "stream",
     "text": [
      "Creature: 0.0\n",
      "Instant: 0.0\n",
      "Sorcery: 0.0\n",
      "Enchantment: 0.0\n",
      "Land: 0.0\n",
      "Artifact: 0.0\n",
      "Planeswalker: 0.58\n"
     ]
    }
   ],
   "source": [
    "types = ['Creature','Instant','Sorcery','Enchantment','Land','Artifact','Planeswalker']\n",
    "\n",
    "for item in types:\n",
    "\n",
    "    number = df[df.types==f'{item}'].sentiment.median()\n",
    "      \n",
    "    print(f'{item}: {round(number,2)}')"
   ]
  },
  {
   "cell_type": "code",
   "execution_count": 29,
   "metadata": {},
   "outputs": [
    {
     "name": "stdout",
     "output_type": "stream",
     "text": [
      "Creature: 0    0.0\n",
      "dtype: float64\n",
      "Instant: 0    0.0\n",
      "dtype: float64\n",
      "Sorcery: 0    0.0\n",
      "dtype: float64\n",
      "Enchantment: 0    0.0\n",
      "dtype: float64\n",
      "Land: 0    0.0\n",
      "dtype: float64\n",
      "Artifact: 0    0.0\n",
      "dtype: float64\n",
      "Planeswalker: 0    0.58\n",
      "dtype: float64\n"
     ]
    }
   ],
   "source": [
    "types = ['Creature','Instant','Sorcery','Enchantment','Land','Artifact','Planeswalker']\n",
    "\n",
    "for item in types:\n",
    "\n",
    "    number = df[df.types==f'{item}'].sentiment.mode()\n",
    "      \n",
    "    print(f'{item}: {round(number,2)}')"
   ]
  },
  {
   "cell_type": "code",
   "execution_count": 30,
   "metadata": {},
   "outputs": [
    {
     "name": "stdout",
     "output_type": "stream",
     "text": [
      "Positive and Negative Sentiment Scores\n",
      "\n",
      "Creature: Positive: 0.34%  Negative: 0.37%  Zero: 0.28%\n",
      "\n",
      "Instant: Positive: 0.34%  Negative: 0.38%  Zero: 0.29%\n",
      "\n",
      "Sorcery: Positive: 0.32%  Negative: 0.39%  Zero: 0.29%\n",
      "\n",
      "Enchantment: Positive: 0.34%  Negative: 0.38%  Zero: 0.28%\n",
      "\n",
      "Land: Positive: 0.16%  Negative: 0.26%  Zero: 0.58%\n",
      "\n",
      "Artifact: Positive: 0.27%  Negative: 0.27%  Zero: 0.46%\n",
      "\n",
      "Planeswalker: Positive: 1.0%  Negative: 0.0%  Zero: 0.0%\n"
     ]
    }
   ],
   "source": [
    "types = ['Creature','Instant','Sorcery','Enchantment','Land','Artifact','Planeswalker']\n",
    "\n",
    "print(\"Positive and Negative Sentiment Scores\")\n",
    "\n",
    "for item in types:\n",
    "\n",
    "    positive = df[df.types==f'{item}'][df.sentiment>0].sentiment.count()\n",
    "    negative = df[df.types==f'{item}'][df.sentiment<0].sentiment.count()\n",
    "    zero = df[df.types==f'{item}'][df.sentiment==0].sentiment.count()\n",
    "    \n",
    "    total = df[df.types==f'{item}'].sentiment.count()\n",
    "      \n",
    "    print('')\n",
    "    print(f'{item}: Positive: {round(positive/total,2)}%  Negative: {round(negative/total,2)}%  Zero: {round(zero/total,2)}%')"
   ]
  },
  {
   "cell_type": "code",
   "execution_count": 31,
   "metadata": {},
   "outputs": [
    {
     "data": {
      "image/png": "[encoded data removed]",
      "text/plain": [
       "<Figure size 432x288 with 1 Axes>"
      ]
     },
     "metadata": {
      "needs_background": "light"
     },
     "output_type": "display_data"
    },
    {
     "data": {
      "image/png": "[encoded data removed]",
      "text/plain": [
       "<Figure size 432x288 with 1 Axes>"
      ]
     },
     "metadata": {
      "needs_background": "light"
     },
     "output_type": "display_data"
    },
    {
     "data": {
      "image/png": "[encoded data removed]",
      "text/plain": [
       "<Figure size 432x288 with 1 Axes>"
      ]
     },
     "metadata": {
      "needs_background": "light"
     },
     "output_type": "display_data"
    },
    {
     "data": {
      "image/png": "[encoded data removed]",
      "text/plain": [
       "<Figure size 432x288 with 1 Axes>"
      ]
     },
     "metadata": {
      "needs_background": "light"
     },
     "output_type": "display_data"
    },
    {
     "data": {
      "image/png": "[encoded data removed]",
      "text/plain": [
       "<Figure size 432x288 with 1 Axes>"
      ]
     },
     "metadata": {
      "needs_background": "light"
     },
     "output_type": "display_data"
    },
    {
     "data": {
      "image/png": "[encoded data removed]",
      "text/plain": [
       "<Figure size 432x288 with 1 Axes>"
      ]
     },
     "metadata": {
      "needs_background": "light"
     },
     "output_type": "display_data"
    },
    {
     "data": {
      "image/png": "[encoded data removed]",
      "text/plain": [
       "<Figure size 432x288 with 1 Axes>"
      ]
     },
     "metadata": {
      "needs_background": "light"
     },
     "output_type": "display_data"
    }
   ],
   "source": [
    "types = ['Creature','Instant','Sorcery','Enchantment','Land','Artifact','Planeswalker']\n",
    "\n",
    "for item in types:\n",
    "\n",
    "\n",
    "    bins =[-1,-.9,-.8,-.7,-.6,-.5,-.4,-.3,-.2,-.1,0,.1,.2,.3,.4,.5,.6,.7,.8,.9,1]\n",
    "\n",
    "    sentiment = df.sentiment[df.sentiment!=0][df.types==f'{item}']\n",
    "\n",
    "    plt.hist(sentiment,bins=bins,edgecolor='black',color='firebrick')\n",
    "\n",
    "\n",
    "    plt.title(f'Fequency of Sentiment Scores in {item} With Zero Scores Removed')\n",
    "    plt.xlabel('Sentiment Scores')\n",
    "    plt.ylabel('Number of Occurances')\n",
    "\n",
    "    plt.tight_layout()\n",
    "\n",
    "    plt.show()"
   ]
  },
  {
   "cell_type": "markdown",
   "metadata": {},
   "source": [
    "### Rarity\n",
    "\n",
    "* All rarity types have a mean sentiment that is very near the mean sentiment of the overall data ranging from -.01 to -.03 \n",
    "* the frequency of positive, negative, and zero sentiment scores are remarkably evenly distributed at each rarity level\n",
    "* The overall distribution of sentiment scores devided by rarity level mimics the overall data at each level\n",
    "* It is not likely that rarity is a driver of sentiment"
   ]
  },
  {
   "cell_type": "code",
   "execution_count": 32,
   "metadata": {},
   "outputs": [
    {
     "name": "stdout",
     "output_type": "stream",
     "text": [
      "common: -0.03\n",
      "uncommon: -0.02\n",
      "rare: -0.03\n",
      "mythic: -0.01\n"
     ]
    }
   ],
   "source": [
    "scarcity = ['common','uncommon','rare','mythic']\n",
    "\n",
    "for item in scarcity:\n",
    "\n",
    "    number = df[df.rarity==f'{item}'].sentiment.mean()\n",
    "      \n",
    "    print(f'{item}: {round(number,2)}')"
   ]
  },
  {
   "cell_type": "code",
   "execution_count": 33,
   "metadata": {},
   "outputs": [
    {
     "name": "stdout",
     "output_type": "stream",
     "text": [
      "common: 0.0\n",
      "uncommon: 0.0\n",
      "rare: 0.0\n",
      "mythic: 0.0\n"
     ]
    }
   ],
   "source": [
    "scarcity = ['common','uncommon','rare','mythic']\n",
    "\n",
    "for item in scarcity:\n",
    "\n",
    "    number = df[df.rarity==f'{item}'].sentiment.median()\n",
    "      \n",
    "    print(f'{item}: {round(number,2)}')"
   ]
  },
  {
   "cell_type": "code",
   "execution_count": 34,
   "metadata": {},
   "outputs": [
    {
     "name": "stdout",
     "output_type": "stream",
     "text": [
      "common: 0    0.0\n",
      "dtype: float64\n",
      "uncommon: 0    0.0\n",
      "dtype: float64\n",
      "rare: 0    0.0\n",
      "dtype: float64\n",
      "mythic: 0    0.0\n",
      "dtype: float64\n"
     ]
    }
   ],
   "source": [
    "scarcity = ['common','uncommon','rare','mythic']\n",
    "\n",
    "for item in scarcity:\n",
    "\n",
    "    number = df[df.rarity==f'{item}'].sentiment.mode()\n",
    "      \n",
    "    print(f'{item}: {round(number,2)}')"
   ]
  },
  {
   "cell_type": "code",
   "execution_count": 35,
   "metadata": {},
   "outputs": [
    {
     "name": "stdout",
     "output_type": "stream",
     "text": [
      "Positive and Negative Sentiment Scores\n",
      "\n",
      "common: Positive: 0.34%  Negative: 0.39%  Zero: 0.27%\n",
      "\n",
      "uncommon: Positive: 0.34%  Negative: 0.36%  Zero: 0.3%\n",
      "\n",
      "rare: Positive: 0.32%  Negative: 0.37%  Zero: 0.31%\n",
      "\n",
      "mythic: Positive: 0.32%  Negative: 0.34%  Zero: 0.34%\n"
     ]
    }
   ],
   "source": [
    "scarcity = ['common','uncommon','rare','mythic']\n",
    "\n",
    "print(\"Positive and Negative Sentiment Scores\")\n",
    "\n",
    "for item in scarcity:\n",
    "\n",
    "    positive = df[df.rarity==f'{item}'][df.sentiment>0].sentiment.count()\n",
    "    negative = df[df.rarity==f'{item}'][df.sentiment<0].sentiment.count()\n",
    "    zero = df[df.rarity==f'{item}'][df.sentiment==0].sentiment.count()\n",
    "    \n",
    "    total = df[df.rarity==f'{item}'].sentiment.count()\n",
    "      \n",
    "    print('')\n",
    "    print(f'{item}: Positive: {round(positive/total,2)}%  Negative: {round(negative/total,2)}%  Zero: {round(zero/total,2)}%')"
   ]
  },
  {
   "cell_type": "code",
   "execution_count": 36,
   "metadata": {},
   "outputs": [
    {
     "data": {
      "image/png": "[encoded data removed]",
      "text/plain": [
       "<Figure size 432x288 with 1 Axes>"
      ]
     },
     "metadata": {
      "needs_background": "light"
     },
     "output_type": "display_data"
    },
    {
     "data": {
      "image/png": "[encoded data removed]",
      "text/plain": [
       "<Figure size 432x288 with 1 Axes>"
      ]
     },
     "metadata": {
      "needs_background": "light"
     },
     "output_type": "display_data"
    },
    {
     "data": {
      "image/png": "[encoded data removed]",
      "text/plain": [
       "<Figure size 432x288 with 1 Axes>"
      ]
     },
     "metadata": {
      "needs_background": "light"
     },
     "output_type": "display_data"
    },
    {
     "data": {
      "image/png": "[encoded data removed]",
      "text/plain": [
       "<Figure size 432x288 with 1 Axes>"
      ]
     },
     "metadata": {
      "needs_background": "light"
     },
     "output_type": "display_data"
    }
   ],
   "source": [
    "scarcity = ['common','uncommon','rare','mythic']\n",
    "\n",
    "for item in scarcity:\n",
    "\n",
    "\n",
    "    bins =[-1,-.9,-.8,-.7,-.6,-.5,-.4,-.3,-.2,-.1,0,.1,.2,.3,.4,.5,.6,.7,.8,.9,1]\n",
    "\n",
    "    sentiment = df.sentiment[df.sentiment!=0][df.rarity==f'{item}']\n",
    "\n",
    "    plt.hist(sentiment,bins=bins,edgecolor='black',color='firebrick')\n",
    "\n",
    "\n",
    "    plt.title(f'Fequency of Sentiment Scores in {item} With Zero Scores Removed')\n",
    "    plt.xlabel('Sentiment Scores')\n",
    "    plt.ylabel('Number of Occurances')\n",
    "\n",
    "    plt.tight_layout()\n",
    "\n",
    "    plt.show()"
   ]
  },
  {
   "cell_type": "markdown",
   "metadata": {},
   "source": [
    "### Cost\n",
    "\n",
    "* costs with large sample sizes have a mean sentiment score that is near that of the overall data\n",
    "* costs with large sample sized also have a distribution of sentiment scores that closely mimics the overall data\n",
    "* positive, negative, and zero sentiment scores are fairly even evenly distributed at cost levels that have high sample sizes\n",
    "* worth noting cost of 10, 11, and 12, are the only divition of the data that has shown a median value other than zero. However, these cost levels represent only a small amount of data\n",
    "* I do not believe that cost is a driver of sentiment"
   ]
  },
  {
   "cell_type": "code",
   "execution_count": 37,
   "metadata": {},
   "outputs": [
    {
     "data": {
      "text/plain": [
       "3.0     3037\n",
       "2.0     2882\n",
       "4.0     2289\n",
       "1.0     1734\n",
       "5.0     1397\n",
       "6.0     645 \n",
       "7.0     244 \n",
       "8.0     90  \n",
       "0.0     80  \n",
       "9.0     29  \n",
       "10.0    11  \n",
       "11.0    5   \n",
       "12.0    2   \n",
       "15.0    1   \n",
       "14.0    1   \n",
       "0.5     1   \n",
       "Name: cost, dtype: int64"
      ]
     },
     "execution_count": 37,
     "metadata": {},
     "output_type": "execute_result"
    }
   ],
   "source": [
    "df.cost.value_counts()"
   ]
  },
  {
   "cell_type": "code",
   "execution_count": 38,
   "metadata": {},
   "outputs": [
    {
     "name": "stdout",
     "output_type": "stream",
     "text": [
      "1: -0.012335640138408299\n",
      "2: -0.016301179736294198\n",
      "3: -0.023210405004939077\n",
      "4: -0.0291743119266055\n",
      "5: -0.03501073729420186\n",
      "6: -0.05858914728682171\n",
      "7: 0.007868852459016395\n",
      "8: -0.1006666666666667\n",
      "9: -0.12241379310344828\n",
      "10: 0.33545454545454545\n",
      "11: -0.156\n",
      "12: 0.22\n",
      "14: 0.0\n"
     ]
    }
   ],
   "source": [
    "for r in range(1,15):\n",
    "\n",
    "    if r != 13:\n",
    "   \n",
    "        number = df[df.cost== r].sentiment.mean()\n",
    "      \n",
    "        print(f'{r}: {number}')"
   ]
  },
  {
   "cell_type": "code",
   "execution_count": 39,
   "metadata": {},
   "outputs": [
    {
     "name": "stdout",
     "output_type": "stream",
     "text": [
      "1: 0.0\n",
      "2: 0.0\n",
      "3: 0.0\n",
      "4: 0.0\n",
      "5: 0.0\n",
      "6: 0.0\n",
      "7: 0.0\n",
      "8: 0.0\n",
      "9: 0.0\n",
      "10: 0.36\n",
      "11: -0.46\n",
      "12: 0.22\n",
      "14: 0.0\n"
     ]
    }
   ],
   "source": [
    "for r in range(1,15):\n",
    "\n",
    "    if r != 13:\n",
    "   \n",
    "        number = df[df.cost== r].sentiment.median()\n",
    "      \n",
    "        print(f'{r}: {number}')"
   ]
  },
  {
   "cell_type": "code",
   "execution_count": 40,
   "metadata": {},
   "outputs": [
    {
     "name": "stdout",
     "output_type": "stream",
     "text": [
      "1: 0    0.0\n",
      "dtype: float64\n",
      "2: 0    0.0\n",
      "dtype: float64\n",
      "3: 0    0.0\n",
      "dtype: float64\n",
      "4: 0    0.0\n",
      "dtype: float64\n",
      "5: 0    0.0\n",
      "dtype: float64\n",
      "6: 0    0.0\n",
      "dtype: float64\n",
      "7: 0    0.0\n",
      "dtype: float64\n",
      "8: 0    0.0\n",
      "dtype: float64\n",
      "9: 0    0.0\n",
      "dtype: float64\n",
      "10: 0    0.0\n",
      "dtype: float64\n",
      "11: 0   -0.93\n",
      "1   -0.57\n",
      "2   -0.46\n",
      "3    0.44\n",
      "4    0.74\n",
      "dtype: float64\n",
      "12: 0    0.00\n",
      "1    0.44\n",
      "dtype: float64\n",
      "14: 0    0.0\n",
      "dtype: float64\n"
     ]
    }
   ],
   "source": [
    "for r in range(1,15):\n",
    "\n",
    "    if r != 13:\n",
    "   \n",
    "        number = df[df.cost== r].sentiment.mode()\n",
    "      \n",
    "        print(f'{r}: {number}')"
   ]
  },
  {
   "cell_type": "code",
   "execution_count": 41,
   "metadata": {},
   "outputs": [
    {
     "name": "stdout",
     "output_type": "stream",
     "text": [
      "Positive and Negative Sentiment Scores\n",
      "\n",
      "1: Positive: 0.34%  Negative: 0.37%  Zero: 0.29%\n",
      "\n",
      "2: Positive: 0.35%  Negative: 0.37%  Zero: 0.29%\n",
      "\n",
      "3: Positive: 0.34%  Negative: 0.38%  Zero: 0.28%\n",
      "\n",
      "4: Positive: 0.32%  Negative: 0.37%  Zero: 0.3%\n",
      "\n",
      "5: Positive: 0.34%  Negative: 0.39%  Zero: 0.27%\n",
      "\n",
      "6: Positive: 0.33%  Negative: 0.4%  Zero: 0.28%\n",
      "\n",
      "7: Positive: 0.37%  Negative: 0.34%  Zero: 0.29%\n",
      "\n",
      "8: Positive: 0.22%  Negative: 0.44%  Zero: 0.33%\n",
      "\n",
      "9: Positive: 0.24%  Negative: 0.38%  Zero: 0.38%\n",
      "\n",
      "10: Positive: 0.73%  Negative: 0.0%  Zero: 0.27%\n",
      "\n",
      "11: Positive: 0.4%  Negative: 0.6%  Zero: 0.0%\n",
      "\n",
      "12: Positive: 0.5%  Negative: 0.0%  Zero: 0.5%\n",
      "\n",
      "14: Positive: 0.0%  Negative: 0.0%  Zero: 1.0%\n"
     ]
    }
   ],
   "source": [
    "print(\"Positive and Negative Sentiment Scores\")\n",
    "\n",
    "for r in range(1,15):\n",
    "\n",
    "    if r != 13:\n",
    "\n",
    "        positive = df[df.cost==r][df.sentiment>0].sentiment.count()\n",
    "        negative = df[df.cost==r][df.sentiment<0].sentiment.count()\n",
    "        zero = df[df.cost==r][df.sentiment==0].sentiment.count()\n",
    "    \n",
    "        total = df[df.cost==r].sentiment.count()\n",
    "      \n",
    "        print('')\n",
    "        print(f'{r}: Positive: {round(positive/total,2)}%  Negative: {round(negative/total,2)}%  Zero: {round(zero/total,2)}%')"
   ]
  },
  {
   "cell_type": "code",
   "execution_count": 42,
   "metadata": {},
   "outputs": [
    {
     "data": {
      "image/png": "[encoded data removed]",
      "text/plain": [
       "<Figure size 432x288 with 1 Axes>"
      ]
     },
     "metadata": {
      "needs_background": "light"
     },
     "output_type": "display_data"
    },
    {
     "data": {
      "image/png": "[encoded data removed]",
      "text/plain": [
       "<Figure size 432x288 with 1 Axes>"
      ]
     },
     "metadata": {
      "needs_background": "light"
     },
     "output_type": "display_data"
    },
    {
     "data": {
      "image/png": "[encoded data removed]",
      "text/plain": [
       "<Figure size 432x288 with 1 Axes>"
      ]
     },
     "metadata": {
      "needs_background": "light"
     },
     "output_type": "display_data"
    },
    {
     "data": {
      "image/png": "[encoded data removed]",
      "text/plain": [
       "<Figure size 432x288 with 1 Axes>"
      ]
     },
     "metadata": {
      "needs_background": "light"
     },
     "output_type": "display_data"
    },
    {
     "data": {
      "image/png": "[encoded data removed]",
      "text/plain": [
       "<Figure size 432x288 with 1 Axes>"
      ]
     },
     "metadata": {
      "needs_background": "light"
     },
     "output_type": "display_data"
    },
    {
     "data": {
      "image/png": "[encoded data removed]",
      "text/plain": [
       "<Figure size 432x288 with 1 Axes>"
      ]
     },
     "metadata": {
      "needs_background": "light"
     },
     "output_type": "display_data"
    },
    {
     "data": {
      "image/png": "[encoded data removed]",
      "text/plain": [
       "<Figure size 432x288 with 1 Axes>"
      ]
     },
     "metadata": {
      "needs_background": "light"
     },
     "output_type": "display_data"
    },
    {
     "data": {
      "image/png": "[encoded data removed]",
      "text/plain": [
       "<Figure size 432x288 with 1 Axes>"
      ]
     },
     "metadata": {
      "needs_background": "light"
     },
     "output_type": "display_data"
    },
    {
     "data": {
      "image/png": "[encoded data removed]",
      "text/plain": [
       "<Figure size 432x288 with 1 Axes>"
      ]
     },
     "metadata": {
      "needs_background": "light"
     },
     "output_type": "display_data"
    },
    {
     "data": {
      "image/png": "[encoded data removed]",
      "text/plain": [
       "<Figure size 432x288 with 1 Axes>"
      ]
     },
     "metadata": {
      "needs_background": "light"
     },
     "output_type": "display_data"
    },
    {
     "data": {
      "image/png": "[encoded data removed]",
      "text/plain": [
       "<Figure size 432x288 with 1 Axes>"
      ]
     },
     "metadata": {
      "needs_background": "light"
     },
     "output_type": "display_data"
    },
    {
     "data": {
      "image/png": "[encoded data removed]",
      "text/plain": [
       "<Figure size 432x288 with 1 Axes>"
      ]
     },
     "metadata": {
      "needs_background": "light"
     },
     "output_type": "display_data"
    }
   ],
   "source": [
    "for r in range(1,15):\n",
    "\n",
    "    if r not in (13,14):\n",
    "        \n",
    "        bins =[-1,-.9,-.8,-.7,-.6,-.5,-.4,-.3,-.2,-.1,0,.1,.2,.3,.4,.5,.6,.7,.8,.9,1]\n",
    "\n",
    "        sentiment = df.sentiment[df.sentiment!=0][df.cost==r]\n",
    "\n",
    "        plt.hist(sentiment,bins=bins,edgecolor='black',color='firebrick')\n",
    "\n",
    "\n",
    "        plt.title(f'Fequency of Sentiment Scores in {r} With Zero Scores Removed')\n",
    "        plt.xlabel('Sentiment Scores')\n",
    "        plt.ylabel('Number of Occurances')\n",
    "\n",
    "        plt.tight_layout()\n",
    "\n",
    "        plt.show()"
   ]
  },
  {
   "cell_type": "markdown",
   "metadata": {},
   "source": [
    "### Exploration Summary\n",
    "\n",
    "* The only feature that seems to drive sentiment is color\n",
    "* I will proceed to modeling using only that feature\n"
   ]
  },
  {
   "cell_type": "markdown",
   "metadata": {},
   "source": [
    "# Modeling\n",
    "\n",
    "1. create baseline using regression model using mean sentiment score\n",
    "2. create regression model using color\n",
    "3. compare results"
   ]
  },
  {
   "cell_type": "code",
   "execution_count": 43,
   "metadata": {},
   "outputs": [],
   "source": [
    "df['yhat'] = df.sentiment.mean()"
   ]
  },
  {
   "cell_type": "code",
   "execution_count": 44,
   "metadata": {},
   "outputs": [],
   "source": [
    "df['zero'] = 0"
   ]
  },
  {
   "cell_type": "code",
   "execution_count": 45,
   "metadata": {},
   "outputs": [
    {
     "data": {
      "text/html": [
       "<div>\n",
       "<style scoped>\n",
       "    .dataframe tbody tr th:only-of-type {\n",
       "        vertical-align: middle;\n",
       "    }\n",
       "\n",
       "    .dataframe tbody tr th {\n",
       "        vertical-align: top;\n",
       "    }\n",
       "\n",
       "    .dataframe thead th {\n",
       "        text-align: right;\n",
       "    }\n",
       "</style>\n",
       "<table border=\"1\" class=\"dataframe\">\n",
       "  <thead>\n",
       "    <tr style=\"text-align: right;\">\n",
       "      <th></th>\n",
       "      <th>color</th>\n",
       "      <th>types</th>\n",
       "      <th>cost</th>\n",
       "      <th>rarity</th>\n",
       "      <th>flavor</th>\n",
       "      <th>sentiment</th>\n",
       "      <th>intensity</th>\n",
       "      <th>yhat</th>\n",
       "      <th>zero</th>\n",
       "    </tr>\n",
       "  </thead>\n",
       "  <tbody>\n",
       "    <tr>\n",
       "      <td>0</td>\n",
       "      <td>Green</td>\n",
       "      <td>Creature</td>\n",
       "      <td>5.0</td>\n",
       "      <td>common</td>\n",
       "      <td>\" . . . And the third little boar built his house out of rootwalla plates . . . .\"</td>\n",
       "      <td>0.0</td>\n",
       "      <td>0.0</td>\n",
       "      <td>-0.02454</td>\n",
       "      <td>0</td>\n",
       "    </tr>\n",
       "    <tr>\n",
       "      <td>1</td>\n",
       "      <td>Black</td>\n",
       "      <td>Creature</td>\n",
       "      <td>1.0</td>\n",
       "      <td>common</td>\n",
       "      <td>\" . . . Cao Pi, Cao Rui, Fang, Mao, and briefly, Huan—  The Sima took the empire in their turn. . . .\"</td>\n",
       "      <td>0.0</td>\n",
       "      <td>0.0</td>\n",
       "      <td>-0.02454</td>\n",
       "      <td>0</td>\n",
       "    </tr>\n",
       "    <tr>\n",
       "      <td>2</td>\n",
       "      <td>Blue</td>\n",
       "      <td>Creature</td>\n",
       "      <td>5.0</td>\n",
       "      <td>uncommon</td>\n",
       "      <td>\" . . . When the trees bow down their heads, The wind is passing by.\"</td>\n",
       "      <td>0.0</td>\n",
       "      <td>0.0</td>\n",
       "      <td>-0.02454</td>\n",
       "      <td>0</td>\n",
       "    </tr>\n",
       "    <tr>\n",
       "      <td>3</td>\n",
       "      <td>White</td>\n",
       "      <td>Creature</td>\n",
       "      <td>4.0</td>\n",
       "      <td>uncommon</td>\n",
       "      <td>\" . . . and you must also apply for an application license, file documents 136(iv) and 22-C and -D in triplicate, pay all requisite fees, request a . . .\"</td>\n",
       "      <td>-0.1</td>\n",
       "      <td>0.1</td>\n",
       "      <td>-0.02454</td>\n",
       "      <td>0</td>\n",
       "    </tr>\n",
       "    <tr>\n",
       "      <td>4</td>\n",
       "      <td>Green</td>\n",
       "      <td>Creature</td>\n",
       "      <td>4.0</td>\n",
       "      <td>common</td>\n",
       "      <td>\"'Air superiority?' Not while our archers scan the skies.\"</td>\n",
       "      <td>0.0</td>\n",
       "      <td>0.0</td>\n",
       "      <td>-0.02454</td>\n",
       "      <td>0</td>\n",
       "    </tr>\n",
       "  </tbody>\n",
       "</table>\n",
       "</div>"
      ],
      "text/plain": [
       "   color     types  cost    rarity  \\\n",
       "0  Green  Creature  5.0   common     \n",
       "1  Black  Creature  1.0   common     \n",
       "2  Blue   Creature  5.0   uncommon   \n",
       "3  White  Creature  4.0   uncommon   \n",
       "4  Green  Creature  4.0   common     \n",
       "\n",
       "                                                                                                                                                       flavor  \\\n",
       "0  \" . . . And the third little boar built his house out of rootwalla plates . . . .\"                                                                           \n",
       "1  \" . . . Cao Pi, Cao Rui, Fang, Mao, and briefly, Huan—  The Sima took the empire in their turn. . . .\"                                                       \n",
       "2  \" . . . When the trees bow down their heads, The wind is passing by.\"                                                                                        \n",
       "3  \" . . . and you must also apply for an application license, file documents 136(iv) and 22-C and -D in triplicate, pay all requisite fees, request a . . .\"   \n",
       "4  \"'Air superiority?' Not while our archers scan the skies.\"                                                                                                   \n",
       "\n",
       "   sentiment  intensity     yhat  zero  \n",
       "0  0.0        0.0       -0.02454  0     \n",
       "1  0.0        0.0       -0.02454  0     \n",
       "2  0.0        0.0       -0.02454  0     \n",
       "3 -0.1        0.1       -0.02454  0     \n",
       "4  0.0        0.0       -0.02454  0     "
      ]
     },
     "execution_count": 45,
     "metadata": {},
     "output_type": "execute_result"
    }
   ],
   "source": [
    "df.head()"
   ]
  },
  {
   "cell_type": "code",
   "execution_count": 46,
   "metadata": {},
   "outputs": [],
   "source": [
    "yhat = df[['yhat']]\n",
    "\n",
    "X = df[['color']]\n",
    "\n",
    "y = df[['sentiment']]"
   ]
  },
  {
   "cell_type": "code",
   "execution_count": 47,
   "metadata": {},
   "outputs": [
    {
     "name": "stdout",
     "output_type": "stream",
     "text": [
      "Mean Squared Error: 0.1789530175446309\n",
      "\n",
      "Sum of Squared Errors: 2227.6071623955654\n",
      "\n",
      "Root Mean Square Errors: 0.4230283885800466\n",
      "\n",
      "Explained Variance Score: 0.0\n"
     ]
    }
   ],
   "source": [
    "from sklearn.metrics import mean_squared_error, explained_variance_score\n",
    "from math import sqrt\n",
    "\n",
    "lm1 = LinearRegression()\n",
    "lm1.fit(yhat, y)\n",
    "\n",
    "y_pred_baseline = np.array(yhat)\n",
    "MSE = mean_squared_error(y, y_pred_baseline)\n",
    "SSE = MSE*len(y)\n",
    "RMSE = sqrt(MSE)\n",
    "\n",
    "evs = explained_variance_score(y, y_pred_baseline)\n",
    "\n",
    "print(f\"Mean Squared Error: {MSE}\")\n",
    "print('')\n",
    "print(f\"Sum of Squared Errors: {SSE}\")\n",
    "print('')\n",
    "print(f\"Root Mean Square Errors: {RMSE}\")\n",
    "print('')\n",
    "print(f\"Explained Variance Score: {evs}\")\n",
    "\n"
   ]
  },
  {
   "cell_type": "code",
   "execution_count": 48,
   "metadata": {},
   "outputs": [
    {
     "data": {
      "text/html": [
       "<div>\n",
       "<style scoped>\n",
       "    .dataframe tbody tr th:only-of-type {\n",
       "        vertical-align: middle;\n",
       "    }\n",
       "\n",
       "    .dataframe tbody tr th {\n",
       "        vertical-align: top;\n",
       "    }\n",
       "\n",
       "    .dataframe thead th {\n",
       "        text-align: right;\n",
       "    }\n",
       "</style>\n",
       "<table border=\"1\" class=\"dataframe\">\n",
       "  <thead>\n",
       "    <tr style=\"text-align: right;\">\n",
       "      <th></th>\n",
       "      <th>color</th>\n",
       "      <th>Black</th>\n",
       "      <th>Blue</th>\n",
       "      <th>Green</th>\n",
       "      <th>Red</th>\n",
       "      <th>White</th>\n",
       "    </tr>\n",
       "  </thead>\n",
       "  <tbody>\n",
       "    <tr>\n",
       "      <td>0</td>\n",
       "      <td>Green</td>\n",
       "      <td>0.0</td>\n",
       "      <td>0.0</td>\n",
       "      <td>1.0</td>\n",
       "      <td>0.0</td>\n",
       "      <td>0.0</td>\n",
       "    </tr>\n",
       "    <tr>\n",
       "      <td>1</td>\n",
       "      <td>Black</td>\n",
       "      <td>1.0</td>\n",
       "      <td>0.0</td>\n",
       "      <td>0.0</td>\n",
       "      <td>0.0</td>\n",
       "      <td>0.0</td>\n",
       "    </tr>\n",
       "    <tr>\n",
       "      <td>2</td>\n",
       "      <td>Blue</td>\n",
       "      <td>0.0</td>\n",
       "      <td>1.0</td>\n",
       "      <td>0.0</td>\n",
       "      <td>0.0</td>\n",
       "      <td>0.0</td>\n",
       "    </tr>\n",
       "    <tr>\n",
       "      <td>3</td>\n",
       "      <td>White</td>\n",
       "      <td>0.0</td>\n",
       "      <td>0.0</td>\n",
       "      <td>0.0</td>\n",
       "      <td>0.0</td>\n",
       "      <td>1.0</td>\n",
       "    </tr>\n",
       "    <tr>\n",
       "      <td>4</td>\n",
       "      <td>Green</td>\n",
       "      <td>0.0</td>\n",
       "      <td>0.0</td>\n",
       "      <td>1.0</td>\n",
       "      <td>0.0</td>\n",
       "      <td>0.0</td>\n",
       "    </tr>\n",
       "    <tr>\n",
       "      <td>...</td>\n",
       "      <td>...</td>\n",
       "      <td>...</td>\n",
       "      <td>...</td>\n",
       "      <td>...</td>\n",
       "      <td>...</td>\n",
       "      <td>...</td>\n",
       "    </tr>\n",
       "    <tr>\n",
       "      <td>12445</td>\n",
       "      <td>Black</td>\n",
       "      <td>1.0</td>\n",
       "      <td>0.0</td>\n",
       "      <td>0.0</td>\n",
       "      <td>0.0</td>\n",
       "      <td>0.0</td>\n",
       "    </tr>\n",
       "    <tr>\n",
       "      <td>12446</td>\n",
       "      <td>Green</td>\n",
       "      <td>0.0</td>\n",
       "      <td>0.0</td>\n",
       "      <td>1.0</td>\n",
       "      <td>0.0</td>\n",
       "      <td>0.0</td>\n",
       "    </tr>\n",
       "    <tr>\n",
       "      <td>12447</td>\n",
       "      <td>Blue</td>\n",
       "      <td>0.0</td>\n",
       "      <td>1.0</td>\n",
       "      <td>0.0</td>\n",
       "      <td>0.0</td>\n",
       "      <td>0.0</td>\n",
       "    </tr>\n",
       "    <tr>\n",
       "      <td>12448</td>\n",
       "      <td>Black</td>\n",
       "      <td>1.0</td>\n",
       "      <td>0.0</td>\n",
       "      <td>0.0</td>\n",
       "      <td>0.0</td>\n",
       "      <td>0.0</td>\n",
       "    </tr>\n",
       "    <tr>\n",
       "      <td>12449</td>\n",
       "      <td>Red</td>\n",
       "      <td>0.0</td>\n",
       "      <td>0.0</td>\n",
       "      <td>0.0</td>\n",
       "      <td>1.0</td>\n",
       "      <td>0.0</td>\n",
       "    </tr>\n",
       "  </tbody>\n",
       "</table>\n",
       "<p>12448 rows × 6 columns</p>\n",
       "</div>"
      ],
      "text/plain": [
       "       color  Black  Blue  Green  Red  White\n",
       "0      Green  0.0    0.0   1.0    0.0  0.0  \n",
       "1      Black  1.0    0.0   0.0    0.0  0.0  \n",
       "2      Blue   0.0    1.0   0.0    0.0  0.0  \n",
       "3      White  0.0    0.0   0.0    0.0  1.0  \n",
       "4      Green  0.0    0.0   1.0    0.0  0.0  \n",
       "...      ...  ...    ...   ...    ...  ...  \n",
       "12445  Black  1.0    0.0   0.0    0.0  0.0  \n",
       "12446  Green  0.0    0.0   1.0    0.0  0.0  \n",
       "12447  Blue   0.0    1.0   0.0    0.0  0.0  \n",
       "12448  Black  1.0    0.0   0.0    0.0  0.0  \n",
       "12449  Red    0.0    0.0   0.0    1.0  0.0  \n",
       "\n",
       "[12448 rows x 6 columns]"
      ]
     },
     "execution_count": 48,
     "metadata": {},
     "output_type": "execute_result"
    }
   ],
   "source": [
    "encoded_values = colors = ['Black','Blue','Green','Red','White']\n",
    "\n",
    "# Integer Encoding\n",
    "int_encoder = LabelEncoder()\n",
    "X.encoded = int_encoder.fit_transform(X.color)\n",
    "\n",
    "# create 2D np arrays of the encoded variable (in train and test)\n",
    "X_array = np.array(X.encoded).reshape(len(X.encoded),1)\n",
    "\n",
    "# One Hot Encoding\n",
    "ohe = OneHotEncoder(sparse=False, categories='auto')\n",
    "X_ohe = ohe.fit_transform(X_array)\n",
    "\n",
    "# Turn the array of new values into a data frame with columns names being the values\n",
    "# and index matching that of train/test\n",
    "# then merge the new dataframe with the existing train/test dataframe\n",
    "X_encoded = pd.DataFrame(data=X_ohe, columns=encoded_values, index=X.index)\n",
    "\n",
    "X = X.join(X_encoded)\n",
    "\n",
    "X "
   ]
  },
  {
   "cell_type": "code",
   "execution_count": 49,
   "metadata": {},
   "outputs": [],
   "source": [
    "X.drop(columns='color',inplace=True)"
   ]
  },
  {
   "cell_type": "code",
   "execution_count": 50,
   "metadata": {
    "scrolled": true
   },
   "outputs": [
    {
     "data": {
      "text/html": [
       "<div>\n",
       "<style scoped>\n",
       "    .dataframe tbody tr th:only-of-type {\n",
       "        vertical-align: middle;\n",
       "    }\n",
       "\n",
       "    .dataframe tbody tr th {\n",
       "        vertical-align: top;\n",
       "    }\n",
       "\n",
       "    .dataframe thead th {\n",
       "        text-align: right;\n",
       "    }\n",
       "</style>\n",
       "<table border=\"1\" class=\"dataframe\">\n",
       "  <thead>\n",
       "    <tr style=\"text-align: right;\">\n",
       "      <th></th>\n",
       "      <th>Black</th>\n",
       "      <th>Blue</th>\n",
       "      <th>Green</th>\n",
       "      <th>Red</th>\n",
       "      <th>White</th>\n",
       "    </tr>\n",
       "  </thead>\n",
       "  <tbody>\n",
       "    <tr>\n",
       "      <td>0</td>\n",
       "      <td>0.0</td>\n",
       "      <td>0.0</td>\n",
       "      <td>1.0</td>\n",
       "      <td>0.0</td>\n",
       "      <td>0.0</td>\n",
       "    </tr>\n",
       "    <tr>\n",
       "      <td>1</td>\n",
       "      <td>1.0</td>\n",
       "      <td>0.0</td>\n",
       "      <td>0.0</td>\n",
       "      <td>0.0</td>\n",
       "      <td>0.0</td>\n",
       "    </tr>\n",
       "    <tr>\n",
       "      <td>2</td>\n",
       "      <td>0.0</td>\n",
       "      <td>1.0</td>\n",
       "      <td>0.0</td>\n",
       "      <td>0.0</td>\n",
       "      <td>0.0</td>\n",
       "    </tr>\n",
       "    <tr>\n",
       "      <td>3</td>\n",
       "      <td>0.0</td>\n",
       "      <td>0.0</td>\n",
       "      <td>0.0</td>\n",
       "      <td>0.0</td>\n",
       "      <td>1.0</td>\n",
       "    </tr>\n",
       "    <tr>\n",
       "      <td>4</td>\n",
       "      <td>0.0</td>\n",
       "      <td>0.0</td>\n",
       "      <td>1.0</td>\n",
       "      <td>0.0</td>\n",
       "      <td>0.0</td>\n",
       "    </tr>\n",
       "    <tr>\n",
       "      <td>...</td>\n",
       "      <td>...</td>\n",
       "      <td>...</td>\n",
       "      <td>...</td>\n",
       "      <td>...</td>\n",
       "      <td>...</td>\n",
       "    </tr>\n",
       "    <tr>\n",
       "      <td>12445</td>\n",
       "      <td>1.0</td>\n",
       "      <td>0.0</td>\n",
       "      <td>0.0</td>\n",
       "      <td>0.0</td>\n",
       "      <td>0.0</td>\n",
       "    </tr>\n",
       "    <tr>\n",
       "      <td>12446</td>\n",
       "      <td>0.0</td>\n",
       "      <td>0.0</td>\n",
       "      <td>1.0</td>\n",
       "      <td>0.0</td>\n",
       "      <td>0.0</td>\n",
       "    </tr>\n",
       "    <tr>\n",
       "      <td>12447</td>\n",
       "      <td>0.0</td>\n",
       "      <td>1.0</td>\n",
       "      <td>0.0</td>\n",
       "      <td>0.0</td>\n",
       "      <td>0.0</td>\n",
       "    </tr>\n",
       "    <tr>\n",
       "      <td>12448</td>\n",
       "      <td>1.0</td>\n",
       "      <td>0.0</td>\n",
       "      <td>0.0</td>\n",
       "      <td>0.0</td>\n",
       "      <td>0.0</td>\n",
       "    </tr>\n",
       "    <tr>\n",
       "      <td>12449</td>\n",
       "      <td>0.0</td>\n",
       "      <td>0.0</td>\n",
       "      <td>0.0</td>\n",
       "      <td>1.0</td>\n",
       "      <td>0.0</td>\n",
       "    </tr>\n",
       "  </tbody>\n",
       "</table>\n",
       "<p>12448 rows × 5 columns</p>\n",
       "</div>"
      ],
      "text/plain": [
       "       Black  Blue  Green  Red  White\n",
       "0      0.0    0.0   1.0    0.0  0.0  \n",
       "1      1.0    0.0   0.0    0.0  0.0  \n",
       "2      0.0    1.0   0.0    0.0  0.0  \n",
       "3      0.0    0.0   0.0    0.0  1.0  \n",
       "4      0.0    0.0   1.0    0.0  0.0  \n",
       "...    ...    ...   ...    ...  ...  \n",
       "12445  1.0    0.0   0.0    0.0  0.0  \n",
       "12446  0.0    0.0   1.0    0.0  0.0  \n",
       "12447  0.0    1.0   0.0    0.0  0.0  \n",
       "12448  1.0    0.0   0.0    0.0  0.0  \n",
       "12449  0.0    0.0   0.0    1.0  0.0  \n",
       "\n",
       "[12448 rows x 5 columns]"
      ]
     },
     "execution_count": 50,
     "metadata": {},
     "output_type": "execute_result"
    }
   ],
   "source": [
    "X"
   ]
  },
  {
   "cell_type": "code",
   "execution_count": 51,
   "metadata": {},
   "outputs": [
    {
     "name": "stdout",
     "output_type": "stream",
     "text": [
      "Mean Squared Error: 0.17591523139038\n",
      "\n",
      "Sum of Squared Errors: 2189.7928003474503\n",
      "\n",
      "Root Mean Square Errors: 0.4194224974776389\n",
      "\n",
      "Explained Variance Score: 0.02\n"
     ]
    }
   ],
   "source": [
    "from sklearn.metrics import mean_squared_error, explained_variance_score\n",
    "from math import sqrt\n",
    "\n",
    "lm1 = LinearRegression()\n",
    "lm1.fit(X, y)\n",
    "\n",
    "y_pred_color = lm1.predict(X)\n",
    "\n",
    "MSE = mean_squared_error(y, y_pred_color)\n",
    "SSE = MSE*len(y)\n",
    "RMSE = sqrt(MSE)\n",
    "\n",
    "evs = explained_variance_score(y, y_pred_color)\n",
    "\n",
    "print(f\"Mean Squared Error: {MSE}\")\n",
    "print('')\n",
    "print(f\"Sum of Squared Errors: {SSE}\")\n",
    "print('')\n",
    "print(f\"Root Mean Square Errors: {RMSE}\")\n",
    "print('')\n",
    "print(f\"Explained Variance Score: {round(evs,2)}\")"
   ]
  },
  {
   "cell_type": "code",
   "execution_count": null,
   "metadata": {},
   "outputs": [],
   "source": []
  },
  {
   "cell_type": "code",
   "execution_count": null,
   "metadata": {},
   "outputs": [],
   "source": []
  },
  {
   "cell_type": "code",
   "execution_count": null,
   "metadata": {},
   "outputs": [],
   "source": []
  },
  {
   "cell_type": "code",
   "execution_count": null,
   "metadata": {},
   "outputs": [],
   "source": []
  },
  {
   "cell_type": "code",
   "execution_count": null,
   "metadata": {},
   "outputs": [],
   "source": []
  },
  {
   "cell_type": "code",
   "execution_count": null,
   "metadata": {},
   "outputs": [],
   "source": []
  },
  {
   "cell_type": "code",
   "execution_count": null,
   "metadata": {},
   "outputs": [],
   "source": []
  },
  {
   "cell_type": "code",
   "execution_count": null,
   "metadata": {},
   "outputs": [],
   "source": []
  },
  {
   "cell_type": "code",
   "execution_count": null,
   "metadata": {},
   "outputs": [],
   "source": []
  },
  {
   "cell_type": "code",
   "execution_count": null,
   "metadata": {},
   "outputs": [],
   "source": []
  },
  {
   "cell_type": "code",
   "execution_count": null,
   "metadata": {},
   "outputs": [],
   "source": []
  },
  {
   "cell_type": "code",
   "execution_count": null,
   "metadata": {},
   "outputs": [],
   "source": []
  },
  {
   "cell_type": "code",
   "execution_count": null,
   "metadata": {},
   "outputs": [],
   "source": []
  }
 ],
 "metadata": {
  "kernelspec": {
   "display_name": "Python 3",
   "language": "python",
   "name": "python3"
  },
  "language_info": {
   "codemirror_mode": {
    "name": "ipython",
    "version": 3
   },
   "file_extension": ".py",
   "mimetype": "text/x-python",
   "name": "python",
   "nbconvert_exporter": "python",
   "pygments_lexer": "ipython3",
   "version": "3.7.4"
  }
 },
 "nbformat": 4,
 "nbformat_minor": 2
}
