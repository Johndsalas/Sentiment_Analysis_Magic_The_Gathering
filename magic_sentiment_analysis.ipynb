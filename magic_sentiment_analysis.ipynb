{
 "cells": [
  {
   "cell_type": "markdown",
   "metadata": {},
   "source": [
    "## Goals:\n",
    "\n",
    "**1. Determine the primary drivers of sentiment in the flavor text of Magic: The Gathering cards.**\n",
    "\n",
    "**2. Develop a model to predict the sentiment of flavor text in Magic: The Gathering cards.**"
   ]
  },
  {
   "cell_type": "code",
   "execution_count": 1,
   "metadata": {},
   "outputs": [],
   "source": [
    "# imports and display options\n",
    "\n",
    "import pandas as pd\n",
    "import numpy as np\n",
    "from vaderSentiment.vaderSentiment import SentimentIntensityAnalyzer\n",
    "import seaborn as sns\n",
    "import matplotlib.pyplot as plt\n",
    "\n",
    "import prepare as p\n",
    "\n",
    "pd.set_option('display.max_colwidth', -1)"
   ]
  },
  {
   "cell_type": "markdown",
   "metadata": {},
   "source": [
    "# Acquire\n",
    "\n",
    "1. A CSV, containing an up to date breakdown of each Magic card that has been printed so far, was obtained from MTGJSON.com. Each row represented a card or a version of a card.The dataframe contained 50,412 rows and 71 columns.\n",
    "\n",
    "2. The CSV was read into a pandas dataframe\n",
    "\n",
    "# Prepare\n",
    "\n",
    "1. Restricted dataframe to only to columns I considered to be relevant. (colorIdentity, types, convertedManaCost, rarity, flavorText, isPaper)\n",
    " \n",
    "2. Restricted dataframe to only rows containing cards that exist in physical form\n",
    "\n",
    "3. Restricted dataframe to only row containing a flavor text\n",
    "\n",
    "4. Restricted dataframe to only rows with a single color-identity\n",
    "\n",
    "5. Merged rows with similar or overlapping types into one of the seven major game types\n",
    "\n",
    "6. Restricted dataframe to include only rows with a single type belonging to one of the major game types\n",
    "\n",
    "7. Cleaned up flavor text then aggregated on flavorText in an attempt to eliminate duplicates. This game me some success. However, it is likely that a few duplicates remain.\n",
    "\n",
    "8. Reordered columns\n",
    "\n",
    "9. Restricted dataframe to rows with English flavor text \n",
    "\n",
    "10. Dropped rows with duplicates I happened to spot\n",
    "\n",
    "11. Added sentiment column showing compound sentiment score using VADER\n",
    "\n",
    "12. Added intensity column showing the absolute value of the compound sentiment score "
   ]
  },
  {
   "cell_type": "code",
   "execution_count": 2,
   "metadata": {
    "scrolled": true
   },
   "outputs": [],
   "source": [
    "# load and prepare data\n",
    "#df = p.prepare_mgt(p.wrangle_mtg())"
   ]
  },
  {
   "cell_type": "code",
   "execution_count": 3,
   "metadata": {},
   "outputs": [],
   "source": [
    "#df.to_csv('mtgprep.csv', index=False)"
   ]
  },
  {
   "cell_type": "code",
   "execution_count": 4,
   "metadata": {},
   "outputs": [],
   "source": [
    "df = pd.read_csv('mtgprep.csv')"
   ]
  },
  {
   "cell_type": "code",
   "execution_count": 5,
   "metadata": {},
   "outputs": [],
   "source": [
    "df=df.drop([7968,6562]) # drop found duplicates"
   ]
  },
  {
   "cell_type": "code",
   "execution_count": 6,
   "metadata": {},
   "outputs": [],
   "source": [
    "df=df.rename(columns={'colorIdentity':'color','convertedManaCost':'cost','flavorText':'flavor'})"
   ]
  },
  {
   "cell_type": "code",
   "execution_count": 7,
   "metadata": {},
   "outputs": [
    {
     "data": {
      "text/html": [
       "<div>\n",
       "<style scoped>\n",
       "    .dataframe tbody tr th:only-of-type {\n",
       "        vertical-align: middle;\n",
       "    }\n",
       "\n",
       "    .dataframe tbody tr th {\n",
       "        vertical-align: top;\n",
       "    }\n",
       "\n",
       "    .dataframe thead th {\n",
       "        text-align: right;\n",
       "    }\n",
       "</style>\n",
       "<table border=\"1\" class=\"dataframe\">\n",
       "  <thead>\n",
       "    <tr style=\"text-align: right;\">\n",
       "      <th></th>\n",
       "      <th>color</th>\n",
       "      <th>types</th>\n",
       "      <th>cost</th>\n",
       "      <th>rarity</th>\n",
       "      <th>flavor</th>\n",
       "      <th>sentiment</th>\n",
       "      <th>intensity</th>\n",
       "    </tr>\n",
       "  </thead>\n",
       "  <tbody>\n",
       "    <tr>\n",
       "      <td>0</td>\n",
       "      <td>Green</td>\n",
       "      <td>Creature</td>\n",
       "      <td>5.0</td>\n",
       "      <td>common</td>\n",
       "      <td>\" . . . And the third little boar built his house out of rootwalla plates . . . .\"</td>\n",
       "      <td>0.0000</td>\n",
       "      <td>0.0000</td>\n",
       "    </tr>\n",
       "    <tr>\n",
       "      <td>1</td>\n",
       "      <td>Black</td>\n",
       "      <td>Creature</td>\n",
       "      <td>1.0</td>\n",
       "      <td>common</td>\n",
       "      <td>\" . . . Cao Pi, Cao Rui, Fang, Mao, and briefly, Huan—  The Sima took the empire in their turn. . . .\"</td>\n",
       "      <td>0.0000</td>\n",
       "      <td>0.0000</td>\n",
       "    </tr>\n",
       "    <tr>\n",
       "      <td>2</td>\n",
       "      <td>Blue</td>\n",
       "      <td>Creature</td>\n",
       "      <td>5.0</td>\n",
       "      <td>uncommon</td>\n",
       "      <td>\" . . . When the trees bow down their heads, The wind is passing by.\"</td>\n",
       "      <td>0.0000</td>\n",
       "      <td>0.0000</td>\n",
       "    </tr>\n",
       "    <tr>\n",
       "      <td>3</td>\n",
       "      <td>White</td>\n",
       "      <td>Creature</td>\n",
       "      <td>4.0</td>\n",
       "      <td>uncommon</td>\n",
       "      <td>\" . . . and you must also apply for an application license, file documents 136(iv) and 22-C and -D in triplicate, pay all requisite fees, request a . . .\"</td>\n",
       "      <td>-0.1027</td>\n",
       "      <td>0.1027</td>\n",
       "    </tr>\n",
       "    <tr>\n",
       "      <td>4</td>\n",
       "      <td>Green</td>\n",
       "      <td>Creature</td>\n",
       "      <td>4.0</td>\n",
       "      <td>common</td>\n",
       "      <td>\"'Air superiority?' Not while our archers scan the skies.\"</td>\n",
       "      <td>0.0000</td>\n",
       "      <td>0.0000</td>\n",
       "    </tr>\n",
       "  </tbody>\n",
       "</table>\n",
       "</div>"
      ],
      "text/plain": [
       "   color     types  cost    rarity  \\\n",
       "0  Green  Creature  5.0   common     \n",
       "1  Black  Creature  1.0   common     \n",
       "2  Blue   Creature  5.0   uncommon   \n",
       "3  White  Creature  4.0   uncommon   \n",
       "4  Green  Creature  4.0   common     \n",
       "\n",
       "                                                                                                                                                       flavor  \\\n",
       "0  \" . . . And the third little boar built his house out of rootwalla plates . . . .\"                                                                           \n",
       "1  \" . . . Cao Pi, Cao Rui, Fang, Mao, and briefly, Huan—  The Sima took the empire in their turn. . . .\"                                                       \n",
       "2  \" . . . When the trees bow down their heads, The wind is passing by.\"                                                                                        \n",
       "3  \" . . . and you must also apply for an application license, file documents 136(iv) and 22-C and -D in triplicate, pay all requisite fees, request a . . .\"   \n",
       "4  \"'Air superiority?' Not while our archers scan the skies.\"                                                                                                   \n",
       "\n",
       "   sentiment  intensity  \n",
       "0  0.0000     0.0000     \n",
       "1  0.0000     0.0000     \n",
       "2  0.0000     0.0000     \n",
       "3 -0.1027     0.1027     \n",
       "4  0.0000     0.0000     "
      ]
     },
     "execution_count": 7,
     "metadata": {},
     "output_type": "execute_result"
    }
   ],
   "source": [
    "df.head(5)"
   ]
  },
  {
   "cell_type": "code",
   "execution_count": 8,
   "metadata": {},
   "outputs": [],
   "source": [
    "df = df.round(2)"
   ]
  },
  {
   "cell_type": "markdown",
   "metadata": {},
   "source": [
    "# Explore"
   ]
  },
  {
   "cell_type": "markdown",
   "metadata": {},
   "source": [
    "### What does the data look like?"
   ]
  },
  {
   "cell_type": "markdown",
   "metadata": {},
   "source": [
    "The fully prepared data frame contains:\n",
    "\n",
    "1. 12,448 rows and 7 columns\n",
    "2. four features representing how the card is categorized (datatype object)\n",
    "3. one feature representing Mana cost of the card (datatype float64)\n"
   ]
  },
  {
   "cell_type": "code",
   "execution_count": 9,
   "metadata": {},
   "outputs": [
    {
     "data": {
      "text/plain": [
       "(12448, 7)"
      ]
     },
     "execution_count": 9,
     "metadata": {},
     "output_type": "execute_result"
    }
   ],
   "source": [
    "df.shape"
   ]
  },
  {
   "cell_type": "code",
   "execution_count": 10,
   "metadata": {},
   "outputs": [
    {
     "name": "stdout",
     "output_type": "stream",
     "text": [
      "<class 'pandas.core.frame.DataFrame'>\n",
      "Int64Index: 12448 entries, 0 to 12449\n",
      "Data columns (total 7 columns):\n",
      "color        12448 non-null object\n",
      "types        12448 non-null object\n",
      "cost         12448 non-null float64\n",
      "rarity       12448 non-null object\n",
      "flavor       12448 non-null object\n",
      "sentiment    12448 non-null float64\n",
      "intensity    12448 non-null float64\n",
      "dtypes: float64(3), object(4)\n",
      "memory usage: 778.0+ KB\n"
     ]
    }
   ],
   "source": [
    "df.info()"
   ]
  },
  {
   "cell_type": "markdown",
   "metadata": {},
   "source": [
    "### Observations:\n",
    "\n",
    "1. mean sentiment in slightly negative at -.02, however it is very close to zero\n",
    "2. median sentiment is 0 \n",
    "\n",
    "3. mean intensity is .32 \n",
    "4. median intensity is .32 \n",
    "\n",
    "This suggests that both sentiment and intensity are normally distributed.\n",
    "\n",
    "### Hypothesis: \n",
    "It is possible that there are a large amount of cards that have a sentiment score of 0 . If this is true, and if the cards that had a positive score were normally distributed around .32 and the negative ones around -.32 that would explain these numbers. it would also explain the large standard deviation .42 in sentiment.\n",
    "\n",
    "\n",
    "observations:\n",
    "\n",
    "1. sentiment scores ranged from -.98 to .95\n",
    "2. intensity scores ranged from 0 to .98\n",
    "\n",
    "This suggests the flavor text covers a wide range of sentimint values. "
   ]
  },
  {
   "cell_type": "code",
   "execution_count": 11,
   "metadata": {},
   "outputs": [
    {
     "data": {
      "text/html": [
       "<div>\n",
       "<style scoped>\n",
       "    .dataframe tbody tr th:only-of-type {\n",
       "        vertical-align: middle;\n",
       "    }\n",
       "\n",
       "    .dataframe tbody tr th {\n",
       "        vertical-align: top;\n",
       "    }\n",
       "\n",
       "    .dataframe thead th {\n",
       "        text-align: right;\n",
       "    }\n",
       "</style>\n",
       "<table border=\"1\" class=\"dataframe\">\n",
       "  <thead>\n",
       "    <tr style=\"text-align: right;\">\n",
       "      <th></th>\n",
       "      <th>cost</th>\n",
       "      <th>sentiment</th>\n",
       "      <th>intensity</th>\n",
       "    </tr>\n",
       "  </thead>\n",
       "  <tbody>\n",
       "    <tr>\n",
       "      <td>count</td>\n",
       "      <td>12448.00000</td>\n",
       "      <td>12448.000000</td>\n",
       "      <td>12448.000000</td>\n",
       "    </tr>\n",
       "    <tr>\n",
       "      <td>mean</td>\n",
       "      <td>3.17541</td>\n",
       "      <td>-0.024540</td>\n",
       "      <td>0.321109</td>\n",
       "    </tr>\n",
       "    <tr>\n",
       "      <td>std</td>\n",
       "      <td>1.61158</td>\n",
       "      <td>0.423045</td>\n",
       "      <td>0.276496</td>\n",
       "    </tr>\n",
       "    <tr>\n",
       "      <td>min</td>\n",
       "      <td>0.00000</td>\n",
       "      <td>-0.980000</td>\n",
       "      <td>0.000000</td>\n",
       "    </tr>\n",
       "    <tr>\n",
       "      <td>25%</td>\n",
       "      <td>2.00000</td>\n",
       "      <td>-0.340000</td>\n",
       "      <td>0.000000</td>\n",
       "    </tr>\n",
       "    <tr>\n",
       "      <td>50%</td>\n",
       "      <td>3.00000</td>\n",
       "      <td>0.000000</td>\n",
       "      <td>0.320000</td>\n",
       "    </tr>\n",
       "    <tr>\n",
       "      <td>75%</td>\n",
       "      <td>4.00000</td>\n",
       "      <td>0.300000</td>\n",
       "      <td>0.540000</td>\n",
       "    </tr>\n",
       "    <tr>\n",
       "      <td>max</td>\n",
       "      <td>15.00000</td>\n",
       "      <td>0.950000</td>\n",
       "      <td>0.980000</td>\n",
       "    </tr>\n",
       "  </tbody>\n",
       "</table>\n",
       "</div>"
      ],
      "text/plain": [
       "              cost     sentiment     intensity\n",
       "count  12448.00000  12448.000000  12448.000000\n",
       "mean   3.17541     -0.024540      0.321109    \n",
       "std    1.61158      0.423045      0.276496    \n",
       "min    0.00000     -0.980000      0.000000    \n",
       "25%    2.00000     -0.340000      0.000000    \n",
       "50%    3.00000      0.000000      0.320000    \n",
       "75%    4.00000      0.300000      0.540000    \n",
       "max    15.00000     0.950000      0.980000    "
      ]
     },
     "execution_count": 11,
     "metadata": {},
     "output_type": "execute_result"
    }
   ],
   "source": [
    "df.describe()"
   ]
  },
  {
   "cell_type": "markdown",
   "metadata": {},
   "source": [
    "### How many cards have a sentiment score of zero?"
   ]
  },
  {
   "cell_type": "markdown",
   "metadata": {},
   "source": [
    "1. 0 is the most frequently occurring value (count = 3588)\n",
    "\n",
    "2. -.3 is second (count = 253)\n",
    "\n",
    "3. .44 is third (count =253)"
   ]
  },
  {
   "cell_type": "code",
   "execution_count": 15,
   "metadata": {},
   "outputs": [
    {
     "data": {
      "text/plain": [
       " 0.00    3588\n",
       "-0.30    253 \n",
       " 0.44    214 \n",
       " 0.36    213 \n",
       " 0.49    165 \n",
       "-0.38    164 \n",
       "-0.34    160 \n",
       "-0.60    157 \n",
       " 0.42    145 \n",
       "-0.48    134 \n",
       "Name: sentiment, dtype: int64"
      ]
     },
     "execution_count": 15,
     "metadata": {},
     "output_type": "execute_result"
    }
   ],
   "source": [
    "df.sentiment.value_counts().head(10)"
   ]
  },
  {
   "cell_type": "markdown",
   "metadata": {},
   "source": [
    "### What is frequency distribution of sentiment scores?\n",
    "\n",
    "Looking at the frquency distributions it appears that the hypothysis is correct. Taken by themselves, positive and negative sentiment cards appear to be somewhat normally distributed. However, when viewed as a whole the cards in the data set are not at all normally distributed."
   ]
  },
  {
   "cell_type": "code",
   "execution_count": 17,
   "metadata": {},
   "outputs": [
    {
     "data": {
      "image/png": "[encoded data removed]",
      "text/plain": [
       "<Figure size 432x288 with 1 Axes>"
      ]
     },
     "metadata": {
      "needs_background": "light"
     },
     "output_type": "display_data"
    }
   ],
   "source": [
    "bins =[-1,-.9,-.8,-.7,-.6,-.5,-.4,-.3,-.2,-.1,0,.1,.2,.3,.4,.5,.6,.7,.8,.9,1]\n",
    "\n",
    "\n",
    "\n",
    "sentiment = df['sentiment']\n",
    "\n",
    "plt.hist(sentiment,bins=bins,edgecolor='black')\n",
    "\n",
    "\n",
    "plt.title('Fequency of Sentiment Scores')\n",
    "plt.xlabel('Sentiment Scores')\n",
    "plt.ylabel('Number of Occurances')\n",
    "\n",
    "\n",
    "\n",
    "\n",
    "\n",
    "plt.tight_layout()\n",
    "\n",
    "plt.show()"
   ]
  },
  {
   "cell_type": "code",
   "execution_count": 22,
   "metadata": {},
   "outputs": [
    {
     "data": {
      "image/png": "[encoded data removed]",
      "text/plain": [
       "<Figure size 432x288 with 1 Axes>"
      ]
     },
     "metadata": {
      "needs_background": "light"
     },
     "output_type": "display_data"
    }
   ],
   "source": [
    "bins =[-1,-.9,-.8,-.7,-.6,-.5,-.4,-.3,-.2,-.1,0,.1,.2,.3,.4,.5,.6,.7,.8,.9,1]\n",
    "\n",
    "\n",
    "\n",
    "sentiment = df.sentiment[df.sentiment!=0]\n",
    "\n",
    "plt.hist(sentiment,bins=bins,edgecolor='black')\n",
    "\n",
    "\n",
    "plt.title('Fequency of Sentiment Scores With Zeros Removed')\n",
    "plt.xlabel('Sentiment Scores')\n",
    "plt.ylabel('Number of Occurances')\n",
    "\n",
    "\n",
    "\n",
    "\n",
    "\n",
    "plt.tight_layout()\n",
    "\n",
    "plt.show()"
   ]
  },
  {
   "cell_type": "markdown",
   "metadata": {},
   "source": [
    "### What is frequency distribution of intensity scores?"
   ]
  },
  {
   "cell_type": "code",
   "execution_count": 27,
   "metadata": {},
   "outputs": [
    {
     "data": {
      "image/png": "[encoded data removed]",
      "text/plain": [
       "<Figure size 432x288 with 1 Axes>"
      ]
     },
     "metadata": {
      "needs_background": "light"
     },
     "output_type": "display_data"
    }
   ],
   "source": [
    "bins =[-1,-.9,-.8,-.7,-.6,-.5,-.4,-.3,-.2,-.1,0,.1,.2,.3,.4,.5,.6,.7,.8,.9,1]\n",
    "\n",
    "\n",
    "\n",
    "sentiment = df['intensity']\n",
    "\n",
    "plt.hist(sentiment,bins=bins,edgecolor='black')\n",
    "\n",
    "\n",
    "plt.title('Fequency of Sentiment Scores')\n",
    "plt.xlabel('Sentiment Scores')\n",
    "plt.ylabel('Number of Occurances')\n",
    "\n",
    "\n",
    "\n",
    "\n",
    "\n",
    "plt.tight_layout()\n",
    "\n",
    "plt.show()"
   ]
  },
  {
   "cell_type": "markdown",
   "metadata": {},
   "source": [
    "### What do high, low, and zero sentiment flavor texts look like?"
   ]
  },
  {
   "cell_type": "code",
   "execution_count": 23,
   "metadata": {},
   "outputs": [
    {
     "data": {
      "text/html": [
       "<div>\n",
       "<style scoped>\n",
       "    .dataframe tbody tr th:only-of-type {\n",
       "        vertical-align: middle;\n",
       "    }\n",
       "\n",
       "    .dataframe tbody tr th {\n",
       "        vertical-align: top;\n",
       "    }\n",
       "\n",
       "    .dataframe thead th {\n",
       "        text-align: right;\n",
       "    }\n",
       "</style>\n",
       "<table border=\"1\" class=\"dataframe\">\n",
       "  <thead>\n",
       "    <tr style=\"text-align: right;\">\n",
       "      <th></th>\n",
       "      <th>color</th>\n",
       "      <th>types</th>\n",
       "      <th>cost</th>\n",
       "      <th>rarity</th>\n",
       "      <th>flavor</th>\n",
       "      <th>sentiment</th>\n",
       "      <th>intensity</th>\n",
       "    </tr>\n",
       "  </thead>\n",
       "  <tbody>\n",
       "    <tr>\n",
       "      <td>5112</td>\n",
       "      <td>Black</td>\n",
       "      <td>Creature</td>\n",
       "      <td>3.0</td>\n",
       "      <td>common</td>\n",
       "      <td>\"We mourn our dead. We shroud our dead. We bury our dead. Too often, it seems, we must kill our dead again.\"</td>\n",
       "      <td>-0.98</td>\n",
       "      <td>0.98</td>\n",
       "    </tr>\n",
       "    <tr>\n",
       "      <td>9135</td>\n",
       "      <td>White</td>\n",
       "      <td>Enchantment</td>\n",
       "      <td>2.0</td>\n",
       "      <td>uncommon</td>\n",
       "      <td>No one spoke. There was no need. The threat of the Eldrazi presented a simple choice: lay down your weapons and die for nothing, or hold them fast and die for something.</td>\n",
       "      <td>-0.96</td>\n",
       "      <td>0.96</td>\n",
       "    </tr>\n",
       "    <tr>\n",
       "      <td>2943</td>\n",
       "      <td>White</td>\n",
       "      <td>Creature</td>\n",
       "      <td>6.0</td>\n",
       "      <td>uncommon</td>\n",
       "      <td>\"No more fear. No more failure. No more death. No more!\"</td>\n",
       "      <td>-0.96</td>\n",
       "      <td>0.96</td>\n",
       "    </tr>\n",
       "    <tr>\n",
       "      <td>9904</td>\n",
       "      <td>Red</td>\n",
       "      <td>Creature</td>\n",
       "      <td>5.0</td>\n",
       "      <td>common</td>\n",
       "      <td>Some tried cremating their dead to stop the ghoulcallers. But the dead returned, furious about their fate.</td>\n",
       "      <td>-0.95</td>\n",
       "      <td>0.95</td>\n",
       "    </tr>\n",
       "    <tr>\n",
       "      <td>11432</td>\n",
       "      <td>Black</td>\n",
       "      <td>Creature</td>\n",
       "      <td>3.0</td>\n",
       "      <td>common</td>\n",
       "      <td>There are laws against it, but the dead have no one to complain to and the living are too frightened to investigate.</td>\n",
       "      <td>-0.95</td>\n",
       "      <td>0.95</td>\n",
       "    </tr>\n",
       "  </tbody>\n",
       "</table>\n",
       "</div>"
      ],
      "text/plain": [
       "       color        types  cost    rarity  \\\n",
       "5112   Black  Creature     3.0   common     \n",
       "9135   White  Enchantment  2.0   uncommon   \n",
       "2943   White  Creature     6.0   uncommon   \n",
       "9904   Red    Creature     5.0   common     \n",
       "11432  Black  Creature     3.0   common     \n",
       "\n",
       "                                                                                                                                                                          flavor  \\\n",
       "5112   \"We mourn our dead. We shroud our dead. We bury our dead. Too often, it seems, we must kill our dead again.\"                                                                \n",
       "9135   No one spoke. There was no need. The threat of the Eldrazi presented a simple choice: lay down your weapons and die for nothing, or hold them fast and die for something.   \n",
       "2943   \"No more fear. No more failure. No more death. No more!\"                                                                                                                    \n",
       "9904   Some tried cremating their dead to stop the ghoulcallers. But the dead returned, furious about their fate.                                                                  \n",
       "11432  There are laws against it, but the dead have no one to complain to and the living are too frightened to investigate.                                                        \n",
       "\n",
       "       sentiment  intensity  \n",
       "5112  -0.98       0.98       \n",
       "9135  -0.96       0.96       \n",
       "2943  -0.96       0.96       \n",
       "9904  -0.95       0.95       \n",
       "11432 -0.95       0.95       "
      ]
     },
     "execution_count": 23,
     "metadata": {},
     "output_type": "execute_result"
    }
   ],
   "source": [
    "df.sort_values('sentiment').head()"
   ]
  },
  {
   "cell_type": "code",
   "execution_count": 26,
   "metadata": {},
   "outputs": [
    {
     "data": {
      "text/html": [
       "<div>\n",
       "<style scoped>\n",
       "    .dataframe tbody tr th:only-of-type {\n",
       "        vertical-align: middle;\n",
       "    }\n",
       "\n",
       "    .dataframe tbody tr th {\n",
       "        vertical-align: top;\n",
       "    }\n",
       "\n",
       "    .dataframe thead th {\n",
       "        text-align: right;\n",
       "    }\n",
       "</style>\n",
       "<table border=\"1\" class=\"dataframe\">\n",
       "  <thead>\n",
       "    <tr style=\"text-align: right;\">\n",
       "      <th></th>\n",
       "      <th>flavor</th>\n",
       "      <th>sentiment</th>\n",
       "    </tr>\n",
       "  </thead>\n",
       "  <tbody>\n",
       "    <tr>\n",
       "      <td>9887</td>\n",
       "      <td>Some spectators love an underdog, but others are just as happy to support a proven winner.</td>\n",
       "      <td>0.95</td>\n",
       "    </tr>\n",
       "    <tr>\n",
       "      <td>8850</td>\n",
       "      <td>MORE TO LOVE: Friendly, nature-loving, Bunyonesque SEM seeks SEF looking for a huge commitment. . . . seeks atog prince</td>\n",
       "      <td>0.94</td>\n",
       "    </tr>\n",
       "    <tr>\n",
       "      <td>5313</td>\n",
       "      <td>\"When I wish to be strong, I train. When I wish to be wise, I study. When I wish to rest, I start again.\"</td>\n",
       "      <td>0.93</td>\n",
       "    </tr>\n",
       "    <tr>\n",
       "      <td>11773</td>\n",
       "      <td>To become an officer, an Icatian Soldier had to pass a series of tests. These evaluated not only fighting and leadership skills, but also integrity, honor, and moral strength.</td>\n",
       "      <td>0.93</td>\n",
       "    </tr>\n",
       "    <tr>\n",
       "      <td>7967</td>\n",
       "      <td>If you find yourself and a friend being chased by a King Cheetah, you have but one chance: Trip your friend. —Suq'Ata wisdom</td>\n",
       "      <td>0.93</td>\n",
       "    </tr>\n",
       "  </tbody>\n",
       "</table>\n",
       "</div>"
      ],
      "text/plain": [
       "                                                                                                                                                                                flavor  \\\n",
       "9887   Some spectators love an underdog, but others are just as happy to support a proven winner.                                                                                        \n",
       "8850   MORE TO LOVE: Friendly, nature-loving, Bunyonesque SEM seeks SEF looking for a huge commitment. . . . seeks atog prince                                                           \n",
       "5313   \"When I wish to be strong, I train. When I wish to be wise, I study. When I wish to rest, I start again.\"                                                                         \n",
       "11773  To become an officer, an Icatian Soldier had to pass a series of tests. These evaluated not only fighting and leadership skills, but also integrity, honor, and moral strength.   \n",
       "7967   If you find yourself and a friend being chased by a King Cheetah, you have but one chance: Trip your friend. —Suq'Ata wisdom                                                      \n",
       "\n",
       "       sentiment  \n",
       "9887   0.95       \n",
       "8850   0.94       \n",
       "5313   0.93       \n",
       "11773  0.93       \n",
       "7967   0.93       "
      ]
     },
     "execution_count": 26,
     "metadata": {},
     "output_type": "execute_result"
    }
   ],
   "source": [
    "df[['flavor','sentiment']].sort_values('sentiment',ascending=False).head()"
   ]
  },
  {
   "cell_type": "code",
   "execution_count": null,
   "metadata": {},
   "outputs": [],
   "source": [
    "df.sort_values('sentiment',ascending=False).head()"
   ]
  },
  {
   "cell_type": "code",
   "execution_count": null,
   "metadata": {},
   "outputs": [],
   "source": [
    "import seaborn\n",
    "\n",
    "seaborn.countplot(x='colorIdentity', data=df, color=['Green','Red'])"
   ]
  },
  {
   "cell_type": "code",
   "execution_count": null,
   "metadata": {},
   "outputs": [],
   "source": [
    "plt.bar(df.colorIdentity,df.sentiment)"
   ]
  },
  {
   "cell_type": "markdown",
   "metadata": {},
   "source": [
    "### How balanced in the data?"
   ]
  },
  {
   "cell_type": "code",
   "execution_count": null,
   "metadata": {},
   "outputs": [],
   "source": [
    "for column in df.columns:\n",
    "    \n",
    "    print(f'{column} value counts')\n",
    "    print(df[f'{column}'].value_counts())\n",
    "    print('')"
   ]
  },
  {
   "cell_type": "code",
   "execution_count": null,
   "metadata": {},
   "outputs": [],
   "source": [
    "df.colorIdentity.plot()\n",
    "    "
   ]
  },
  {
   "cell_type": "code",
   "execution_count": null,
   "metadata": {},
   "outputs": [],
   "source": [
    "df[df.sentiment==0].count()/df.sentiment.count()"
   ]
  },
  {
   "cell_type": "markdown",
   "metadata": {},
   "source": [
    "# remove 7968 6562"
   ]
  },
  {
   "cell_type": "code",
   "execution_count": null,
   "metadata": {},
   "outputs": [],
   "source": [
    "colors = ['White','Blue','Black','Red','Green']\n",
    "\n",
    "for color in colors:\n",
    "\n",
    "    number = df[df.colorIdentity==f'{color}'].sentiment.mean()\n",
    "      \n",
    "    print(f'{color}: {number}')"
   ]
  },
  {
   "cell_type": "code",
   "execution_count": null,
   "metadata": {},
   "outputs": [],
   "source": [
    "colors = ['White','Blue','Black','Red','Green']\n",
    "\n",
    "for color in colors:\n",
    "\n",
    "    number = df[df.colorIdentity==f'{color}'].intensity.mean()\n",
    "      \n",
    "    print(f'{color}: {number}')"
   ]
  },
  {
   "cell_type": "code",
   "execution_count": null,
   "metadata": {},
   "outputs": [],
   "source": [
    "colors = ['White','Blue','Black','Red','Green']\n",
    "\n",
    "for color in colors:\n",
    "\n",
    "    number = df[df.colorIdentity==f'{color}'].intensity.median()\n",
    "      \n",
    "    print(f'{color}: {number}')"
   ]
  },
  {
   "cell_type": "code",
   "execution_count": null,
   "metadata": {},
   "outputs": [],
   "source": [
    "colors = ['White','Blue','Black','Red','Green']\n",
    "\n",
    "for color in colors:\n",
    "\n",
    "    number = df[df.colorIdentity==f'{color}'][df.sentiment!=0].sentiment.median()\n",
    "      \n",
    "    print(f'{color}: {number}')"
   ]
  },
  {
   "cell_type": "code",
   "execution_count": null,
   "metadata": {},
   "outputs": [],
   "source": [
    "df[df.sentiment==0].colorIdentity.value_counts()"
   ]
  },
  {
   "cell_type": "code",
   "execution_count": null,
   "metadata": {},
   "outputs": [],
   "source": [
    "rarity = ['common','uncommon','rare','mythic']\n",
    "\n",
    "for grade in rarity:\n",
    "\n",
    "    number = df[df.rarity==f'{grade}'].sentiment.mean()\n",
    "      \n",
    "    print(f'{grade}: {number}')"
   ]
  },
  {
   "cell_type": "code",
   "execution_count": null,
   "metadata": {},
   "outputs": [],
   "source": [
    "rarity = ['common','uncommon','rare','mythic']\n",
    "\n",
    "for grade in rarity:\n",
    "\n",
    "    number = df[df.rarity==f'{grade}'].intensity.median()\n",
    "      \n",
    "    print(f'{grade}: {number}')"
   ]
  },
  {
   "cell_type": "code",
   "execution_count": null,
   "metadata": {},
   "outputs": [],
   "source": [
    "types = ['Artifact','Creature','Enchantment','Land','Planeswalker','Instant','Sorcery']\n",
    "\n",
    "for group in types:\n",
    "\n",
    "    number = df[df.types==f'{group}'].sentiment.mean()\n",
    "      \n",
    "    print(f'{group}: {number}')"
   ]
  },
  {
   "cell_type": "code",
   "execution_count": null,
   "metadata": {},
   "outputs": [],
   "source": [
    "types = ['Artifact','Creature','Enchantment','Land','Planeswalker','Instant','Sorcery']\n",
    "\n",
    "for group in types:\n",
    "\n",
    "    number = df[df.types==f'{group}'].intensity.mean()\n",
    "      \n",
    "    print(f'{group}: {number}')"
   ]
  },
  {
   "cell_type": "code",
   "execution_count": null,
   "metadata": {},
   "outputs": [],
   "source": [
    "costs = [1.0,2.0,3.0,4.0,5.0,6.0,7.0,8.0,9.0,10.0,11.0,12.0]\n",
    "\n",
    "for cost in costs: \n",
    "\n",
    "    number = df[df.convertedManaCost==float(f'{cost}')].sentiment.mean()\n",
    "    \n",
    "    number2 = df[df.convertedManaCost==float(f'{cost}')].intensity.mean()\n",
    "      \n",
    "    print(f'{cost}: {number}  {number2}')"
   ]
  },
  {
   "cell_type": "markdown",
   "metadata": {},
   "source": [
    "# Look at a frquency distribution of total cards into sentament and intensity buckets\n",
    "\n",
    "# Examin frequency of positive and negative sentament "
   ]
  },
  {
   "cell_type": "code",
   "execution_count": null,
   "metadata": {},
   "outputs": [],
   "source": []
  },
  {
   "cell_type": "code",
   "execution_count": null,
   "metadata": {},
   "outputs": [],
   "source": []
  }
 ],
 "metadata": {
  "kernelspec": {
   "display_name": "Python 3",
   "language": "python",
   "name": "python3"
  },
  "language_info": {
   "codemirror_mode": {
    "name": "ipython",
    "version": 3
   },
   "file_extension": ".py",
   "mimetype": "text/x-python",
   "name": "python",
   "nbconvert_exporter": "python",
   "pygments_lexer": "ipython3",
   "version": "3.7.4"
  }
 },
 "nbformat": 4,
 "nbformat_minor": 2
}
