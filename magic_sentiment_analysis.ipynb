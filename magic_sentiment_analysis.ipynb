{
 "cells": [
  {
   "cell_type": "markdown",
   "metadata": {},
   "source": [
    "## Goals:\n",
    "\n",
    "**1. Determine drivers of sentiment in the flavor text in Magic: The Gathering cards.**\n",
    "\n",
    "**2. Develop a model to predict the sentiment of flavor text in Magic: The Gathering cards.**"
   ]
  },
  {
   "cell_type": "code",
   "execution_count": 1,
   "metadata": {},
   "outputs": [],
   "source": [
    "# imports\n",
    "\n",
    "import pandas\n",
    "import prepare as p"
   ]
  },
  {
   "cell_type": "markdown",
   "metadata": {},
   "source": [
    "# Prepare\n",
    "\n",
    "A CSV, containing an up to date breakdown of each Magic card that has been printed so far, was obtained from MTGJSON.com. The data was then read into a pandas dataframe."
   ]
  },
  {
   "cell_type": "code",
   "execution_count": 2,
   "metadata": {},
   "outputs": [
    {
     "name": "stderr",
     "output_type": "stream",
     "text": [
      "/usr/local/anaconda3/lib/python3.7/site-packages/IPython/core/interactiveshell.py:3058: DtypeWarning: Columns (5,8,14,38) have mixed types. Specify dtype option on import or set low_memory=False.\n",
      "  interactivity=interactivity, compiler=compiler, result=result)\n"
     ]
    }
   ],
   "source": [
    "df = pandas.read_csv('cards.csv')"
   ]
  },
  {
   "cell_type": "markdown",
   "metadata": {},
   "source": [
    "The dataframe contained 50,412 rows and 71 columns\n",
    "\n",
    "The process of preparing the data begins by selecting columns that are patentualy relivent to sentiment."
   ]
  },
  {
   "cell_type": "code",
   "execution_count": 3,
   "metadata": {},
   "outputs": [
    {
     "data": {
      "text/plain": [
       "(50412, 71)"
      ]
     },
     "execution_count": 3,
     "metadata": {},
     "output_type": "execute_result"
    }
   ],
   "source": [
    "df.shape"
   ]
  },
  {
   "cell_type": "code",
   "execution_count": 4,
   "metadata": {},
   "outputs": [
    {
     "data": {
      "text/plain": [
       "Index(['index', 'id', 'artist', 'borderColor', 'colorIdentity',\n",
       "       'colorIndicator', 'colors', 'convertedManaCost', 'duelDeck',\n",
       "       'edhrecRank', 'faceConvertedManaCost', 'flavorText', 'frameEffect',\n",
       "       'frameEffects', 'frameVersion', 'hand', 'hasFoil', 'hasNoDeckLimit',\n",
       "       'hasNonFoil', 'isAlternative', 'isArena', 'isBuyABox', 'isDateStamped',\n",
       "       'isFullArt', 'isMtgo', 'isOnlineOnly', 'isOversized', 'isPaper',\n",
       "       'isPromo', 'isReprint', 'isReserved', 'isStarter', 'isStorySpotlight',\n",
       "       'isTextless', 'isTimeshifted', 'layout', 'leadershipSkills', 'life',\n",
       "       'loyalty', 'manaCost', 'mcmId', 'mcmMetaId', 'mtgArenaId', 'mtgoFoilId',\n",
       "       'mtgoId', 'multiverseId', 'name', 'names', 'number', 'originalText',\n",
       "       'originalType', 'otherFaceIds', 'power', 'printings', 'purchaseUrls',\n",
       "       'rarity', 'scryfallId', 'scryfallIllustrationId', 'scryfallOracleId',\n",
       "       'setCode', 'side', 'subtypes', 'supertypes', 'tcgplayerProductId',\n",
       "       'text', 'toughness', 'type', 'types', 'uuid', 'variations',\n",
       "       'watermark'],\n",
       "      dtype='object')"
      ]
     },
     "execution_count": 4,
     "metadata": {},
     "output_type": "execute_result"
    }
   ],
   "source": [
    "df.columns"
   ]
  },
  {
   "cell_type": "code",
   "execution_count": 5,
   "metadata": {},
   "outputs": [],
   "source": [
    "df = df[['colorIdentity','types','convertedManaCost','rarity','flavorText','isPaper']]"
   ]
  },
  {
   "cell_type": "code",
   "execution_count": 6,
   "metadata": {},
   "outputs": [
    {
     "data": {
      "text/html": [
       "<div>\n",
       "<style scoped>\n",
       "    .dataframe tbody tr th:only-of-type {\n",
       "        vertical-align: middle;\n",
       "    }\n",
       "\n",
       "    .dataframe tbody tr th {\n",
       "        vertical-align: top;\n",
       "    }\n",
       "\n",
       "    .dataframe thead th {\n",
       "        text-align: right;\n",
       "    }\n",
       "</style>\n",
       "<table border=\"1\" class=\"dataframe\">\n",
       "  <thead>\n",
       "    <tr style=\"text-align: right;\">\n",
       "      <th></th>\n",
       "      <th>colorIdentity</th>\n",
       "      <th>types</th>\n",
       "      <th>convertedManaCost</th>\n",
       "      <th>rarity</th>\n",
       "      <th>flavorText</th>\n",
       "    </tr>\n",
       "  </thead>\n",
       "  <tbody>\n",
       "    <tr>\n",
       "      <td>0</td>\n",
       "      <td>G</td>\n",
       "      <td>Enchantment</td>\n",
       "      <td>4.0</td>\n",
       "      <td>rare</td>\n",
       "      <td>NaN</td>\n",
       "    </tr>\n",
       "    <tr>\n",
       "      <td>1</td>\n",
       "      <td>U</td>\n",
       "      <td>Creature</td>\n",
       "      <td>3.0</td>\n",
       "      <td>uncommon</td>\n",
       "      <td>They brandish their latest theories as warrior...</td>\n",
       "    </tr>\n",
       "    <tr>\n",
       "      <td>2</td>\n",
       "      <td>U,W</td>\n",
       "      <td>Land</td>\n",
       "      <td>0.0</td>\n",
       "      <td>rare</td>\n",
       "      <td>NaN</td>\n",
       "    </tr>\n",
       "    <tr>\n",
       "      <td>3</td>\n",
       "      <td>B</td>\n",
       "      <td>Instant</td>\n",
       "      <td>3.0</td>\n",
       "      <td>common</td>\n",
       "      <td>One rarely notices a heartbeat, save when it i...</td>\n",
       "    </tr>\n",
       "    <tr>\n",
       "      <td>4</td>\n",
       "      <td>G</td>\n",
       "      <td>Instant</td>\n",
       "      <td>2.0</td>\n",
       "      <td>common</td>\n",
       "      <td>The power of the wild, concentrated in a singl...</td>\n",
       "    </tr>\n",
       "  </tbody>\n",
       "</table>\n",
       "</div>"
      ],
      "text/plain": [
       "  colorIdentity        types  convertedManaCost    rarity  \\\n",
       "0             G  Enchantment                4.0      rare   \n",
       "1             U     Creature                3.0  uncommon   \n",
       "2           U,W         Land                0.0      rare   \n",
       "3             B      Instant                3.0    common   \n",
       "4             G      Instant                2.0    common   \n",
       "\n",
       "                                          flavorText  \n",
       "0                                                NaN  \n",
       "1  They brandish their latest theories as warrior...  \n",
       "2                                                NaN  \n",
       "3  One rarely notices a heartbeat, save when it i...  \n",
       "4  The power of the wild, concentrated in a singl...  "
      ]
     },
     "execution_count": 6,
     "metadata": {},
     "output_type": "execute_result"
    }
   ],
   "source": [
    "df = df[df.isPaper==1]\n",
    "df = df.drop(columns='isPaper')\n",
    "df.head()"
   ]
  },
  {
   "cell_type": "code",
   "execution_count": 7,
   "metadata": {},
   "outputs": [],
   "source": [
    "df = df[df.flavorText.notna()]"
   ]
  },
  {
   "cell_type": "code",
   "execution_count": 8,
   "metadata": {},
   "outputs": [
    {
     "data": {
      "text/html": [
       "<div>\n",
       "<style scoped>\n",
       "    .dataframe tbody tr th:only-of-type {\n",
       "        vertical-align: middle;\n",
       "    }\n",
       "\n",
       "    .dataframe tbody tr th {\n",
       "        vertical-align: top;\n",
       "    }\n",
       "\n",
       "    .dataframe thead th {\n",
       "        text-align: right;\n",
       "    }\n",
       "</style>\n",
       "<table border=\"1\" class=\"dataframe\">\n",
       "  <thead>\n",
       "    <tr style=\"text-align: right;\">\n",
       "      <th></th>\n",
       "      <th>colorIdentity</th>\n",
       "      <th>types</th>\n",
       "      <th>convertedManaCost</th>\n",
       "      <th>rarity</th>\n",
       "      <th>flavorText</th>\n",
       "    </tr>\n",
       "  </thead>\n",
       "  <tbody>\n",
       "    <tr>\n",
       "      <td>1</td>\n",
       "      <td>U</td>\n",
       "      <td>Creature</td>\n",
       "      <td>3.0</td>\n",
       "      <td>uncommon</td>\n",
       "      <td>They brandish their latest theories as warrior...</td>\n",
       "    </tr>\n",
       "    <tr>\n",
       "      <td>3</td>\n",
       "      <td>B</td>\n",
       "      <td>Instant</td>\n",
       "      <td>3.0</td>\n",
       "      <td>common</td>\n",
       "      <td>One rarely notices a heartbeat, save when it i...</td>\n",
       "    </tr>\n",
       "    <tr>\n",
       "      <td>4</td>\n",
       "      <td>G</td>\n",
       "      <td>Instant</td>\n",
       "      <td>2.0</td>\n",
       "      <td>common</td>\n",
       "      <td>The power of the wild, concentrated in a singl...</td>\n",
       "    </tr>\n",
       "    <tr>\n",
       "      <td>5</td>\n",
       "      <td>B</td>\n",
       "      <td>Sorcery</td>\n",
       "      <td>4.0</td>\n",
       "      <td>uncommon</td>\n",
       "      <td>In the aftermath of war, when the slaying is l...</td>\n",
       "    </tr>\n",
       "    <tr>\n",
       "      <td>6</td>\n",
       "      <td>U</td>\n",
       "      <td>Creature</td>\n",
       "      <td>5.0</td>\n",
       "      <td>uncommon</td>\n",
       "      <td>\"The East Wind, an interloper in the dominions...</td>\n",
       "    </tr>\n",
       "  </tbody>\n",
       "</table>\n",
       "</div>"
      ],
      "text/plain": [
       "  colorIdentity     types  convertedManaCost    rarity  \\\n",
       "1             U  Creature                3.0  uncommon   \n",
       "3             B   Instant                3.0    common   \n",
       "4             G   Instant                2.0    common   \n",
       "5             B   Sorcery                4.0  uncommon   \n",
       "6             U  Creature                5.0  uncommon   \n",
       "\n",
       "                                          flavorText  \n",
       "1  They brandish their latest theories as warrior...  \n",
       "3  One rarely notices a heartbeat, save when it i...  \n",
       "4  The power of the wild, concentrated in a singl...  \n",
       "5  In the aftermath of war, when the slaying is l...  \n",
       "6  \"The East Wind, an interloper in the dominions...  "
      ]
     },
     "execution_count": 8,
     "metadata": {},
     "output_type": "execute_result"
    }
   ],
   "source": [
    "df.head()"
   ]
  },
  {
   "cell_type": "code",
   "execution_count": 9,
   "metadata": {},
   "outputs": [
    {
     "data": {
      "text/plain": [
       "(25557, 5)"
      ]
     },
     "execution_count": 9,
     "metadata": {},
     "output_type": "execute_result"
    }
   ],
   "source": [
    "df.shape"
   ]
  },
  {
   "cell_type": "code",
   "execution_count": 14,
   "metadata": {},
   "outputs": [],
   "source": [
    "colors = ['W','U','B','R','G']\n",
    "\n",
    "df = df.loc[df.colorIdentity.isin(colors)]"
   ]
  },
  {
   "cell_type": "code",
   "execution_count": 15,
   "metadata": {},
   "outputs": [
    {
     "data": {
      "text/plain": [
       "(19867, 5)"
      ]
     },
     "execution_count": 15,
     "metadata": {},
     "output_type": "execute_result"
    }
   ],
   "source": [
    "df.shape"
   ]
  },
  {
   "cell_type": "code",
   "execution_count": 17,
   "metadata": {},
   "outputs": [
    {
     "data": {
      "text/plain": [
       "Creature                             11187\n",
       "Instant                               3081\n",
       "Sorcery                               2921\n",
       "Enchantment                           2181\n",
       "Artifact,Creature                      145\n",
       "Land                                   105\n",
       "Enchantment,Creature                    87\n",
       "Artifact                                58\n",
       "Tribal,Instant                          31\n",
       "Artifact,Land                           20\n",
       "Tribal,Enchantment                      19\n",
       "Tribal,Sorcery                          18\n",
       "Enchantment,Artifact                     6\n",
       "Summon                                   3\n",
       "Planeswalker                             1\n",
       "Scariest,Creature,You’ll,Ever,See        1\n",
       "instant                                  1\n",
       "Eaturecray                               1\n",
       "Land,Creature                            1\n",
       "Name: types, dtype: int64"
      ]
     },
     "execution_count": 17,
     "metadata": {},
     "output_type": "execute_result"
    }
   ],
   "source": [
    "df.types.value_counts()"
   ]
  },
  {
   "cell_type": "code",
   "execution_count": 23,
   "metadata": {},
   "outputs": [
    {
     "data": {
      "text/html": [
       "<div>\n",
       "<style scoped>\n",
       "    .dataframe tbody tr th:only-of-type {\n",
       "        vertical-align: middle;\n",
       "    }\n",
       "\n",
       "    .dataframe tbody tr th {\n",
       "        vertical-align: top;\n",
       "    }\n",
       "\n",
       "    .dataframe thead th {\n",
       "        text-align: right;\n",
       "    }\n",
       "</style>\n",
       "<table border=\"1\" class=\"dataframe\">\n",
       "  <thead>\n",
       "    <tr style=\"text-align: right;\">\n",
       "      <th></th>\n",
       "      <th>colorIdentity</th>\n",
       "      <th>types</th>\n",
       "      <th>convertedManaCost</th>\n",
       "      <th>rarity</th>\n",
       "      <th>flavorText</th>\n",
       "    </tr>\n",
       "  </thead>\n",
       "  <tbody>\n",
       "    <tr>\n",
       "      <td>20122</td>\n",
       "      <td>R</td>\n",
       "      <td>Planeswalker</td>\n",
       "      <td>4.0</td>\n",
       "      <td>mythic</td>\n",
       "      <td>\"Sure, I could set things on fire by myself. B...</td>\n",
       "    </tr>\n",
       "  </tbody>\n",
       "</table>\n",
       "</div>"
      ],
      "text/plain": [
       "      colorIdentity         types  convertedManaCost  rarity  \\\n",
       "20122             R  Planeswalker                4.0  mythic   \n",
       "\n",
       "                                              flavorText  \n",
       "20122  \"Sure, I could set things on fire by myself. B...  "
      ]
     },
     "execution_count": 23,
     "metadata": {},
     "output_type": "execute_result"
    }
   ],
   "source": []
  },
  {
   "cell_type": "code",
   "execution_count": null,
   "metadata": {},
   "outputs": [],
   "source": []
  },
  {
   "cell_type": "code",
   "execution_count": null,
   "metadata": {},
   "outputs": [],
   "source": []
  },
  {
   "cell_type": "code",
   "execution_count": null,
   "metadata": {},
   "outputs": [],
   "source": []
  },
  {
   "cell_type": "code",
   "execution_count": null,
   "metadata": {},
   "outputs": [],
   "source": []
  },
  {
   "cell_type": "code",
   "execution_count": null,
   "metadata": {},
   "outputs": [],
   "source": []
  },
  {
   "cell_type": "code",
   "execution_count": null,
   "metadata": {},
   "outputs": [],
   "source": []
  }
 ],
 "metadata": {
  "kernelspec": {
   "display_name": "Python 3",
   "language": "python",
   "name": "python3"
  },
  "language_info": {
   "codemirror_mode": {
    "name": "ipython",
    "version": 3
   },
   "file_extension": ".py",
   "mimetype": "text/x-python",
   "name": "python",
   "nbconvert_exporter": "python",
   "pygments_lexer": "ipython3",
   "version": "3.7.4"
  }
 },
 "nbformat": 4,
 "nbformat_minor": 2
}
